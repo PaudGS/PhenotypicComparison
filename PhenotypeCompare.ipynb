{
 "cells": [
  {
   "cell_type": "code",
   "execution_count": 52,
   "metadata": {},
   "outputs": [],
   "source": [
    "import json\n",
    "import requests\n",
    "import time\n",
    "import itertools\n",
    "from typing import List\n",
    "from collections import Counter\n",
    "import random\n",
    "import math\n",
    "import matplotlib.pyplot as plt\n",
    "import numpy as np\n",
    "import pandas as pd"
   ]
  },
  {
   "cell_type": "markdown",
   "metadata": {},
   "source": [
    "<h3>Load the HPO ontology (Release 2023-07-21)</h3>"
   ]
  },
  {
   "cell_type": "code",
   "execution_count": 53,
   "metadata": {},
   "outputs": [],
   "source": [
    "f = open(\"ontologies/hp.json\")\n",
    "data = json.load(f)"
   ]
  },
  {
   "cell_type": "code",
   "execution_count": 54,
   "metadata": {},
   "outputs": [],
   "source": [
    "def getHPO(url: str) -> str:\n",
    "    '''\n",
    "    Gets the url stored in the HPO ontology in the following format\n",
    "    http://putl.obolibrary.org/obo/HP_XXXXXXXX\n",
    "    and returns the HPO code in the following format\n",
    "    HP_XXXXXXXX\n",
    "    '''\n",
    "    return url.split('/',5)[4]"
   ]
  },
  {
   "cell_type": "code",
   "execution_count": 55,
   "metadata": {},
   "outputs": [],
   "source": [
    "def traverseGraph(url: str, n: int, data=data) -> str:\n",
    "    '''\n",
    "    Given a url (HPO id in the HPO ontology) and a int n\n",
    "    move through the ontology n levels above (n > 0) or n levels\n",
    "    below (n < 0). If not enough levels, return the maximum reached\n",
    "    '''\n",
    "    if n < 0:\n",
    "        direction = 'sub'\n",
    "        current = 'obj'\n",
    "    else:\n",
    "        direction = 'obj'\n",
    "        current = 'sub'\n",
    "    n = abs(n)\n",
    "    for j in range(n):\n",
    "        cand = []\n",
    "        for i in data['graphs'][0]['edges']:\n",
    "            if(url == i[current]):\n",
    "                cand.append(i[direction])\n",
    "        url = random.choice(cand) if len(cand) > 0 else url\n",
    "    return url"
   ]
  },
  {
   "cell_type": "code",
   "execution_count": 56,
   "metadata": {},
   "outputs": [],
   "source": [
    "def prepareRequest(arr: List[str]) -> str:\n",
    "    '''\n",
    "    Given an array (arr) with format [setA,setB], where setA and setB are lists of HPO\n",
    "    return a string in the following format\n",
    "    HPOA1,HPOA2,...,HPOAN/HPOB1,HPOB2,...,HPOBN\n",
    "    where HPOA and HPOB belong to setA and setB respectively\n",
    "    '''\n",
    "    s = ''\n",
    "    j = 0\n",
    "    for i in arr[0]:\n",
    "        s += i\n",
    "        if(j<len(arr[0])-1):\n",
    "            s += ','\n",
    "        j+=1\n",
    "    s += '/'\n",
    "    j = 0\n",
    "    for i in arr[1]:\n",
    "        s += i\n",
    "        if(j<len(arr[1])-1):\n",
    "            s += ','\n",
    "        j+=1\n",
    "    return s"
   ]
  },
  {
   "cell_type": "markdown",
   "metadata": {},
   "source": [
    "<h3>Testing the Monarch Initiative API with simple tests</h3>"
   ]
  },
  {
   "cell_type": "code",
   "execution_count": 57,
   "metadata": {},
   "outputs": [],
   "source": [
    "randomHPO = random.sample(range(len(data['graphs'][0]['nodes'])),5)"
   ]
  },
  {
   "cell_type": "code",
   "execution_count": 58,
   "metadata": {},
   "outputs": [
    {
     "data": {
      "text/plain": [
       "['HP:0011119', 'HP:0031873', 'HP:0410400', 'HP:0040331', 'HP:0007728']"
      ]
     },
     "execution_count": 58,
     "metadata": {},
     "output_type": "execute_result"
    }
   ],
   "source": [
    "setA_1 = []\n",
    "for i in randomHPO:\n",
    "    setA_1.append(getHPO(data['graphs'][0]['nodes'][i]['id']))\n",
    "setA_1 = list(map(lambda x: x.replace('_',':'), setA_1))\n",
    "setA_1"
   ]
  },
  {
   "cell_type": "code",
   "execution_count": 59,
   "metadata": {},
   "outputs": [],
   "source": [
    "randomHPO1= random.sample(range(len(data['graphs'][0]['nodes'])),5)"
   ]
  },
  {
   "cell_type": "code",
   "execution_count": 60,
   "metadata": {},
   "outputs": [],
   "source": [
    "setB_1 = []\n",
    "for i in randomHPO1:\n",
    "    setB_1.append(getHPO(data['graphs'][0]['nodes'][i]['id']))\n",
    "setB_1 = list(map(lambda x: x.replace('_',':'), setB_1))"
   ]
  },
  {
   "cell_type": "markdown",
   "metadata": {},
   "source": [
    "<p>Test 1: Two random sets of equal length (setA_1,setB_1)</p>"
   ]
  },
  {
   "cell_type": "code",
   "execution_count": 61,
   "metadata": {},
   "outputs": [
    {
     "name": "stdout",
     "output_type": "stream",
     "text": [
      "['HP:0011119', 'HP:0031873', 'HP:0410400', 'HP:0040331', 'HP:0007728'] ['HP:0032517', 'HP:0002244', 'HP:0008970', 'HP:0003118', 'HP:0006342']\n"
     ]
    }
   ],
   "source": [
    "print(setA_1,setB_1)"
   ]
  },
  {
   "cell_type": "code",
   "execution_count": 62,
   "metadata": {},
   "outputs": [],
   "source": [
    "# Factor of noise in Test 3\n",
    "random_noise = [-3,-2,-1,1,2,3]"
   ]
  },
  {
   "cell_type": "code",
   "execution_count": 63,
   "metadata": {},
   "outputs": [],
   "source": [
    "setB_2 = []\n",
    "for i in randomHPO:\n",
    "    setB_2.append(getHPO(traverseGraph(data['graphs'][0]['nodes'][i]['id'],random.choice(random_noise))))\n",
    "setB_2 = list(map(lambda x: x.replace('_',':'), setB_2))"
   ]
  },
  {
   "cell_type": "markdown",
   "metadata": {},
   "source": [
    "<p>Test 3: One random set (setA_1) and setB_2 consisting of HPO n levels above or below in the ontology</p>\n",
    "<p>In this case n between -3 and 3 both included and 0 excluded</p>"
   ]
  },
  {
   "cell_type": "code",
   "execution_count": 64,
   "metadata": {},
   "outputs": [
    {
     "name": "stdout",
     "output_type": "stream",
     "text": [
      "['HP:0011119', 'HP:0031873', 'HP:0410400', 'HP:0040331', 'HP:0007728'] ['HP:0000366', 'HP:0000708', 'HP:0410400', 'HP:0040331', 'HP:0007728']\n"
     ]
    }
   ],
   "source": [
    "print(setA_1,setB_2)"
   ]
  },
  {
   "cell_type": "code",
   "execution_count": 65,
   "metadata": {},
   "outputs": [],
   "source": [
    "# Factor of generalization of terms (n terms above in the ontology)\n",
    "generalizer = [2,3,4]"
   ]
  },
  {
   "cell_type": "code",
   "execution_count": 66,
   "metadata": {},
   "outputs": [],
   "source": [
    "setB_3 = []\n",
    "for i in randomHPO:\n",
    "    setB_3.append(getHPO(traverseGraph(data['graphs'][0]['nodes'][i]['id'],random.choice(generalizer))))\n",
    "setB_3 = list(map(lambda x: x.replace('_',':'), setB_3))"
   ]
  },
  {
   "cell_type": "markdown",
   "metadata": {},
   "source": [
    "<p>Test 5: One random set (setA_1) and setB_3 consisting of HPO n levels above in the ontology</p>\n",
    "<p>In this case n between 2 and 4 both included</p>"
   ]
  },
  {
   "cell_type": "code",
   "execution_count": 67,
   "metadata": {},
   "outputs": [
    {
     "name": "stdout",
     "output_type": "stream",
     "text": [
      "['HP:0011119', 'HP:0031873', 'HP:0410400', 'HP:0040331', 'HP:0007728'] ['HP:0005105', 'HP:0011446', 'HP:0011138', 'HP:0010993', 'HP:0012373']\n"
     ]
    }
   ],
   "source": [
    "print(setA_1,setB_3)"
   ]
  },
  {
   "cell_type": "markdown",
   "metadata": {},
   "source": [
    "<p>6 tests are defined, where test2, test4 and test6 are control tests on test1, test3 and test5 respectively</p> "
   ]
  },
  {
   "cell_type": "code",
   "execution_count": 68,
   "metadata": {},
   "outputs": [],
   "source": [
    "test1 = [setA_1,setA_1]\n",
    "test2 = [setA_1,setB_1]\n",
    "test3 = [setA_1,setB_2]\n",
    "test4 = [setB_1,setB_2]\n",
    "test5 = [setA_1, setB_3]\n",
    "test6 = [setB_1, setB_3]"
   ]
  },
  {
   "cell_type": "markdown",
   "metadata": {},
   "source": [
    "<p>The json response has the following format</p>"
   ]
  },
  {
   "cell_type": "code",
   "execution_count": 69,
   "metadata": {},
   "outputs": [
    {
     "data": {
      "text/plain": [
       "{'subject_termset': {'HP:0031873': {'id': 'HP:0031873',\n",
       "   'label': 'Early chronotype'},\n",
       "  'HP:0011119': {'id': 'HP:0011119',\n",
       "   'label': 'Abnormal nasal dorsum morphology'},\n",
       "  'HP:0007728': {'id': 'HP:0007728', 'label': 'Congenital miosis'},\n",
       "  'HP:0410400': {'id': 'HP:0410400', 'label': 'Absent sebaceous glands'},\n",
       "  'HP:0040331': {'id': 'HP:0040331',\n",
       "   'label': 'Focal hypointensity of cerebral white matter on MRI'}},\n",
       " 'object_termset': {'HP:0031873': {'id': 'HP:0031873',\n",
       "   'label': 'Early chronotype'},\n",
       "  'HP:0011119': {'id': 'HP:0011119',\n",
       "   'label': 'Abnormal nasal dorsum morphology'},\n",
       "  'HP:0007728': {'id': 'HP:0007728', 'label': 'Congenital miosis'},\n",
       "  'HP:0410400': {'id': 'HP:0410400', 'label': 'Absent sebaceous glands'},\n",
       "  'HP:0040331': {'id': 'HP:0040331',\n",
       "   'label': 'Focal hypointensity of cerebral white matter on MRI'}},\n",
       " 'subject_best_matches': {'HP:0007728': {'match_source': 'HP:0007728',\n",
       "   'match_source_label': 'Congenital miosis',\n",
       "   'match_target': 'HP:0007728',\n",
       "   'match_target_label': 'Congenital miosis',\n",
       "   'score': 18.19210976863243,\n",
       "   'match_subsumer': None,\n",
       "   'match_subsumer_label': None,\n",
       "   'similarity': {'subject_id': 'HP:0007728',\n",
       "    'subject_label': None,\n",
       "    'subject_source': None,\n",
       "    'object_id': 'HP:0007728',\n",
       "    'object_label': None,\n",
       "    'object_source': None,\n",
       "    'ancestor_id': 'HP:0007728',\n",
       "    'ancestor_label': 'Congenital miosis',\n",
       "    'ancestor_source': None,\n",
       "    'object_information_content': None,\n",
       "    'subject_information_content': None,\n",
       "    'ancestor_information_content': 18.19210976863243,\n",
       "    'jaccard_similarity': 1.0,\n",
       "    'cosine_similarity': None,\n",
       "    'dice_similarity': None,\n",
       "    'phenodigm_score': 4.26522095191239},\n",
       "   'score_metric': 'ancestor_information_content'},\n",
       "  'HP:0011119': {'match_source': 'HP:0011119',\n",
       "   'match_source_label': 'Abnormal nasal dorsum morphology',\n",
       "   'match_target': 'HP:0011119',\n",
       "   'match_target_label': 'Abnormal nasal dorsum morphology',\n",
       "   'score': 15.607147267911275,\n",
       "   'match_subsumer': None,\n",
       "   'match_subsumer_label': None,\n",
       "   'similarity': {'subject_id': 'HP:0011119',\n",
       "    'subject_label': None,\n",
       "    'subject_source': None,\n",
       "    'object_id': 'HP:0011119',\n",
       "    'object_label': None,\n",
       "    'object_source': None,\n",
       "    'ancestor_id': 'HP:0011119',\n",
       "    'ancestor_label': 'Abnormal nasal dorsum morphology',\n",
       "    'ancestor_source': None,\n",
       "    'object_information_content': None,\n",
       "    'subject_information_content': None,\n",
       "    'ancestor_information_content': 15.607147267911275,\n",
       "    'jaccard_similarity': 1.0,\n",
       "    'cosine_similarity': None,\n",
       "    'dice_similarity': None,\n",
       "    'phenodigm_score': 3.9505882179634053},\n",
       "   'score_metric': 'ancestor_information_content'},\n",
       "  'HP:0031873': {'match_source': 'HP:0031873',\n",
       "   'match_source_label': 'Early chronotype',\n",
       "   'match_target': 'HP:0031873',\n",
       "   'match_target_label': 'Early chronotype',\n",
       "   'score': 18.19210976863243,\n",
       "   'match_subsumer': None,\n",
       "   'match_subsumer_label': None,\n",
       "   'similarity': {'subject_id': 'HP:0031873',\n",
       "    'subject_label': None,\n",
       "    'subject_source': None,\n",
       "    'object_id': 'HP:0031873',\n",
       "    'object_label': None,\n",
       "    'object_source': None,\n",
       "    'ancestor_id': 'HP:0031873',\n",
       "    'ancestor_label': 'Early chronotype',\n",
       "    'ancestor_source': None,\n",
       "    'object_information_content': None,\n",
       "    'subject_information_content': None,\n",
       "    'ancestor_information_content': 18.19210976863243,\n",
       "    'jaccard_similarity': 1.0,\n",
       "    'cosine_similarity': None,\n",
       "    'dice_similarity': None,\n",
       "    'phenodigm_score': 4.26522095191239},\n",
       "   'score_metric': 'ancestor_information_content'},\n",
       "  'HP:0040331': {'match_source': 'HP:0040331',\n",
       "   'match_source_label': 'Focal hypointensity of cerebral white matter on MRI',\n",
       "   'match_target': 'HP:0040331',\n",
       "   'match_target_label': 'Focal hypointensity of cerebral white matter on MRI',\n",
       "   'score': 18.19210976863243,\n",
       "   'match_subsumer': None,\n",
       "   'match_subsumer_label': None,\n",
       "   'similarity': {'subject_id': 'HP:0040331',\n",
       "    'subject_label': None,\n",
       "    'subject_source': None,\n",
       "    'object_id': 'HP:0040331',\n",
       "    'object_label': None,\n",
       "    'object_source': None,\n",
       "    'ancestor_id': 'HP:0040331',\n",
       "    'ancestor_label': 'Focal hypointensity of cerebral white matter on MRI',\n",
       "    'ancestor_source': None,\n",
       "    'object_information_content': None,\n",
       "    'subject_information_content': None,\n",
       "    'ancestor_information_content': 18.19210976863243,\n",
       "    'jaccard_similarity': 1.0,\n",
       "    'cosine_similarity': None,\n",
       "    'dice_similarity': None,\n",
       "    'phenodigm_score': 4.26522095191239},\n",
       "   'score_metric': 'ancestor_information_content'},\n",
       "  'HP:0410400': {'match_source': 'HP:0410400',\n",
       "   'match_source_label': 'Absent sebaceous glands',\n",
       "   'match_target': 'HP:0410400',\n",
       "   'match_target_label': 'Absent sebaceous glands',\n",
       "   'score': 18.19210976863243,\n",
       "   'match_subsumer': None,\n",
       "   'match_subsumer_label': None,\n",
       "   'similarity': {'subject_id': 'HP:0410400',\n",
       "    'subject_label': None,\n",
       "    'subject_source': None,\n",
       "    'object_id': 'HP:0410400',\n",
       "    'object_label': None,\n",
       "    'object_source': None,\n",
       "    'ancestor_id': 'HP:0410400',\n",
       "    'ancestor_label': 'Absent sebaceous glands',\n",
       "    'ancestor_source': None,\n",
       "    'object_information_content': None,\n",
       "    'subject_information_content': None,\n",
       "    'ancestor_information_content': 18.19210976863243,\n",
       "    'jaccard_similarity': 1.0,\n",
       "    'cosine_similarity': None,\n",
       "    'dice_similarity': None,\n",
       "    'phenodigm_score': 4.26522095191239},\n",
       "   'score_metric': 'ancestor_information_content'}},\n",
       " 'object_best_matches': {'HP:0007728': {'match_source': 'HP:0007728',\n",
       "   'match_source_label': 'Congenital miosis',\n",
       "   'match_target': 'HP:0007728',\n",
       "   'match_target_label': 'Congenital miosis',\n",
       "   'score': 18.19210976863243,\n",
       "   'match_subsumer': None,\n",
       "   'match_subsumer_label': None,\n",
       "   'similarity': {'subject_id': 'HP:0007728',\n",
       "    'subject_label': None,\n",
       "    'subject_source': None,\n",
       "    'object_id': 'HP:0007728',\n",
       "    'object_label': None,\n",
       "    'object_source': None,\n",
       "    'ancestor_id': 'HP:0007728',\n",
       "    'ancestor_label': 'Congenital miosis',\n",
       "    'ancestor_source': None,\n",
       "    'object_information_content': None,\n",
       "    'subject_information_content': None,\n",
       "    'ancestor_information_content': 18.19210976863243,\n",
       "    'jaccard_similarity': 1.0,\n",
       "    'cosine_similarity': None,\n",
       "    'dice_similarity': None,\n",
       "    'phenodigm_score': 4.26522095191239},\n",
       "   'score_metric': 'ancestor_information_content'},\n",
       "  'HP:0011119': {'match_source': 'HP:0011119',\n",
       "   'match_source_label': 'Abnormal nasal dorsum morphology',\n",
       "   'match_target': 'HP:0011119',\n",
       "   'match_target_label': 'Abnormal nasal dorsum morphology',\n",
       "   'score': 15.607147267911275,\n",
       "   'match_subsumer': None,\n",
       "   'match_subsumer_label': None,\n",
       "   'similarity': {'subject_id': 'HP:0011119',\n",
       "    'subject_label': None,\n",
       "    'subject_source': None,\n",
       "    'object_id': 'HP:0011119',\n",
       "    'object_label': None,\n",
       "    'object_source': None,\n",
       "    'ancestor_id': 'HP:0011119',\n",
       "    'ancestor_label': 'Abnormal nasal dorsum morphology',\n",
       "    'ancestor_source': None,\n",
       "    'object_information_content': None,\n",
       "    'subject_information_content': None,\n",
       "    'ancestor_information_content': 15.607147267911275,\n",
       "    'jaccard_similarity': 1.0,\n",
       "    'cosine_similarity': None,\n",
       "    'dice_similarity': None,\n",
       "    'phenodigm_score': 3.9505882179634053},\n",
       "   'score_metric': 'ancestor_information_content'},\n",
       "  'HP:0031873': {'match_source': 'HP:0031873',\n",
       "   'match_source_label': 'Early chronotype',\n",
       "   'match_target': 'HP:0031873',\n",
       "   'match_target_label': 'Early chronotype',\n",
       "   'score': 18.19210976863243,\n",
       "   'match_subsumer': None,\n",
       "   'match_subsumer_label': None,\n",
       "   'similarity': {'subject_id': 'HP:0031873',\n",
       "    'subject_label': None,\n",
       "    'subject_source': None,\n",
       "    'object_id': 'HP:0031873',\n",
       "    'object_label': None,\n",
       "    'object_source': None,\n",
       "    'ancestor_id': 'HP:0031873',\n",
       "    'ancestor_label': 'Early chronotype',\n",
       "    'ancestor_source': None,\n",
       "    'object_information_content': None,\n",
       "    'subject_information_content': None,\n",
       "    'ancestor_information_content': 18.19210976863243,\n",
       "    'jaccard_similarity': 1.0,\n",
       "    'cosine_similarity': None,\n",
       "    'dice_similarity': None,\n",
       "    'phenodigm_score': 4.26522095191239},\n",
       "   'score_metric': 'ancestor_information_content'},\n",
       "  'HP:0040331': {'match_source': 'HP:0040331',\n",
       "   'match_source_label': 'Focal hypointensity of cerebral white matter on MRI',\n",
       "   'match_target': 'HP:0040331',\n",
       "   'match_target_label': 'Focal hypointensity of cerebral white matter on MRI',\n",
       "   'score': 18.19210976863243,\n",
       "   'match_subsumer': None,\n",
       "   'match_subsumer_label': None,\n",
       "   'similarity': {'subject_id': 'HP:0040331',\n",
       "    'subject_label': None,\n",
       "    'subject_source': None,\n",
       "    'object_id': 'HP:0040331',\n",
       "    'object_label': None,\n",
       "    'object_source': None,\n",
       "    'ancestor_id': 'HP:0040331',\n",
       "    'ancestor_label': 'Focal hypointensity of cerebral white matter on MRI',\n",
       "    'ancestor_source': None,\n",
       "    'object_information_content': None,\n",
       "    'subject_information_content': None,\n",
       "    'ancestor_information_content': 18.19210976863243,\n",
       "    'jaccard_similarity': 1.0,\n",
       "    'cosine_similarity': None,\n",
       "    'dice_similarity': None,\n",
       "    'phenodigm_score': 4.26522095191239},\n",
       "   'score_metric': 'ancestor_information_content'},\n",
       "  'HP:0410400': {'match_source': 'HP:0410400',\n",
       "   'match_source_label': 'Absent sebaceous glands',\n",
       "   'match_target': 'HP:0410400',\n",
       "   'match_target_label': 'Absent sebaceous glands',\n",
       "   'score': 18.19210976863243,\n",
       "   'match_subsumer': None,\n",
       "   'match_subsumer_label': None,\n",
       "   'similarity': {'subject_id': 'HP:0410400',\n",
       "    'subject_label': None,\n",
       "    'subject_source': None,\n",
       "    'object_id': 'HP:0410400',\n",
       "    'object_label': None,\n",
       "    'object_source': None,\n",
       "    'ancestor_id': 'HP:0410400',\n",
       "    'ancestor_label': 'Absent sebaceous glands',\n",
       "    'ancestor_source': None,\n",
       "    'object_information_content': None,\n",
       "    'subject_information_content': None,\n",
       "    'ancestor_information_content': 18.19210976863243,\n",
       "    'jaccard_similarity': 1.0,\n",
       "    'cosine_similarity': None,\n",
       "    'dice_similarity': None,\n",
       "    'phenodigm_score': 4.26522095191239},\n",
       "   'score_metric': 'ancestor_information_content'}},\n",
       " 'average_score': 17.6751172684882,\n",
       " 'best_score': 18.19210976863243,\n",
       " 'metric': 'AncestorInformationContent'}"
      ]
     },
     "execution_count": 69,
     "metadata": {},
     "output_type": "execute_result"
    }
   ],
   "source": [
    "response = requests.get('https://monarchinitiative.org/v3/api/semsim/compare/' + prepareRequest(test1))\n",
    "response.json()"
   ]
  },
  {
   "cell_type": "code",
   "execution_count": 70,
   "metadata": {},
   "outputs": [],
   "source": [
    "array_test = [test1,test2,test3,test4,test5,test6]"
   ]
  },
  {
   "cell_type": "code",
   "execution_count": 71,
   "metadata": {},
   "outputs": [
    {
     "name": "stdout",
     "output_type": "stream",
     "text": [
      "Test 1: Average score: 17.6751172684882\n",
      "Test 2: Average score: 5.989554005823134\n",
      "Test 3: Average score: 14.815798542747398\n",
      "Test 4: Average score: 5.989554005823134\n",
      "Test 5: Average score: 10.10420461156628\n",
      "Test 6: Average score: 5.984875636152289\n"
     ]
    }
   ],
   "source": [
    "for i in range(len(array_test)):\n",
    "    response = requests.get('https://monarchinitiative.org/v3/api/semsim/compare/'+ prepareRequest(array_test[i]))\n",
    "    average_score = response.json()['average_score']\n",
    "    print(f'Test {i+1}: Average score: {average_score}')"
   ]
  },
  {
   "cell_type": "markdown",
   "metadata": {},
   "source": [
    "<h4>Testing the 3 different algorithms available on Monarch Initiative with the 6 tests explained above (N = 50)</h4>"
   ]
  },
  {
   "cell_type": "code",
   "execution_count": 350,
   "metadata": {},
   "outputs": [],
   "source": [
    "N = 50\n",
    "matrix_AIC = np.zeros([6,N])\n",
    "matrix_JAC = np.zeros([6,N])\n",
    "matrix_PHE = np.zeros([6,N])\n",
    "\n",
    "random.seed(12)\n",
    "\n",
    "for j in range(N):\n",
    "    randomHPO = random.sample(range(5,len(data['graphs'][0]['nodes'])-23),10)\n",
    "\n",
    "    setA_1 = []\n",
    "    for i in randomHPO:\n",
    "        setA_1.append(getHPO(data['graphs'][0]['nodes'][i]['id']))\n",
    "    setA_1 = list(map(lambda x: x.replace('_',':'), setA_1))\n",
    "\n",
    "    randomHPO1 = random.sample(range(5,len(data['graphs'][0]['nodes'])-23),10)\n",
    "\n",
    "    setB_1 = []\n",
    "    for i in randomHPO1:\n",
    "        setB_1.append(getHPO(data['graphs'][0]['nodes'][i]['id']))\n",
    "    setB_1 = list(map(lambda x: x.replace('_',':'), setB_1))\n",
    "\n",
    "    random_noise = [-3,-2,-1,1,2,3]\n",
    "    setB_2 = []\n",
    "    for i in randomHPO:\n",
    "        setB_2.append(getHPO(traverseGraph(data['graphs'][0]['nodes'][i]['id'],random.choice(random_noise))))\n",
    "    setB_2 = list(map(lambda x: x.replace('_',':'), setB_2))\n",
    "\n",
    "    generalizer = [1,2,3,4]\n",
    "    setB_3 = []\n",
    "    for i in randomHPO:\n",
    "        setB_3.append(getHPO(traverseGraph(data['graphs'][0]['nodes'][i]['id'],random.choice(generalizer))))\n",
    "    setB_3 = list(map(lambda x: x.replace('_',':'), setB_3))\n",
    "\n",
    "    test1 = [setA_1,setA_1]\n",
    "    test2 = [setA_1,setB_1]\n",
    "    test3 = [setA_1,setB_2]\n",
    "    test4 = [setB_1,setB_2]\n",
    "    test5 = [setA_1, setB_3]\n",
    "    test6 = [setB_1, setB_3]\n",
    "\n",
    "    array_test = [test1,test2,test3,test4,test5,test6]\n",
    "\n",
    "    for i in range(len(array_test)):\n",
    "        response = requests.get('https://monarchinitiative.org/v3/api/semsim/compare/'+ prepareRequest(array_test[i]) + '?metric=ancestor_information_content')\n",
    "        matrix_AIC[i][j] = response.json()['average_score']\n",
    "\n",
    "        response = requests.get('https://monarchinitiative.org/v3/api/semsim/compare/'+ prepareRequest(array_test[i]) + '?metric=jaccard_similarity')\n",
    "        matrix_JAC[i][j] = response.json()['average_score']\n",
    "\n",
    "        response = requests.get('https://monarchinitiative.org/v3/api/semsim/compare/'+ prepareRequest(array_test[i]) + '?metric=phenodigm_score')\n",
    "        matrix_PHE[i][j] = response.json()['average_score']"
   ]
  },
  {
   "cell_type": "markdown",
   "metadata": {},
   "source": [
    "<h1>Results</h1>"
   ]
  },
  {
   "cell_type": "code",
   "execution_count": 351,
   "metadata": {},
   "outputs": [
    {
     "name": "stdout",
     "output_type": "stream",
     "text": [
      "Test 1:  17.19737763792018\n",
      "Test 2:  7.444363574601536\n",
      "Test 3:  14.782482672025473\n",
      "Test 4:  7.319625631222254\n",
      "Test 5:  11.360872995034986\n",
      "Test 6:  6.92046698386395\n"
     ]
    }
   ],
   "source": [
    "j = 1\n",
    "for i in matrix_AIC:\n",
    "    print(f'Test {j}:  {np.array(i).mean()}')\n",
    "    j+=1"
   ]
  },
  {
   "cell_type": "code",
   "execution_count": 352,
   "metadata": {},
   "outputs": [
    {
     "data": {
      "image/png": "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",
      "text/plain": [
       "<Figure size 640x480 with 1 Axes>"
      ]
     },
     "metadata": {},
     "output_type": "display_data"
    }
   ],
   "source": [
    "boxplot_data = [\n",
    "    matrix_AIC[0],\n",
    "    matrix_AIC[1],\n",
    "    matrix_AIC[2],\n",
    "    matrix_AIC[3],\n",
    "    matrix_AIC[4],\n",
    "    matrix_AIC[5]\n",
    "]\n",
    "labels = ['Test 1', 'Test 2', 'Test 3', 'Test 4', 'Test 5', 'Test 6']\n",
    "\n",
    "fig, ax = plt.subplots()\n",
    "plt.title('Ancestor Information Content')\n",
    "ax.set_ylabel('Average Score')\n",
    "\n",
    "bplot = ax.boxplot(boxplot_data,\n",
    "                   tick_labels=labels)\n",
    "\n",
    "plt.show()"
   ]
  },
  {
   "cell_type": "code",
   "execution_count": 353,
   "metadata": {},
   "outputs": [
    {
     "name": "stdout",
     "output_type": "stream",
     "text": [
      "Test 1:  1.0\n",
      "Test 2:  0.3875498225241882\n",
      "Test 3:  0.868818547591257\n",
      "Test 4:  0.4000312238150127\n",
      "Test 5:  0.726676708552509\n",
      "Test 6:  0.43197905729631586\n"
     ]
    }
   ],
   "source": [
    "j = 1\n",
    "for i in matrix_JAC:\n",
    "    print(f'Test {j}:  {np.array(i).mean()}')\n",
    "    j+=1"
   ]
  },
  {
   "cell_type": "code",
   "execution_count": 354,
   "metadata": {},
   "outputs": [
    {
     "data": {
      "image/png": "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",
      "text/plain": [
       "<Figure size 640x480 with 1 Axes>"
      ]
     },
     "metadata": {},
     "output_type": "display_data"
    }
   ],
   "source": [
    "boxplot_data = [\n",
    "    matrix_JAC[0],\n",
    "    matrix_JAC[1],\n",
    "    matrix_JAC[2],\n",
    "    matrix_JAC[3],\n",
    "    matrix_JAC[4],\n",
    "    matrix_JAC[5]\n",
    "]\n",
    "labels = ['Test 1', 'Test 2', 'Test 3', 'Test 4', 'Test 5', 'Test 6']\n",
    "\n",
    "fig, ax = plt.subplots()\n",
    "plt.title('Jaccard Similarity')\n",
    "ax.set_ylabel('Average Score')\n",
    "\n",
    "bplot = ax.boxplot(boxplot_data,\n",
    "                   tick_labels=labels)\n",
    "\n",
    "plt.show()"
   ]
  },
  {
   "cell_type": "code",
   "execution_count": 355,
   "metadata": {},
   "outputs": [
    {
     "name": "stdout",
     "output_type": "stream",
     "text": [
      "Test 1:  4.13873983060814\n",
      "Test 2:  1.6336883918409055\n",
      "Test 3:  3.558149857876737\n",
      "Test 4:  1.640073880841936\n",
      "Test 5:  2.827947302674293\n",
      "Test 6:  1.6613541857734702\n"
     ]
    }
   ],
   "source": [
    "j = 1\n",
    "for i in matrix_PHE:\n",
    "    print(f'Test {j}:  {np.array(i).mean()}')\n",
    "    j+=1"
   ]
  },
  {
   "cell_type": "code",
   "execution_count": 356,
   "metadata": {},
   "outputs": [
    {
     "data": {
      "image/png": "iVBORw0KGgoAAAANSUhEUgAAAjcAAAGzCAYAAADT4Tb9AAAAOXRFWHRTb2Z0d2FyZQBNYXRwbG90bGliIHZlcnNpb24zLjkuMCwgaHR0cHM6Ly9tYXRwbG90bGliLm9yZy80BEi2AAAACXBIWXMAAA9hAAAPYQGoP6dpAABBdklEQVR4nO3deVxUZR////eAySKLmguoKCgomJpJpYjmemdaGbdppRH6zci6zdTUvtludUt3atp9V26ZVmaLiNTXtM1cy3oomkk3KC7kBm4liyAmnN8f/Zi7SVQGZ5jh8Ho+HjxszrnmOp9zGp0317nOORbDMAwBAACYhIerCwAAAHAkwg0AADAVwg0AADAVwg0AADAVwg0AADAVwg0AADAVwg0AADAVwg0AADAVwg0AADAVwg1gYkuWLJHFYtG2bdtcXUqVWCwWPf/889bX5fuTnZ3tspoAuD/CDVADlX/Jl/94e3urbdu2euSRR3Ts2DFXl1erlJWV6d1331XXrl3VsGFD+fv7q23btkpISND333/v6vKAWqmOqwsAUHUvvPCCwsLCdPbsWW3evFlz587V6tWrlZ6eLl9fX1eX53D33Xef7rnnHnl5ebm6FKtHH31Ub7zxhu644w7de++9qlOnjnbv3q01a9aodevW6tatm6tLBGodwg1Qgw0cOFDXX3+9JOmBBx7Q1VdfrVdffVWffPKJhg8f7uLqHM/T01Oenp6uLsPq2LFjevPNN5WYmKgFCxbYrJszZ45OnDhRbbWcP39eZWVlqlu3brVtE3BXnJYCTKRv376SpAMHDtgsLykp0WOPPabGjRurXr16+vvf/17hF++aNWvUs2dP1atXT/7+/rr11lv1888/27QZNWqU/Pz8dOTIEcXFxcnPz0+NGzfW5MmTVVpaatP2zJkzmjRpkkJCQuTl5aV27dpp5syZMgzjgvomTpyoxo0by9/fX4MHD9bhw4cvqK+iOTdlZWV6/vnn1axZM/n6+qpPnz7673//q9DQUI0aNeqC927evFmPPvqoGjdurPr162vMmDE6d+6cTp8+rYSEBDVo0EANGjTQ448/fkGdf3XgwAEZhqHY2NgL1lksFjVp0sRm2enTpzVx4kSFhobKy8tLLVq0UEJCgk6ePGltc/z4cY0ePVpNmzaVt7e3rr32Wr3zzjs2/WRnZ8tisWjmzJmaM2eO2rRpIy8vL/33v/+VJGVmZmro0KFq2LChvL29df311+vTTz+95L4AZsLIDWAi+/btkyRdffXVNsvHjRunBg0a6LnnnlN2drbmzJmjRx55RB999JG1zXvvvaeRI0dqwIAB+te//qWioiLNnTtXPXr00I4dOxQaGmptW1paqgEDBqhr166aOXOmvv76a82aNUtt2rTRww8/LEkyDEODBw/WunXrNHr0aHXu3FlffPGFpkyZoiNHjmj27NnW/h544AEtXbpUI0aMUPfu3fXNN9/o1ltvrdQ+T506Va+88opuv/12DRgwQDt37tSAAQN09uzZCtuPGzdOQUFBmjZtmr7//nstWLBA9evX13fffaeWLVtq+vTpWr16tWbMmKEOHTooISHhottu1aqVJGn58uUaNmzYJU8FFhYWqmfPnsrIyND999+vLl266OTJk/r00091+PBhNWrUSMXFxerdu7f27t2rRx55RGFhYVq+fLlGjRql06dPa/z48TZ9Ll68WGfPntWDDz4oLy8vNWzYUD///LNiY2PVvHlzPfHEE6pXr54+/vhjxcXFacWKFfr73/9eqeMK1GgGgBpn8eLFhiTj66+/Nk6cOGEcOnTI+PDDD42rr77a8PHxMQ4fPmzTrn///kZZWZn1/RMnTjQ8PT2N06dPG4ZhGAUFBUb9+vWNxMREm+3k5uYagYGBNstHjhxpSDJeeOEFm7bXXXedER0dbX2dmppqSDJeeuklm3ZDhw41LBaLsXfvXsMwDOPHH380JBn/+Mc/bNqNGDHCkGQ899xzF+z3gQMHrPXVqVPHiIuLs3nv888/b0gyRo4cecF7BwwYYHMsYmJiDIvFYjz00EPWZefPnzdatGhh9OrVy7ichIQEQ5LRoEED4+9//7sxc+ZMIyMj44J2zz77rCHJSElJuWBdeT1z5swxJBlLly61rjt37pwRExNj+Pn5Gfn5+YZhGMaBAwcMSUZAQIBx/Phxm7769etndOzY0Th79qxN/927dzciIiIuuz+AGXBaCqjB+vfvr8aNGyskJET33HOP/Pz8tHLlSjVv3tym3YMPPiiLxWJ93bNnT5WWluqXX36RJH311Vc6ffq0hg8frpMnT1p/PD091bVrV61bt+6CbT/00EM2r3v27Kn9+/dbX69evVqenp569NFHbdpNmjRJhmFozZo11naSLmg3YcKEy+7/2rVrdf78ef3jH/+wWT5u3LiLvmf06NE2x6Jr164yDEOjR4+2LvP09NT1119vsz8Xs3jxYr3++usKCwvTypUrNXnyZEVFRalfv346cuSItd2KFSt07bXXVjhyUl7P6tWrFRQUZDNf6qqrrtKjjz6qwsJCbdiwweZ9d955pxo3bmx9/euvv+qbb77RXXfdpYKCAuv/x1OnTmnAgAHKysqyqQkwK05LATXYG2+8obZt26pOnTpq2rSp2rVrJw+PC39nadmypc3rBg0aSJJ+++03SVJWVpak/83Z+auAgACb197e3jZfquV9lvcnSb/88ouaNWsmf39/m3ZRUVHW9eV/enh4qE2bNjbt2rVrV2Etf1beR3h4uM3yhg0bWvfxr/56LAIDAyVJISEhFyz/8/5cjIeHh8aOHauxY8fq1KlT+vbbbzVv3jytWbNG99xzjzZt2iTpj1OGd95552X3JyIi4oL/h389ZuXCwsJsXu/du1eGYeiZZ57RM888U+E2jh8/fkH4BcyGcAPUYDfeeKP1aqlLudgVRsb/P2G2rKxM0h/zboKCgi5oV6eO7T8V7nTFkr0uVntFy43LTCj+q6uvvlqDBw/W4MGD1bt3b23YsEG//PKLdW6Oo/n4+Ni8Lv//OHnyZA0YMKDC9/w1CAJmRLgBYB01adKkifr37++QPlu1aqWvv/5aBQUFNqM3mZmZ1vXlf5aVlWnfvn02ozW7d++u1DakP0Ys/jyKcerUqUqNujjT9ddfrw0bNignJ0etWrVSmzZtlJ6efsn3tGrVSj/99JPKyspsRm/+eswupnXr1pL+OJXlqP+PQE3EnBsAGjBggAICAjR9+nT9/vvvF6yvyv1aBg0apNLSUr3++us2y2fPni2LxaKBAwdKkvXPf//73zbt5syZc9lt9OvXT3Xq1NHcuXNtlv91m86Sm5trvfz6z86dO6e1a9fKw8PDOlJy5513aufOnVq5cuUF7ctHiAYNGqTc3Fybq9jOnz+v//znP/Lz81OvXr0uWU+TJk3Uu3dvzZ8/Xzk5OResr8777gCuxMgNAAUEBGju3Lm677771KVLF91zzz1q3LixDh48qM8++0yxsbF2B4bbb79dffr00VNPPaXs7Gxde+21+vLLL/XJJ59owoQJ1tGizp07a/jw4XrzzTeVl5en7t27a+3atdq7d+9lt9G0aVONHz9es2bN0uDBg3XLLbdo586dWrNmjRo1amQzcdgZDh8+rBtvvFF9+/ZVv379FBQUpOPHj+uDDz7Qzp07NWHCBDVq1EiSNGXKFCUnJ2vYsGG6//77FR0drV9//VWffvqp5s2bp2uvvVYPPvig5s+fr1GjRiktLU2hoaFKTk7Wt99+qzlz5lwwf6kib7zxhnr06KGOHTsqMTFRrVu31rFjx7RlyxYdPnxYO3fudOoxAdwB4QaAJGnEiBFq1qyZXn75Zc2YMUMlJSVq3ry5evbsqf/zf/6P3f15eHjo008/1bPPPquPPvpIixcvVmhoqGbMmKFJkybZtH377bfVuHFjvf/++0pNTVXfvn312WefXTDJtyL/+te/5Ovrq4ULF+rrr79WTEyMvvzyS/Xo0UPe3t52122Pdu3aac6cOVq9erXefPNNHTt2TN7e3urQoYMWLlxocwWWn5+fNm3apOeee04rV67UO++8oyZNmqhfv35q0aKFpD/m0Kxfv15PPPGE3nnnHeXn56tdu3ZavHixzQ0JL6V9+/batm2bpk2bpiVLlujUqVNq0qSJrrvuOj377LPOOAyA27EY9s6YAwA3d/r0aTVo0EAvvfSSnnrqKVeXA6CaMecGQI1WXFx8wbLy+Tq9e/eu3mIAuAVOSwGo0T766CMtWbJEgwYNkp+fnzZv3qwPPvhAN998c4XPfAJgfoQbADVap06dVKdOHb3yyivKz8+3TjJ+6aWXXF0aABdhzg0AADAV5twAAABTIdwAAABTqXVzbsrKynT06FH5+/s7/QZfAADAMQzDUEFBgZo1a1bhA4L/rNaFm6NHj1bqxmAAAMD9HDp0yHrjy4updeGm/Pblhw4dUkBAgIurAQAAlZGfn6+QkJBKPYak1oWb8lNRAQEBhBsAAGqYykwpYUIxAAAwFcINAAAwFcINAAAwFcINAAAwFcINAAAwFcINAAAwFcINAAAwFcINAAAwFcINAAAwFcINAAAwFcINAAAwFcINAAAwlVr34ExXKioqUmZmZqXaFhcXKzs7W6GhofLx8bls+8jISPn6+l5piQAA1HiEm2qUmZmp6Ohop/SdlpamLl26OKVvAABqEsJNNYqMjFRaWlql2mZkZCg+Pl5Lly5VVFRUpfoGAACEm2rl6+tr9+hKVFQUIzIAANiBCcUAAMBUCDcAAMBUCDcAAMBUmHPjIFlZWSooKHBYfxkZGTZ/OoK/v78iIiIc1h8AAO6IcOMAWVlZatu2rVP6jo+Pd2h/e/bsIeAAAEyNcOMA5SM2lb1suzLsvYnf5ZRfWu7I0SUAANwR4caBHH3ZdmxsrMP6AgCgtmBCMQAAMBXCDQAAMBVOSzlIkJ9FPqf3SEfdMy/6nN6jID+Lq8sAAMDpCDcOMia6rqI2jpE2urqSikXpjxoBADA7wo2DzE87p7ufXaIoN32AZUZmpubPGqHBri4EAAAnI9w4SG6hoeL6baVmnV1dSoWKc8uUW2i4ugwAAJzOPSeIAAAAVBHhBgAAmArhBgAAmArhBgAAmAoTih2gqKhIkrR9+3aH9emMZ0sBAFAbEG4cIDMzU5KUmJjo4kouz9/f39UlAADgVIQbB4iLi5MkRUZGytfX1yF9lj/F25FPGvf391dERIRD+gIAwF0RbhygUaNGeuCBB5zSt6OfNA4AgNkxoRgAAJgK4QYAAJiK24Sbl19+WRaLRRMmTLhku+XLlysyMlLe3t7q2LGjVq9eXT0FAgCAGsEtws3WrVs1f/58derU6ZLtvvvuOw0fPlyjR4/Wjh07FBcXp7i4OKWnp1dTpQAAwN25PNwUFhbq3nvv1cKFC9WgQYNLtn3ttdd0yy23aMqUKYqKitKLL76oLl266PXXX6+magEAgLtzebgZO3asbr31VvXv3/+ybbds2XJBuwEDBmjLli0XfU9JSYny8/NtfgAAgHm59FLwDz/8UNu3b9fWrVsr1T43N1dNmza1Wda0aVPl5uZe9D1JSUmaNm3aFdUJAABqDpeN3Bw6dEjjx4/X+++/L29vb6dtZ+rUqcrLy7P+HDp0yGnbAgAArueykZu0tDQdP37c5gZ1paWl2rhxo15//XWVlJTI09PT5j1BQUE6duyYzbJjx44pKCjootvx8vKSl5eXY4sHAABuy2UjN/369dOuXbv0448/Wn+uv/563Xvvvfrxxx8vCDaSFBMTo7Vr19os++qrrxQTE1NdZQMAADfnspEbf39/dejQwWZZvXr1dPXVV1uXJyQkqHnz5kpKSpIkjR8/Xr169dKsWbN066236sMPP9S2bdu0YMGCaq8fAAC4J7d+ttTBgwfl4fG/waXu3btr2bJlevrpp/Xkk08qIiJCqampF4QkAJVXVFRkfbL9pRQXFys7O1uhoaHy8fG5bHtHPkgWAOzhVuFm/fr1l3wtScOGDdOwYcOqpyCgFsjMzFR0dLTD+01LS+OhrwBcwq3CDYDqFxkZqbS0tMu2y8jIUHx8vJYuXaqoqKhK9QsArkC4AWo5X19fu0ZYoqKiGJEB4NYIN9WosnMbpD9+S/7zn5fD/AYAAP5AuKlGVZnbEB8fX6l2zG8AAOAPhJtqVNm5DVLVrkwBAACEm2pl79yG2NhYJ1YDAIA5ufyp4AAAAI5EuAEAAKZCuAEAAKZCuAEAAKZCuAEAAKZCuAEAAKZCuAEAAKZCuAEAAKZCuAEAAKZCuAEAAKZCuAEAAKZCuAEAAKZCuAEAAKZCuAEAAKZCuAEAAKZCuAEAAKZCuAEAAKZCuAEAAKZCuAEAAKZCuAEAAKZSx9UFAHCOrKwsFRQUOKy/jIwMmz8dxd/fXxEREQ7tE0DtRrgBTCgrK0tt27Z1St/x8fEO73PPnj0EHAAOQ7gBTKh8xGbp0qWKiopySJ/FxcXKzs5WaGiofHx8HNJnRkaG4uPjHTrCBACEG8DEoqKi1KVLF4f1Fxsb67C+AMBZmFAMAABMhZEbAECNU1paqk2bNiknJ0fBwcHq2bOnPD09XV0W3AQjNwCAGiUlJUXh4eHq06ePRowYoT59+ig8PFwpKSmuLg1ugnADAKgxUlJSNHToUHXs2FFbtmxRQUGBtmzZoo4dO2ro0KEEHEgi3AAAaojS0lJNmjRJt912m1JTU9WtWzf5+fmpW7duSk1N1W233abJkyertLTU1aXCxQg3AIAaYdOmTcrOztaTTz4pDw/bry8PDw9NnTpVBw4c0KZNm1xUIdwFE4oBkwrys8jn9B7pqPv+DuNzeo+C/CyuLgM1RE5OjiSpQ4cOFa4vX17eDrUX4QYwqTHRdRW1cYy00dWVXFyU/qgTqIzg4GBJUnp6urp163bB+vT0dJt2qL0IN4BJzU87p7ufXaKoyEhXl3JRGZmZmj9rhAa7uhDUCD179lRoaKimT5+u1NRUm1NTZWVlSkpKUlhYmHr27OnCKuEOCDeASeUWGiqu31Zq1tnVpVxUcW6ZcgsNV5eBGsLT01OzZs3S0KFDFRcXp6lTp6pDhw5KT09XUlKSVq1apeTkZO53A8INAKDmGDJkiJKTkzVp0iR1797dujwsLEzJyckaMmSIC6uDuyDcAABqlCFDhuiOO+7gDsW4KMINAKDG8fT0VO/evV1dBtyU+14jCgAAUAUuDTdz585Vp06dFBAQoICAAMXExGjNmjUXbb9kyRJZLBabH29v72qsGAAAuDuXnpZq0aKFXn75ZUVERMgwDL3zzju64447tGPHDl1zzTUVvicgIEC7d++2vrZYuAEYAAD4H5eGm9tvv93m9T//+U/NnTtX33///UXDjcViUVBQUHWUBwAAaiC3mVBcWlqq5cuX68yZM4qJiblou8LCQrVq1UplZWXq0qWLpk+fftEgJEklJSUqKSmxvs7Pz3do3YA7KioqkiRt377dYX0WFxcrOztboaGh8vHxcUifGRkZDukHAP7M5eFm165diomJ0dmzZ+Xn56eVK1eqffv2FbZt166d3n77bXXq1El5eXmaOXOmunfvrp9//lktWrSo8D1JSUmaNm2aM3cBcDuZmZmSpMTERBdXUjn+/v6uLgGAiVgMw3Dp7UHPnTungwcPKi8vT8nJyXrrrbe0YcOGiwacP/v9998VFRWl4cOH68UXX6ywTUUjNyEhIcrLy1NAQIDD9gNwJydPnlRqaqoiIyPl6+vrkD4zMjIUHx+vpUuXKioqyiF9Sn8Em4iICIf1B8Cc8vPzFRgYWKnvb5eP3NStW1fh4eGSpOjoaG3dulWvvfaa5s+ff9n3XnXVVbruuuu0d+/ei7bx8vKSl5eXw+oFaoJGjRrpgQcecErfUVFR6tKli1P6BgBHcLv73JSVldmMtFxKaWmpdu3axRNgAQCAlUtHbqZOnaqBAweqZcuWKigo0LJly7R+/Xp98cUXkqSEhAQ1b95cSUlJkqQXXnhB3bp1U3h4uE6fPq0ZM2bol19+cdpvqAAAoOZxabg5fvy4EhISlJOTo8DAQHXq1ElffPGF/va3v0mSDh48aPNI+99++02JiYnKzc1VgwYNFB0dre+++65S83MAAEDt4PIJxdXNnglJAP5n+/btio6OVlpaGnNuAFQ7e76/3W7ODQAAwJUg3AAAAFMh3AAAAFMh3AAAAFMh3AAAAFMh3AAAAFMh3AAAAFMh3AAAAFMh3AAAAFMh3AAAAFMh3AAAAFMh3AAAAFMh3AAAAFMh3AAAAFMh3AAAAFMh3AAAAFMh3AAAAFMh3AAAAFMh3AAAAFMh3AC4rNLSUm3btk2StG3bNpWWlrq4IgC4OMINgEtKSUlReHi4xowZI0kaM2aMwsPDlZKS4uLKAKBidVxdAADXKioqUmZmZoXrvvnmGz3++OPq0aOHevXqpXfeeUcjR47U/v37NXToUL3yyivq27dvhe+NjIyUr6+vM0sHgApZDMMwXF1EdcrPz1dgYKDy8vIUEBDg6nIAl9u+fbuio6Md3m9aWpq6dOni8H4B1E72fH8zcgPUcpGRkUpLS7tg+bZt26ynom666SaNGDFCderU0fnz57Vs2TJt3LhRkjR//nxdf/31FfYLAK5AuAFqOV9f3wpHWDIyMiRJAwcO1KpVq+Th8b8peomJibrtttu0Zs0a1atXjxEaAG6FCcUAKnTixAlJ0pAhQ2yCjSR5eHgoLi7Oph0AuAvCDYAKNW7cWNIfV0uVlZXZrCsrK1NqaqpNOwBwF4QbABVq3ry5JOnzzz9XXFyctmzZooKCAm3ZskVxcXH6/PPPbdoBgLuo0tVSmzZt0vz587Vv3z4lJyerefPmeu+99xQWFqYePXo4o06H4WopoHJKS0sVHh6uRo0a6eTJk8rOzrauCwsL09VXX61Tp04pKytLnp6erisUpnOp2xP8WXFxsbKzsxUaGiofH59K9c0tCmoup14ttWLFCt1333269957tWPHDpWUlEiS8vLyNH36dK1evbpqVQNwK56enpo1a5aGDh2qW2+9VZMnT5aPj4+Ki4v1+eef67PPPlNycjLBBg6XmZnplNsTSNyioLawe+Tmuuuu08SJE5WQkCB/f3/t3LlTrVu31o4dOzRw4EDl5uY6q1aHYOQGsE9KSoomTZp0wcjNzJkzNWTIENcVBtOq7MhNRkaG4uPjtXTpUkVFRVWqb0Zuai6njtzs3r1bN9100wXLAwMDdfr0aXu7A+DmhgwZojvuuEObNm1STk6OgoOD1bNnT0Zs4DQXuz3BxURFRTEaAxt2h5ugoCDt3btXoaGhNss3b96s1q1bO6ouAG7E09NTvXv3dnUZAFApdl8tlZiYqPHjx+uHH36QxWLR0aNH9f7772vy5Ml6+OGHnVEjAABApdk9cvPEE0+orKxM/fr1U1FRkW666SZ5eXlp8uTJGjdunDNqBOBipaWlnJYCUGPYFW5KS0v17bffauzYsZoyZYr27t2rwsJCtW/fXn5+fs6qEYALVTShODQ0VLNmzWJCMQC3ZFe48fT01M0336yMjAzVr19f7du3d1ZdANxASkqK9VLwKVOmWC8FX7NmjYYOHark5GQCDgC3Y/dpqQ4dOmj//v0KCwtzRj0A3ERpaakmTZqk6Ohopaena9WqVdZ1oaGhio6O1uTJk3XHHXdwigqAW7F7QvFLL72kyZMna9WqVcrJyVF+fr7NDwBz2LRpk7Kzs5WWlqaOHTvaPH6hY8eOSktL04EDB7Rp0yZXlwoANuweuRk0aJAkafDgwbJYLNblhmHIYrGotLTUcdUBcJkjR45Ikm655RalpqZanwzerVs3paam6rbbbtOaNWus7QDAXdgdbtatW+eMOgC4mRMnTkj64yZ+5cGmnIeHh+Li4rRmzRprOwBwF3aHm169ejmjDgBupnHjxpL+mFR8//332wScsrIypaam2rQDAHdhd7iRpNOnT2vRokXKyMiQJF1zzTW6//77FRgY6NDiALhO8+bNJUlr1qxRXFycpk6dqg4dOig9PV1JSUlas2aNTTsAcBd2Pzhz27ZtGjBggHx8fHTjjTdKkrZu3ari4mJ9+eWXbv98Dx6cCVROaWmpwsPD1ahRI504cUK//PKLdV1oaKgaNWqkU6dOKSsri6ul4BLbt29XdHQ0T/quJez5/rb7aqmJEydq8ODBys7OVkpKilJSUnTgwAHddtttmjBhgl19zZ07V506dVJAQIACAgIUExNj/W3wYpYvX67IyEh5e3urY8eOWr16tb27AKASPD09NWvWLOvVUq+//roWLVqk119/XR06dFBaWppmzpxJsAHgduw+LbVt2zYtXLhQder876116tTR448/ruuvv96uvlq0aKGXX35ZERERMgxD77zzju644w7t2LFD11xzzQXtv/vuOw0fPlxJSUm67bbbtGzZMsXFxWn79u3q0KGDvbsC4DKGDBmi5ORkTZo0yeY+N2FhYdzAD4Dbsvu0VNOmTfXee+/p5ptvtln+xRdfKCEhQceOHbuigho2bKgZM2Zo9OjRF6y7++67debMGZt/ZLt166bOnTtr3rx5leqf01KA/Xi2FNwRp6VqF3u+v+0eubn77rs1evRozZw5U927d5ckffvtt5oyZYqGDx9etYr1xz+ey5cv15kzZxQTE1Nhmy1btuixxx6zWTZgwADrVRsVKSkpUUlJifU1NxoE7Ofp6anevXu7ugwAqBS7w83MmTNlsViUkJCg8+fPS5KuuuoqPfzww3r55ZftLmDXrl2KiYnR2bNn5efnp5UrV170mVW5ublq2rSpzbKmTZsqNzf3ov0nJSVp2rRpdtcFAHC8rKwsFRQUOKSv8it2y/90FH9/f0VERDi0T1Qvu09LlSsqKtK+ffskSW3atJGvr2+VCjh37pwOHjyovLw8JScn66233tKGDRsqDDh169bVO++8YzNC9Oabb2ratGkXPR1W0chNSEgIp6UAoJplZWWpbdu2ri6jUvbs2UPAcTNOPS2Vl5en0tJSNWzYUB07drQu//XXX1WnTh27A0PdunUVHh4uSYqOjtbWrVv12muvaf78+Re0DQoKuiDEHDt2TEFBQRft38vLS15eXnbVBABwvPIRm6VLlyoqKuqK+ysuLlZ2drZCQ0Pl4+Nzxf1Jf4wCxcfHO2x0Ca5hd7i55557dPvtt+sf//iHzfKPP/5Yn3766RVfml1WVmYz0vJnMTExWrt2rc0l51999dVF5+gAANxPVFSUwyYAx8bGOqQfmIvd97n54Ycf1KdPnwuW9+7dWz/88INdfU2dOlUbN25Udna2du3apalTp2r9+vW69957JUkJCQmaOnWqtf348eP1+eefa9asWcrMzNTzzz+vbdu26ZFHHrF3NwAAgEnZPXJTUlJinUj8Z7///ruKi4vt6uv48eNKSEhQTk6OAgMD1alTJ33xxRf629/+Jkk6ePCgzfNsunfvrmXLlunpp5/Wk08+qYiICKWmpnKPGwAAYGV3uLnxxhu1YMEC/ec//7FZPm/ePEVHR9vV16JFiy65fv369RcsGzZsmIYNG2bXdgAAQO1hd7h56aWX1L9/f+3cuVP9+vWTJK1du1Zbt27Vl19+6fACAQAA7GH3nJvY2Fht2bJFISEh+vjjj/X//t//U3h4uH766Sf17NnTGTUCAABUmt0jN5LUuXNnvf/++46uBQAA4IpVOtycP39epaWlNveMOXbsmObNm6czZ85o8ODB6tGjh1OKBAAAqKxKh5vExETVrVvXenO9goIC3XDDDTp79qyCg4M1e/ZsffLJJxo0aJDTigUAALicSs+5+fbbb3XnnXdaX7/77rsqLS1VVlaWdu7cqccee0wzZsxwSpEAAACVVelwc+TIEZvnbKxdu1Z33nmnAgMDJUkjR47Uzz//7PgKAQAA7FDpcOPt7W1zk77vv/9eXbt2tVlfWFjo2OoAAADsVOlw07lzZ7333nuSpE2bNunYsWPq27evdf2+ffvUrFkzx1cIAABgh0pPKH722Wc1cOBAffzxx8rJydGoUaMUHBxsXb9y5UoeYAYAAFyu0uGmV69eSktL05dffqmgoKALHoHQuXNn3XjjjQ4vEAAAwB523cQvKipKUVFRFa578MEHHVIQAADAlbD78QsAAADujHADAABMpUrPlgIAoCqC/CzyOb1HOuqev1v7nN6jID+Lq8vAFSLcAACqzZjouoraOEba6OpKKhalP2pEzValcHP69GklJydr3759mjJliho2bKjt27eradOmat68uaNrBACYxPy0c7r72SWKiox0dSkVysjM1PxZIzTY1YXgitgdbn766Sf1799fgYGBys7OVmJioho2bKiUlBQdPHhQ7777rjPqBACYQG6hoeL6baVmnV1dSoWKc8uUW2i4ugxcIbtPej722GMaNWqUsrKy5O3tbV0+aNAgbdzopuOMAACg1rA73GzdulVjxoy5YHnz5s2Vm5vrkKIAAACqyu5w4+Xlpfz8/AuW79mzR40bN3ZIUQAAAFVld7gZPHiwXnjhBf3++++SJIvFooMHD+r//t//qzvvvNPhBQIAANjD7nAza9YsFRYWqkmTJiouLlavXr0UHh4uf39//fOf/3RGjQAAAJVm99VSgYGB+uqrr7R582b99NNPKiwsVJcuXdS/f39n1AcAAGCXKt/Er0ePHurRo4cjawEAALhidoebf//73xUut1gs8vb2Vnh4uG666SZ5enpecXEAAAD2sjvczJ49WydOnFBRUZEaNGggSfrtt9/k6+srPz8/HT9+XK1bt9a6desUEhLi8IIBAAAuxe4JxdOnT9cNN9ygrKwsnTp1SqdOndKePXvUtWtXvfbaazp48KCCgoI0ceJEZ9QLAABwSXaP3Dz99NNasWKF2rRpY10WHh6umTNn6s4779T+/fv1yiuvcFk4AABwCbvDTU5Ojs6fP3/B8vPnz1vvUNysWTMVFBRceXUAANMoKiqSJG3fvt0h/RUXFys7O1uhoaHy8fFxSJ8ZGRkO6QeuZXe46dOnj8aMGaO33npL1113nSRpx44devjhh9W3b19J0q5duxQWFubYSgEANVpmZqYkKTEx0cWVXJ6/v7+rS8AVsDvcLFq0SPfdd5+io6N11VVXSfpj1KZfv35atGiRJMnPz0+zZs1ybKUAgBotLi5OkhQZGSlfX98r7i8jI0Px8fFaunSpoqKirri/cv7+/oqIiHBYf6h+FsMwqvRs98zMTO3Zs0eS1K5dO7Vr186hhTlLfn6+AgMDlZeXp4CAAFeXAwCoou3btys6OlppaWnq0qWLq8uBk9nz/V3lm/hFRkYqMjKyqm8HAABwiiqFm8OHD+vTTz/VwYMHde7cOZt1r776qkMKAwAAqAq7w83atWs1ePBgtW7dWpmZmerQoYOys7NlGAbDggAAwOXsvonf1KlTNXnyZO3atUve3t5asWKFDh06pF69emnYsGHOqBEAAKDS7A43GRkZSkhIkCTVqVNHxcXF8vPz0wsvvKB//etfDi8QAADAHnaHm3r16lnn2QQHB2vfvn3WdSdPnnRcZQAAAFVg95ybbt26afPmzYqKitKgQYM0adIk7dq1SykpKerWrZszagQAAKg0u8PNq6++qsLCQknStGnTVFhYqI8++kgRERFcKQUAAFzOrnBTWlqqw4cPq1OnTpL+OEU1b948pxQGAABQFXbNufH09NTNN9+s3377zVn1AAAAXBG7JxR36NBB+/fvd0YtAAAAV8zucPPSSy9p8uTJWrVqlXJycpSfn2/zY4+kpCTdcMMN8vf3V5MmTRQXF6fdu3df8j1LliyRxWKx+fH29rZ3NwAAgEnZPaF40KBBkqTBgwfLYrFYlxuGIYvFotLS0kr3tWHDBo0dO1Y33HCDzp8/ryeffFI333yz/vvf/6pevXoXfV9AQIBNCPpzHQAAoHazO9ysW7fOYRv//PPPbV4vWbJETZo0UVpamm666aaLvs9isSgoKMhhdQAAAPOwO9z06tXLGXVIkvLy8iRJDRs2vGS7wsJCtWrVSmVlZerSpYumT5+ua665psK2JSUlKikpsb6299QZAACoWeyecyNJmzZtUnx8vLp3764jR45Ikt577z1t3ry5yoWUlZVpwoQJio2NVYcOHS7arl27dnr77bf1ySefaOnSpSorK1P37t11+PDhCtsnJSUpMDDQ+hMSElLlGgEAgPuzO9ysWLFCAwYMkI+Pj7Zv324dFcnLy9P06dOrXMjYsWOVnp6uDz/88JLtYmJilJCQoM6dO6tXr15KSUlR48aNNX/+/ArbT506VXl5edafQ4cOVblGAADg/qp0tdS8efO0cOFCXXXVVdblsbGx2r59e5WKeOSRR7Rq1SqtW7dOLVq0sOu9V111la677jrt3bu3wvVeXl4KCAiw+QEAAOZld7jZvXt3hZN9AwMDdfr0abv6MgxDjzzyiFauXKlvvvlGYWFh9paj0tJS7dq1S8HBwXa/FwAAmI/d4SYoKKjCUZLNmzerdevWdvU1duxYLV26VMuWLZO/v79yc3OVm5ur4uJia5uEhARNnTrV+vqFF17Ql19+qf3792v79u2Kj4/XL7/8ogceeMDeXQEAACZk99VSiYmJGj9+vN5++21ZLBYdPXpUW7Zs0eTJk/XMM8/Y1dfcuXMlSb1797ZZvnjxYo0aNUqSdPDgQXl4/C+D/fbbb0pMTFRubq4aNGig6Ohofffdd2rfvr29uwIAAEzI7nDzxBNPqKysTP369VNRUZFuuukmeXl5afLkyRo3bpxdfRmGcdk269evt3k9e/ZszZ49267tAACA2sPucGOxWPTUU09pypQp2rt3rwoLC9W+fXv5+fk5oz4AAAC72D3nZunSpSoqKlLdunXVvn173XjjjQQbAADgNuwONxMnTlSTJk00YsQIrV692q5nSQEAADib3eEmJydHH374oSwWi+666y4FBwdr7Nix+u6775xRHwAAgF3sDjd16tTRbbfdpvfff1/Hjx/X7NmzlZ2drT59+qhNmzbOqBEAAKDS7J5Q/Ge+vr4aMGCAfvvtN/3yyy/KyMhwVF0AAABVUqVwU1RUpJUrV+r999/X2rVrFRISouHDhys5OdnR9QEAapmioiJlZmZetl35L9T2/GIdGRkpX1/fKteGmsHucHPPPfdo1apV8vX11V133aVnnnlGMTExzqgNAFALZWZmKjo6utLt4+PjK902LS1NXbp0qUpZqEHsDjeenp76+OOPNWDAAHl6etqsS09PV4cOHRxWHACg9omMjFRaWtpl2xUXFys7O1uhoaHy8fGpdN8wP4tRmdsEX0JBQYE++OADvfXWW0pLS3P7S8Pz8/MVGBiovLw8nhAOAEANYc/3t91XS5XbuHGjRo4cqeDgYM2cOVN9+/bV999/X9XuAAAAHMKu01K5ublasmSJFi1apPz8fN11110qKSlRamoqD64EAABuodIjN7fffrvatWunn376SXPmzNHRo0f1n//8x5m1AQAA2K3SIzdr1qzRo48+qocfflgRERHOrAkAAKDKKj1ys3nzZhUUFCg6Olpdu3bV66+/rpMnTzqzNgAAALtVOtx069ZNCxcuVE5OjsaMGaMPP/xQzZo1U1lZmb766isVFBQ4s04AAIBKuaJLwXfv3q1Fixbpvffe0+nTp/W3v/1Nn376qSPrczguBQcAoOaplkvBJaldu3Z65ZVXdPjwYX3wwQdX0hUAAIBDXPFN/GoaRm4AAKh5qm3kBgAAwN0QbgAAgKkQbgAAgKkQbgAAgKkQbgAAgKkQbgAAgKkQbgAAgKkQbgAAgKkQbgAAgKkQbgAAgKkQbgAAgKkQbgAAgKkQbgAAgKkQbgAAgKkQbgAAgKkQbgAAgKkQbgAAgKkQbgAAgKkQbgAAgKkQbgAAgKkQbgAAgKkQbgAAgKkQbgAAgKkQbgAAgKkQbgAAgKm4NNwkJSXphhtukL+/v5o0aaK4uDjt3r37su9bvny5IiMj5e3trY4dO2r16tXVUC0AAKgJXBpuNmzYoLFjx+r777/XV199pd9//10333yzzpw5c9H3fPfddxo+fLhGjx6tHTt2KC4uTnFxcUpPT6/GygEAgLuyGIZhuLqIcidOnFCTJk20YcMG3XTTTRW2ufvuu3XmzBmtWrXKuqxbt27q3Lmz5s2bd9lt5OfnKzAwUHl5eQoICHBY7QBqt6KiImVmZlaqbXFxsbKzsxUaGiofH5/Lto+MjJSvr++VlohaqLKfy5rwmbTn+7tONdVUKXl5eZKkhg0bXrTNli1b9Nhjj9ksGzBggFJTUytsX1JSopKSEuvr/Pz8Ky8UAP4iMzNT0dHRTuk7LS1NXbp0cUrfMDdnfS7d/TPpNuGmrKxMEyZMUGxsrDp06HDRdrm5uWratKnNsqZNmyo3N7fC9klJSZo2bZpDawWAv4qMjFRaWlql2mZkZCg+Pl5Lly5VVFRUpfoGqqKyn0uzfSbdJtyMHTtW6enp2rx5s0P7nTp1qs1IT35+vkJCQhy6DQDw9fW1+zfZqKgot/7tFzWfvZ9Ls3wm3SLcPPLII1q1apU2btyoFi1aXLJtUFCQjh07ZrPs2LFjCgoKqrC9l5eXvLy8HFYr3IOzziNLzG8AgJrOpeHGMAyNGzdOK1eu1Pr16xUWFnbZ98TExGjt2rWaMGGCddlXX32lmJgYJ1YKd8P8BgDAxbg03IwdO1bLli3TJ598In9/f+u8mcDAQOtv2QkJCWrevLmSkpIkSePHj1evXr00a9Ys3Xrrrfrwww+1bds2LViwwGX7gernrPPI5X0DAGoul4abuXPnSpJ69+5ts3zx4sUaNWqUJOngwYPy8Pjf7Xi6d++uZcuW6emnn9aTTz6piIgIpaamXnISMsyntp5HBgBcnstPS13O+vXrL1g2bNgwDRs2zAkVAQCAmo5nSwEAAFMh3AAAAFMh3AAAAFMh3AAAAFMh3AAAAFMh3AAAAFMh3AAAAFMh3AAAAFMh3AAAAFMh3AAAAFMh3AAAAFMh3AAAAFMh3AAAAFMh3AAAAFMh3AAAAFMh3AAAAFOp4+oCAACAfbKyslRQUOCw/jIyMmz+dBR/f39FREQ4tM/KINwAAFCDZGVlqW3btk7pOz4+3uF97tmzp9oDDuEGAIAapHzEZunSpYqKinJIn8XFxcrOzlZoaKh8fHwc0mdGRobi4+MdOsJUWYQbuB1HDreabagVAMpFRUWpS5cuDusvNjbWYX25GuEGbsVZw61mGWoFAFwe4QZuxdHDrWYbaoVr1ITJm4wmAv9DuIFbcuRwq5mGWlH9atLkTUYTgT8QbgDgEmrC5E1GEwFbhBsAqAQmbwI1B3coBgAApkK4AQAApkK4AQAApsKcGwAAapggP4t8Tu+RjrrvGIXP6T0K8rO4ZNuEGwAAapgx0XUVtXGMtNHVlVxclP6o0xUINwAA1DDz087p7meXKCoy0tWlXFRGZqbmzxqhwS7YNuEGAIAaJrfQUHH9tlKzzq4u5aKKc8uUW2i4ZNuEGwC4DHef3+DKuQ2AOyLcAMBluPv8BlfObQDcEeEGAC7D3ec3uHJuA+COCDdwO5wCgLtx9/kNrpzbALgjwg3cDqcAAABXgnADt8MpAADAlSDcwO1wCgAAcCXcc1IDAABAFTFyAwBADVJUVCRJ2r59u8P6LC4uVnZ2tkJDQ+Xj4+OQPjMyMhzST1UQbgAAqEEyMzMlSYmJiS6upHL8/f2rfZuEGwAAapC4uDhJUmRkpHx9fR3SZ0ZGhuLj47V06VJFRUU5pE/pj2ATERHhsP4qi3ADAJdQE04BuHL4H9WvUaNGeuCBB5zSd1RUlLp06eKUvquTS8PNxo0bNWPGDKWlpSknJ0crV660JtKKrF+/Xn369LlgeU5OjoKCgpxYKaqLo79IzHYeGdWvJp0CcMXwP+COXBpuzpw5o2uvvVb333+/hgwZUun37d69WwEBAdbXTZo0cUZ5cAG+SOBuasopAFcN/wPuyKXhZuDAgRo4cKDd72vSpInq16/v+ILgco7+IjHbeWRUP04BADVPjZxz07lzZ5WUlKhDhw56/vnnFRsbe9G2JSUlKikpsb7Oz8+vjhJRRc76IuFLBABqjxp1E7/g4GDNmzdPK1as0IoVKxQSEqLevXtfcn5GUlKSAgMDrT8hISHVWDEAAKhuNWrkpl27dmrXrp31dffu3bVv3z7Nnj1b7733XoXvmTp1qh577DHr6/z8fAIOAAAmVqPCTUVuvPFGbd68+aLrvby85OXlVY0VAQAAV6pRp6Uq8uOPPyo4ONjVZQAAADfh0pGbwsJC7d271/r6wIED+vHHH9WwYUO1bNlSU6dO1ZEjR/Tuu+9KkubMmaOwsDBdc801Onv2rN566y198803+vLLL121CwAAwM24NNxs27bN5qZ85XNjRo4cqSVLlignJ0cHDx60rj937pwmTZqkI0eOyNfXV506ddLXX39d4Y39AABA7eTScNO7d28ZhnHR9UuWLLF5/fjjj+vxxx93clUAAKAmq/FzbgAAAP6McAMAAEylxl8KDgAAKlZUVGR9Zt+llD8QuLIPBnbks9acgXADAIBJZWZmKjo6utLt4+PjK9UuLS3NrR9pQ7gBAMCkIiMjlZaWdtl2xcXFys7OVmhoqHx8fCrVrzsj3AAAYFK+vr6VHmG51EOoaxomFAMAAFMh3AAAAFMh3AAAAFMh3AAAAFMh3AAAAFMh3AAAAFMh3AAAAFMh3AAAAFPhJn4A4ACVfYaPZL7n+ADuhnADAA5g7zN8JPM8xwdwN4Qb1EjOetKtxG/JqJrKPsNHMt9zfAB3YzEMw3B1EdUpPz9fgYGBysvLU0BAgKvLQRVt377d7t+SK4vfkgHA/djz/c3IDWokZz3ptrxvAEDNxcgNAAC1WGlpqTZt2qScnBwFBwerZ8+e8vT0dHVZF7Dn+5tLwQEAqKVSUlIUHh6uPn36aMSIEerTp4/Cw8OVkpLi6tKuCOEGAIBaKCUlRUOHDlXHjh21ZcsWFRQUaMuWLerYsaOGDh1aowMOp6UAAKhlSktLFR4ero4dOyo1NVUeHv8b6ygrK1NcXJzS09OVlZXlNqeoOC0FAAAuatOmTcrOztaTTz5pE2wkycPDQ1OnTtWBAwe0adMmF1V4ZQg3AADUMjk5OZKkDh06VLi+fHl5u5qGcAMAQC0THBwsSUpPT69wffny8nY1DeEGAIBapmfPngoNDdX06dNVVlZms66srExJSUkKCwtTz549XVThlSHcAABQy3h6emrWrFlatWqV4uLibK6WiouL06pVqzRz5ky3mUxsL+5QDABALTRkyBAlJydr0qRJ6t69u3V5WFiYkpOTNWTIEBdWd2W4FBwAgFrMjHcoZuQGAIBazNPTU71793Z1GQ7FnBsAAGAqhBsAAGAqhBsAAGAqhBsAAGAqhBsAAGAqhBsAAGAqhBsAAGAqhBsAAGAqhBsAAGAqte4OxeVPm8jPz3dxJQAAoLLKv7cr89SoWhduCgoKJEkhISEurgQAANiroKBAgYGBl2xT6x6cWVZWpqNHj8rf318Wi8XV5VxUfn6+QkJCdOjQIR7weQU4jo7DsXQcjqVjcBwdpyYcS8MwVFBQoGbNmsnD49KzamrdyI2Hh4datGjh6jIqLSAgwG0/aDUJx9FxOJaOw7F0DI6j47j7sbzciE05JhQDAABTIdwAAABTIdy4KS8vLz333HPy8vJydSk1GsfRcTiWjsOxdAyOo+OY7VjWugnFAADA3Bi5AQAApkK4AQAApkK4AQAApkK4AQAApkK4AQAApkK4cRCLxXLJn+eff/6K+k5NTb1su3/+85/q3r27fH19Vb9+/Spvz9VcfSyzs7M1evRohYWFycfHR23atNFzzz2nc+fOVXm7ruLqYylJgwcPVsuWLeXt7a3g4GDdd999Onr0aJW36wrucBzLlZSUqHPnzrJYLPrxxx+rvF1XcYdjGRoaesF2X3755Spv11Xc4VhK0meffaauXbvKx8dHDRo0UFxcXJW36yi17vELzpKTk2P9748++kjPPvusdu/ebV3m5+fn9BrOnTunYcOGKSYmRosWLXL69pzF1ccyMzNTZWVlmj9/vsLDw5Wenq7ExESdOXNGM2fOdOq2Hc3Vx1KS+vTpoyeffFLBwcE6cuSIJk+erKFDh+q7775z+rYdxR2OY7nHH39czZo1086dO6ttm47kLsfyhRdeUGJiovW1v79/tWzXkdzhWK5YsUKJiYmaPn26+vbtq/Pnzys9Pd3p270sAw63ePFiIzAw0GbZwoULjcjISMPLy8to166d8cYbb1jXlZSUGGPHjjWCgoIMLy8vo2XLlsb06dMNwzCMVq1aGZKsP61atarS9msqVx/Lcq+88ooRFhbmiF1yGXc5lp988olhsViMc+fOOWK3qp0rj+Pq1auNyMhI4+effzYkGTt27HDw3lUvVx3LVq1aGbNnz3bCHrmOK47l77//bjRv3tx46623nLVbVUa4cYK/fsiWLl1qBAcHGytWrDD2799vrFixwmjYsKGxZMkSwzAMY8aMGUZISIixceNGIzs729i0aZOxbNkywzAM4/jx44YkY/HixUZOTo5x/Phxu7dfk7n6WJZ76qmnjOjoaIfuW3Vzh2N56tQp46677jJiY2Mdvn/VxVXHMTc312jevLmxdetW48CBA6YMN9V1LFu1amU0bdrUaNiwodG5c2fjlVdeMX7//Xen7quzueJY/vDDD4Yk4+233zY6d+5sBAUFGbfccouxa9cup+/v5RBunOCvH7I2bdpYPzTlXnzxRSMmJsYwDMMYN26c0bdvX6OsrKzC/iQZK1eurPL2azJXH0vDMIysrCwjICDAWLBggV3vczeuPJaPP/644evra0gyunXrZpw8ebJK++AOXHEcy8rKjFtuucV48cUXDcMwTBtuquszOWvWLGPdunXGzp07jblz5xr169c3Jk6cWOX9cAeuOJYffPCBIclo2bKlkZycbGzbts0YPny4cfXVVxunTp26ov25UoQbJ/jzh6ywsNCQZPj4+Bj16tWz/nh5eRlNmjQxDMMw0tLSjIYNGxoRERHGuHHjjC+++MKmP8JNoGEYrjmWhw8fNtq0aWOMHj3aUbvkMq48lidOnDB2795tfPnll0ZsbKwxaNCgi/6j6u5ccRxfe+01IzY21jh//rxhGOYMN674+11u0aJFRp06dYyzZ89e6S65jCuO5fvvv29IMubPn29ddvbsWaNRo0bGvHnzHLp/9mJCsZMVFhZKkhYuXKiuXbvarPP09JQkdenSRQcOHNCaNWv09ddf66677lL//v2VnJxc7fW6s+o+lkePHlWfPn3UvXt3LViw4Mp3wI1U97Fs1KiRGjVqpLZt2yoqKkohISH6/vvvFRMTc+U740LVdRy/+eYbbdmy5YKHGl5//fW699579c4771zhnrieK/+t7Nq1q86fP6/s7Gy1a9fuivpyB9V1LIODgyVJ7du3ty7z8vJS69atdfDgwSvdjStCuHGypk2bqlmzZtq/f7/uvffei7YLCAjQ3XffrbvvvltDhw7VLbfcol9//VUNGzbUVVddpdLS0mqs2j1V57E8cuSI+vTpo+joaC1evFgeHua6a4IrP5dlZWWS/rikuaarruP473//Wy+99JL19dGjRzVgwAB99NFHF3x51VSu/Ez++OOP8vDwUJMmTa5kF9xGdR3L6OhoeXl5affu3erRo4ck6ffff1d2drZatWrl0H2yF+GmGkybNk2PPvqoAgMDdcstt6ikpETbtm3Tb7/9pscee0yvvvqqgoODdd1118nDw0PLly9XUFCQ9V41oaGhWrt2rWJjY+Xl5aUGDRpUuJ2DBw/q119/1cGDB1VaWmq9B0Z4eHi1XqrqTNVxLI8cOaLevXurVatWmjlzpk6cOGFdFxQUVF276nTVcSx/+OEHbd26VT169FCDBg20b98+PfPMM2rTpk2NH7UpVx3HsWXLljavy/8+t2nTRi1atHD6PlaX6jiWW7Zs0Q8//KA+ffrI399fW7Zs0cSJExUfH3/Rf1trouo4lgEBAXrooYf03HPPKSQkRK1atdKMGTMkScOGDavO3b2QS0+KmVRFc17ef/99o3PnzkbdunWNBg0aGDfddJORkpJiGIZhLFiwwOjcubNRr149IyAgwOjXr5+xfft263s//fRTIzw83KhTp84lL28cOXKkzeV75T/r1q1zwl5WD1ccy8WLF1d4HGv6XxdXHMuffvrJ6NOnj9GwYUPDy8vLCA0NNR566CHj8OHDztpNp3PV3+8/M+Ocm3LOPpZpaWlG165djcDAQMPb29uIiooypk+fXqPn2xiG6z6X586dMyZNmmQ0adLE8Pf3N/r372+kp6c7YxftYjEMw3BNrAIAAHA8c00kAAAAtR7hBgAAmArhBgAAmArhBgAAmArhBgAAmArhBgAAmArhBgAAmArhBgAAmArhBgAAmArhBgAAmArhBgAAmMr/B6m4QZ6G/8WWAAAAAElFTkSuQmCC",
      "text/plain": [
       "<Figure size 640x480 with 1 Axes>"
      ]
     },
     "metadata": {},
     "output_type": "display_data"
    }
   ],
   "source": [
    "boxplot_data = [\n",
    "    matrix_PHE[0],\n",
    "    matrix_PHE[1],\n",
    "    matrix_PHE[2],\n",
    "    matrix_PHE[3],\n",
    "    matrix_PHE[4],\n",
    "    matrix_PHE[5]\n",
    "]\n",
    "labels = ['Test 1', 'Test 2', 'Test 3', 'Test 4', 'Test 5', 'Test 6']\n",
    "\n",
    "fig, ax = plt.subplots()\n",
    "plt.title('Phenodigm Score')\n",
    "ax.set_ylabel('Average Score')\n",
    "\n",
    "bplot = ax.boxplot(boxplot_data,\n",
    "                   tick_labels=labels)\n",
    "\n",
    "plt.show()"
   ]
  },
  {
   "cell_type": "markdown",
   "metadata": {},
   "source": [
    "<h2>Further tests on behaviour on the AIC algortihm of the Monarch Initiative</h2>\n",
    "<p>We define a fix setB with 10 random HPO<p>"
   ]
  },
  {
   "cell_type": "code",
   "execution_count": 21,
   "metadata": {},
   "outputs": [
    {
     "data": {
      "text/plain": [
       "['HP:0040248',\n",
       " 'HP:0012157',\n",
       " 'HP:0500132',\n",
       " 'HP:0031088',\n",
       " 'HP:0006955',\n",
       " 'HP:0032182',\n",
       " 'HP:0000458',\n",
       " 'HP:0031946',\n",
       " 'HP:0045036',\n",
       " 'HP:0012323']"
      ]
     },
     "execution_count": 21,
     "metadata": {},
     "output_type": "execute_result"
    }
   ],
   "source": [
    "random.seed(12)\n",
    "randomHPO = random.sample(range(len(data['graphs'][0]['nodes'])),10)\n",
    "\n",
    "setB = []\n",
    "for i in randomHPO:\n",
    "    setB.append(getHPO(data['graphs'][0]['nodes'][i]['id']))\n",
    "setB = list(map(lambda x: x.replace('_',':'), setB))\n",
    "setB"
   ]
  },
  {
   "cell_type": "markdown",
   "metadata": {},
   "source": [
    "<p>Test 1 has a SetA with 5 generalized HPO of SetB</p>"
   ]
  },
  {
   "cell_type": "code",
   "execution_count": 22,
   "metadata": {},
   "outputs": [
    {
     "data": {
      "text/plain": [
       "['HP:0000008', 'HP:0007360', 'HP:0011893', 'HP:0010892', 'HP:0003110']"
      ]
     },
     "execution_count": 22,
     "metadata": {},
     "output_type": "execute_result"
    }
   ],
   "source": [
    "generalizer = [2,3,4]\n",
    "test1 = []\n",
    "for i in randomHPO:\n",
    "    test1.append(getHPO(traverseGraph(data['graphs'][0]['nodes'][i]['id'],random.choice(generalizer))))\n",
    "test1 = list(map(lambda x: x.replace('_',':'), test1))\n",
    "test1 = random.sample(test1, 5)\n",
    "test1"
   ]
  },
  {
   "cell_type": "markdown",
   "metadata": {},
   "source": [
    "<p>Test 2 has a SetA with 10 generalized HPO of SetB</p>"
   ]
  },
  {
   "cell_type": "code",
   "execution_count": 23,
   "metadata": {},
   "outputs": [
    {
     "data": {
      "text/plain": [
       "['HP:0001871',\n",
       " 'HP:0002977',\n",
       " 'HP:0033107',\n",
       " 'HP:0000812',\n",
       " 'HP:0012639',\n",
       " 'HP:0004332',\n",
       " 'HP:0000234',\n",
       " 'HP:0033354',\n",
       " 'HP:0011277',\n",
       " 'HP:0011442']"
      ]
     },
     "execution_count": 23,
     "metadata": {},
     "output_type": "execute_result"
    }
   ],
   "source": [
    "test2 = []\n",
    "for i in randomHPO:\n",
    "    test2.append(getHPO(traverseGraph(data['graphs'][0]['nodes'][i]['id'],random.choice(generalizer))))\n",
    "test2 = list(map(lambda x: x.replace('_',':'), test2))\n",
    "test2"
   ]
  },
  {
   "cell_type": "markdown",
   "metadata": {},
   "source": [
    "Test 3 has a SetA with 10 generalized HPO of SetB and an additional 5 random HPO as noise"
   ]
  },
  {
   "cell_type": "code",
   "execution_count": 24,
   "metadata": {},
   "outputs": [
    {
     "data": {
      "text/plain": [
       "['HP:0001871',\n",
       " 'HP:0007132',\n",
       " 'HP:0500132',\n",
       " 'HP:0031088',\n",
       " 'HP:0007360',\n",
       " 'HP:0011839',\n",
       " 'HP:0000366',\n",
       " 'HP:0031946',\n",
       " 'HP:0001939',\n",
       " 'HP:0004305',\n",
       " 'HP:0008326',\n",
       " 'HP:0034920',\n",
       " 'HP:0031581',\n",
       " 'HP:0009182',\n",
       " 'HP:0009435']"
      ]
     },
     "execution_count": 24,
     "metadata": {},
     "output_type": "execute_result"
    }
   ],
   "source": [
    "test3 = []\n",
    "ar_t3 = random.sample(range(len(data['graphs'][0]['nodes'])),5)\n",
    "for i in randomHPO:\n",
    "    test3.append(getHPO(traverseGraph(data['graphs'][0]['nodes'][i]['id'],random.choice(random_noise))))\n",
    "for j in ar_t3:\n",
    "    test3.append(getHPO(data['graphs'][0]['nodes'][j]['id']))\n",
    "\n",
    "test3 = list(map(lambda x: x.replace('_',':'), test3))\n",
    "test3"
   ]
  },
  {
   "cell_type": "markdown",
   "metadata": {},
   "source": [
    "<p>Test 4 has a SetA build searching for terms N levels above and below the terms on SetB.<p>\n",
    "<p>In this case N = 3 and max length = 30<p> "
   ]
  },
  {
   "cell_type": "code",
   "execution_count": 25,
   "metadata": {},
   "outputs": [
    {
     "data": {
      "text/plain": [
       "25"
      ]
     },
     "execution_count": 25,
     "metadata": {},
     "output_type": "execute_result"
    }
   ],
   "source": [
    "test4 = []\n",
    "N = 30\n",
    "for j in range(N):\n",
    "    i = random.choice(randomHPO)\n",
    "    test4.append(getHPO(traverseGraph(data['graphs'][0]['nodes'][i]['id'],random.choice(random_noise))))\n",
    "\n",
    "test4 = list(map(lambda x: x.replace('_',':'), test4))\n",
    "test4 = list(set(test4))\n",
    "len(test4)"
   ]
  },
  {
   "cell_type": "markdown",
   "metadata": {},
   "source": [
    "<h4>Testing the 4 tests explained above (N = 50)</h4>"
   ]
  },
  {
   "cell_type": "code",
   "execution_count": 362,
   "metadata": {},
   "outputs": [],
   "source": [
    "N = 50\n",
    "matrix = np.zeros([4,N])\n",
    "\n",
    "random.seed(12)\n",
    "\n",
    "for k in range(N):\n",
    "    randomHPO = random.sample(range(5,len(data['graphs'][0]['nodes'])-23),10)\n",
    "\n",
    "    setB = []\n",
    "    for i in randomHPO:\n",
    "        setB.append(getHPO(data['graphs'][0]['nodes'][i]['id']))\n",
    "    setB = list(map(lambda x: x.replace('_',':'), setB))\n",
    "\n",
    "    test1 = []\n",
    "    for i in randomHPO:\n",
    "        test1.append(getHPO(traverseGraph(data['graphs'][0]['nodes'][i]['id'],random.choice(generalizer))))\n",
    "    test1 = list(map(lambda x: x.replace('_',':'), test1))\n",
    "    test1 = random.sample(test1, 5)\n",
    "\n",
    "    test2 = []\n",
    "    for i in randomHPO:\n",
    "        test2.append(getHPO(traverseGraph(data['graphs'][0]['nodes'][i]['id'],random.choice(generalizer))))\n",
    "    test2 = list(map(lambda x: x.replace('_',':'), test2))\n",
    "\n",
    "    test3 = []\n",
    "    ar_t3 = random.sample(range(5,len(data['graphs'][0]['nodes'])-23),5)\n",
    "    for i in randomHPO:\n",
    "        test3.append(getHPO(traverseGraph(data['graphs'][0]['nodes'][i]['id'],random.choice(generalizer))))\n",
    "    for j in ar_t3:\n",
    "        test3.append(getHPO(data['graphs'][0]['nodes'][j]['id']))\n",
    "\n",
    "    test3 = list(map(lambda x: x.replace('_',':'), test3))\n",
    "\n",
    "    test4 = []\n",
    "    N = 30\n",
    "    for j in range(N):\n",
    "        i = random.choice(randomHPO)\n",
    "        test4.append(getHPO(traverseGraph(data['graphs'][0]['nodes'][i]['id'],random.choice(generalizer))))\n",
    "\n",
    "    test4 = list(map(lambda x: x.replace('_',':'), test4))\n",
    "    test4 = list(set(test4))\n",
    "\n",
    "    test1 = [test1,setB]\n",
    "    test2 = [test2,setB]\n",
    "    test3 = [test3,setB]\n",
    "    test4 = [test4,setB]\n",
    "\n",
    "    array_test = [test1,test2,test3,test4]\n",
    "\n",
    "    for i in range(len(array_test)):\n",
    "        response = requests.get('https://monarchinitiative.org/v3/api/semsim/compare/'+ prepareRequest(array_test[i]) + '?metric=ancestor_information_content')\n",
    "        matrix[i][k] = response.json()['average_score']\n"
   ]
  },
  {
   "cell_type": "markdown",
   "metadata": {},
   "source": [
    "<h1>Results</h1>"
   ]
  },
  {
   "cell_type": "code",
   "execution_count": 363,
   "metadata": {},
   "outputs": [
    {
     "data": {
      "image/png": "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",
      "text/plain": [
       "<Figure size 640x480 with 1 Axes>"
      ]
     },
     "metadata": {},
     "output_type": "display_data"
    }
   ],
   "source": [
    "boxplot_data = [\n",
    "    matrix[0],\n",
    "    matrix[1],\n",
    "    matrix[2],\n",
    "    matrix[3]\n",
    "]\n",
    "labels = ['Test 1', 'Test 2', 'Test 3', 'Test 4']\n",
    "\n",
    "fig, ax = plt.subplots()\n",
    "plt.title('Ancestor Information Content')\n",
    "ax.set_ylabel('Average Score')\n",
    "\n",
    "bplot = ax.boxplot(boxplot_data,\n",
    "                   tick_labels=labels)\n",
    "\n",
    "plt.show()"
   ]
  },
  {
   "cell_type": "markdown",
   "metadata": {},
   "source": [
    "<h2>Studying the behaviour of the algorithm with variable setA and setB length</h2>"
   ]
  },
  {
   "cell_type": "code",
   "execution_count": 26,
   "metadata": {},
   "outputs": [],
   "source": [
    "N = 300\n",
    "random.seed(12)\n",
    "l = []\n",
    "l1 = []\n",
    "duration = []\n",
    "for j in range(N):\n",
    "    numHPO = random.randint(5,100)\n",
    "    randomHPO = random.sample(range(5,len(data['graphs'][0]['nodes'])-23),numHPO)\n",
    "\n",
    "    setA = []\n",
    "    for i in randomHPO:\n",
    "        setA.append(getHPO(data['graphs'][0]['nodes'][i]['id']))\n",
    "    setA = list(map(lambda x: x.replace('_',':'), setA))\n",
    "\n",
    "    randomHPO1 = random.sample(range(5,len(data['graphs'][0]['nodes'])-23),10)\n",
    "\n",
    "    setB_1 = []\n",
    "    for i in randomHPO1:\n",
    "        setB_1.append(getHPO(data['graphs'][0]['nodes'][i]['id']))\n",
    "    setB_1 = list(map(lambda x: x.replace('_',':'), setB_1))\n",
    "\n",
    "    setB_2 = []\n",
    "    for i in randomHPO:\n",
    "        setB_2.append(getHPO(traverseGraph(data['graphs'][0]['nodes'][i]['id'],random.choice(generalizer))))\n",
    "    setB_2 =  list(map(lambda x: x.replace('_',':'), setB_2))\n",
    "\n",
    "    array_test = [[setA,setB_1],[setA,setB_2]]\n",
    "    start = time.time()\n",
    "    response = requests.get('https://monarchinitiative.org/v3/api/semsim/compare/'+ prepareRequest(array_test[0]) + '?metric=ancestor_information_content')\n",
    "    response1 = requests.get('https://monarchinitiative.org/v3/api/semsim/compare/'+ prepareRequest(array_test[1]) + '?metric=ancestor_information_content')\n",
    "    end = time.time()\n",
    "    l.append([numHPO,response.json()['average_score']])\n",
    "    l1.append([numHPO,response1.json()['average_score']])\n",
    "    duration.append([numHPO,end-start])"
   ]
  },
  {
   "cell_type": "markdown",
   "metadata": {},
   "source": [
    "<h1>Results</h1>"
   ]
  },
  {
   "cell_type": "code",
   "execution_count": 27,
   "metadata": {},
   "outputs": [
    {
     "data": {
      "image/png": "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",
      "text/plain": [
       "<Figure size 640x480 with 1 Axes>"
      ]
     },
     "metadata": {},
     "output_type": "display_data"
    }
   ],
   "source": [
    "plt.scatter([row[0] for row in duration],[row[1]/2 for row in duration])\n",
    "plt.xlabel('Num HPO terms')\n",
    "plt.ylabel('Time (sec)')\n",
    "plt.title('API time test')\n",
    "\n",
    "plt.show()"
   ]
  },
  {
   "cell_type": "code",
   "execution_count": 365,
   "metadata": {},
   "outputs": [
    {
     "data": {
      "image/png": "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",
      "text/plain": [
       "<Figure size 640x480 with 1 Axes>"
      ]
     },
     "metadata": {},
     "output_type": "display_data"
    }
   ],
   "source": [
    "plt.scatter([row[0] for row in l],[row[1] for row in l])\n",
    "plt.xlabel('Num HPO terms')\n",
    "plt.ylabel('Average score')\n",
    "plt.title('Random sets')\n",
    "\n",
    "plt.show()"
   ]
  },
  {
   "cell_type": "code",
   "execution_count": 366,
   "metadata": {},
   "outputs": [
    {
     "data": {
      "image/png": "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",
      "text/plain": [
       "<Figure size 640x480 with 1 Axes>"
      ]
     },
     "metadata": {},
     "output_type": "display_data"
    }
   ],
   "source": [
    "plt.scatter([row[0] for row in l1],[row[1] for row in l1])\n",
    "plt.xlabel('Num HPO terms')\n",
    "plt.ylabel('Average score')\n",
    "plt.title('SetB generalized from setA')\n",
    "\n",
    "plt.show()"
   ]
  },
  {
   "cell_type": "markdown",
   "metadata": {},
   "source": [
    "<h1>Firsts tests on phenotype classification</h1>"
   ]
  },
  {
   "cell_type": "code",
   "execution_count": 118,
   "metadata": {},
   "outputs": [],
   "source": [
    "g1 = []\n",
    "g2 = []\n",
    "g3 = []"
   ]
  },
  {
   "cell_type": "markdown",
   "metadata": {},
   "source": [
    "<p>We define 3 groups,g1 ,g2 and g3, following normal distribution centered around 0.25, 0.5 and 0.75 respectively. (Sigma = 0.5)</p>"
   ]
  },
  {
   "cell_type": "code",
   "execution_count": 119,
   "metadata": {},
   "outputs": [],
   "source": [
    "while(len(g1) < 100000):\n",
    "    val = random.gauss(0.25,0.5)\n",
    "    if 0 < val < 1:\n",
    "        g1.append(val)\n",
    "\n",
    "while(len(g2) < 100000):\n",
    "    val = random.gauss(0.5,0.5)\n",
    "    if 0 < val < 1:\n",
    "        g2.append(val)\n",
    "\n",
    "while(len(g3) < 100000):\n",
    "    val = random.gauss(0.75,0.5)\n",
    "    if 0 < val < 1:\n",
    "        g3.append(val)"
   ]
  },
  {
   "cell_type": "markdown",
   "metadata": {},
   "source": [
    "<p>Mapping the three distinct groups populated with 100000 instances to their respective HPO term</p>"
   ]
  },
  {
   "cell_type": "code",
   "execution_count": 120,
   "metadata": {},
   "outputs": [],
   "source": [
    "g1 = list(map(lambda x: data['graphs'][0]['nodes'][round(x*len(data['graphs'][0]['nodes'])-23)+5]['id'],g1))\n",
    "g2 = list(map(lambda x: data['graphs'][0]['nodes'][round(x*len(data['graphs'][0]['nodes'])-23)+5]['id'],g2))\n",
    "g3 = list(map(lambda x: data['graphs'][0]['nodes'][round(x*len(data['graphs'][0]['nodes'])-23)+5]['id'],g3))"
   ]
  },
  {
   "cell_type": "markdown",
   "metadata": {},
   "source": [
    "<h3>Extracting most significant HPO of each group as method of comparison</h3>\n",
    "<p>In this case we will select the 100 most occuring HPO in a group and all HPO whose frequency between groups is above 85%</p>"
   ]
  },
  {
   "cell_type": "code",
   "execution_count": 121,
   "metadata": {},
   "outputs": [],
   "source": [
    "cg1 = Counter(g1)\n",
    "cg2 = Counter(g2)\n",
    "cg3 = Counter(g3)"
   ]
  },
  {
   "cell_type": "code",
   "execution_count": 122,
   "metadata": {},
   "outputs": [],
   "source": [
    "totalCount = cg1 + cg2 + cg3"
   ]
  },
  {
   "cell_type": "code",
   "execution_count": 123,
   "metadata": {},
   "outputs": [],
   "source": [
    "bestG1 = list(cg1.keys())[0:100]\n",
    "bestG2 = list(cg2.keys())[0:100]\n",
    "bestG3 = list(cg3.keys())[0:100]"
   ]
  },
  {
   "cell_type": "code",
   "execution_count": 124,
   "metadata": {},
   "outputs": [],
   "source": [
    "for i in cg1.keys():\n",
    "    div = cg1[i]/totalCount[i]\n",
    "    if div > 0.85:\n",
    "        bestG1.append(i)\n",
    "\n",
    "for i in cg2.keys():\n",
    "    div = cg2[i]/totalCount[i]\n",
    "    if div > 0.85:\n",
    "        bestG2.append(i)\n",
    "\n",
    "for i in cg3.keys():\n",
    "    div = cg3[i]/totalCount[i]\n",
    "    if div > 0.85:\n",
    "        bestG3.append(i)"
   ]
  },
  {
   "cell_type": "markdown",
   "metadata": {},
   "source": [
    "<p>Testing random sample of g1 and size 40 with all 3 distict groups<p>"
   ]
  },
  {
   "cell_type": "code",
   "execution_count": 125,
   "metadata": {},
   "outputs": [],
   "source": [
    "testA = random.sample(g1, 40)\n",
    "testB1 = list(set(bestG1))\n",
    "testB2 = list(set(bestG2))\n",
    "testB3 = list(set(bestG3))"
   ]
  },
  {
   "cell_type": "code",
   "execution_count": 126,
   "metadata": {},
   "outputs": [],
   "source": [
    "testA = list(map(lambda x: getHPO(x), testA))\n",
    "testA = list(map(lambda x: x.replace('_',':'), testA))\n",
    "\n",
    "testB1 = list(map(lambda x: getHPO(x), testB1))\n",
    "testB1 = list(map(lambda x: x.replace('_',':'), testB1))\n",
    "\n",
    "testB2 = list(map(lambda x: getHPO(x), testB2))\n",
    "testB2 = list(map(lambda x: x.replace('_',':'), testB2))\n",
    "\n",
    "testB3 = list(map(lambda x: getHPO(x), testB3))\n",
    "testB3 = list(map(lambda x: x.replace('_',':'), testB3))"
   ]
  },
  {
   "cell_type": "code",
   "execution_count": 127,
   "metadata": {},
   "outputs": [
    {
     "name": "stdout",
     "output_type": "stream",
     "text": [
      "10.235548167263957\n",
      "9.846838075029398\n",
      "9.9543666045684\n"
     ]
    }
   ],
   "source": [
    "response = requests.get('https://monarchinitiative.org/v3/api/semsim/compare/'+ prepareRequest([testA, testB1]) + '?metric=ancestor_information_content')\n",
    "print(response.json()['average_score'])\n",
    "response = requests.get('https://monarchinitiative.org/v3/api/semsim/compare/'+ prepareRequest([testA, testB2]) + '?metric=ancestor_information_content')\n",
    "print(response.json()['average_score'])\n",
    "response = requests.get('https://monarchinitiative.org/v3/api/semsim/compare/'+ prepareRequest([testA, testB3]) + '?metric=ancestor_information_content')\n",
    "print(response.json()['average_score'])\n"
   ]
  },
  {
   "cell_type": "markdown",
   "metadata": {},
   "source": [
    "<p>Small visualization of database mapping HPO terms to associated genes and disease<p>"
   ]
  },
  {
   "cell_type": "code",
   "execution_count": 20,
   "metadata": {},
   "outputs": [],
   "source": [
    "phen_to_genes = pd.read_csv('ontologies/phenotype_to_genes.txt', sep='\\t')"
   ]
  },
  {
   "cell_type": "code",
   "execution_count": 15,
   "metadata": {},
   "outputs": [
    {
     "data": {
      "text/html": [
       "<div>\n",
       "<style scoped>\n",
       "    .dataframe tbody tr th:only-of-type {\n",
       "        vertical-align: middle;\n",
       "    }\n",
       "\n",
       "    .dataframe tbody tr th {\n",
       "        vertical-align: top;\n",
       "    }\n",
       "\n",
       "    .dataframe thead th {\n",
       "        text-align: right;\n",
       "    }\n",
       "</style>\n",
       "<table border=\"1\" class=\"dataframe\">\n",
       "  <thead>\n",
       "    <tr style=\"text-align: right;\">\n",
       "      <th></th>\n",
       "      <th>hpo_id</th>\n",
       "      <th>hpo_name</th>\n",
       "      <th>ncbi_gene_id</th>\n",
       "      <th>gene_symbol</th>\n",
       "      <th>disease_id</th>\n",
       "    </tr>\n",
       "  </thead>\n",
       "  <tbody>\n",
       "    <tr>\n",
       "      <th>0</th>\n",
       "      <td>HP:0004808</td>\n",
       "      <td>Acute myeloid leukemia</td>\n",
       "      <td>2672</td>\n",
       "      <td>GFI1</td>\n",
       "      <td>OMIM:607847</td>\n",
       "    </tr>\n",
       "    <tr>\n",
       "      <th>1</th>\n",
       "      <td>HP:0004808</td>\n",
       "      <td>Acute myeloid leukemia</td>\n",
       "      <td>2672</td>\n",
       "      <td>GFI1</td>\n",
       "      <td>ORPHA:486</td>\n",
       "    </tr>\n",
       "    <tr>\n",
       "      <th>2</th>\n",
       "      <td>HP:0004808</td>\n",
       "      <td>Acute myeloid leukemia</td>\n",
       "      <td>675</td>\n",
       "      <td>BRCA2</td>\n",
       "      <td>OMIM:605724</td>\n",
       "    </tr>\n",
       "    <tr>\n",
       "      <th>3</th>\n",
       "      <td>HP:0004808</td>\n",
       "      <td>Acute myeloid leukemia</td>\n",
       "      <td>675</td>\n",
       "      <td>BRCA2</td>\n",
       "      <td>OMIM:613029</td>\n",
       "    </tr>\n",
       "    <tr>\n",
       "      <th>4</th>\n",
       "      <td>HP:0004808</td>\n",
       "      <td>Acute myeloid leukemia</td>\n",
       "      <td>128</td>\n",
       "      <td>ADH5</td>\n",
       "      <td>OMIM:619151</td>\n",
       "    </tr>\n",
       "  </tbody>\n",
       "</table>\n",
       "</div>"
      ],
      "text/plain": [
       "       hpo_id                hpo_name  ncbi_gene_id gene_symbol   disease_id\n",
       "0  HP:0004808  Acute myeloid leukemia          2672        GFI1  OMIM:607847\n",
       "1  HP:0004808  Acute myeloid leukemia          2672        GFI1    ORPHA:486\n",
       "2  HP:0004808  Acute myeloid leukemia           675       BRCA2  OMIM:605724\n",
       "3  HP:0004808  Acute myeloid leukemia           675       BRCA2  OMIM:613029\n",
       "4  HP:0004808  Acute myeloid leukemia           128        ADH5  OMIM:619151"
      ]
     },
     "execution_count": 15,
     "metadata": {},
     "output_type": "execute_result"
    }
   ],
   "source": [
    "phen_to_genes.head()"
   ]
  },
  {
   "cell_type": "code",
   "execution_count": 16,
   "metadata": {},
   "outputs": [],
   "source": [
    "def genes_info(setA: List[str], setB: List[str], data=phen_to_genes) -> dict:\n",
    "    '''\n",
    "    Gets two HPO sets (setA and setB) and the phen_to_genes data and returns\n",
    "    all genes associated with both HPO terms of both sets and the number of times it\n",
    "    is found in each set.\n",
    "    '''\n",
    "    gSetA = []\n",
    "    gSetB = []\n",
    "    for i in range(len(data['hpo_id'])):\n",
    "        if(data['hpo_id'][i] in setA):\n",
    "            gSetA.append(data['gene_symbol'][i])\n",
    "        if(data['hpo_id'][i] in setB):\n",
    "            gSetB.append(data['gene_symbol'][i])\n",
    "    \n",
    "    d = dict((el,0) for el in set.intersection(set(gSetA),set(gSetB)))\n",
    "\n",
    "    for i in gSetA:\n",
    "        if i in d.keys():\n",
    "            d[i]+=1\n",
    "    \n",
    "    for i in gSetB:\n",
    "        if i in d.keys():\n",
    "            d[i]+=1\n",
    "\n",
    "    return d"
   ]
  },
  {
   "cell_type": "code",
   "execution_count": 17,
   "metadata": {},
    }
   ],
   "source": [
    "genes_info(test2, setB, phen_to_genes)"
   ]
  },
  {
   "cell_type": "markdown",
   "metadata": {},
   "source": [
    "<h1>Testing the classification method with more realistic data</h1>\n",
    "<p>The 4 groups (Cardiovascular, Respiratory, Immunology, Neurologic) are populated with data from OMIM. 200 disease of each class and their respective associated<p>\n",
    "<p>HPO terms are loaded onto their respective group.<p>"
   ]
  },
  {
   "cell_type": "code",
   "execution_count": 12,
   "metadata": {},
   "outputs": [],
   "source": [
    "cardio = pd.read_csv('disease/Cardiovascular.tsv', sep='\\t')\n",
    "resp = pd.read_csv('disease/Respiratory.tsv', sep='\\t')\n",
    "immuno = pd.read_csv('disease/Immunology.tsv', sep='\\t')\n",
    "neuro = pd.read_csv('disease/Neurologic.tsv', sep='\\t')"
   ]
  },
  {
   "cell_type": "code",
   "execution_count": 13,
   "metadata": {},
   "outputs": [
    {
     "data": {
      "text/html": [
       "<div>\n",
       "<style scoped>\n",
       "    .dataframe tbody tr th:only-of-type {\n",
       "        vertical-align: middle;\n",
       "    }\n",
       "\n",
       "    .dataframe tbody tr th {\n",
       "        vertical-align: top;\n",
       "    }\n",
       "\n",
       "    .dataframe thead th {\n",
       "        text-align: right;\n",
       "    }\n",
       "</style>\n",
       "<table border=\"1\" class=\"dataframe\">\n",
       "  <thead>\n",
       "    <tr style=\"text-align: right;\">\n",
       "      <th></th>\n",
       "      <th>MIM Number</th>\n",
       "      <th>Title</th>\n",
       "      <th>Entrez Gene ID</th>\n",
       "    </tr>\n",
       "  </thead>\n",
       "  <tbody>\n",
       "    <tr>\n",
       "      <th>0</th>\n",
       "      <td>#300373</td>\n",
       "      <td>OSTEOPATHIA STRIATA WITH CRANIAL SCLEROSIS; OSCS</td>\n",
       "      <td>NaN</td>\n",
       "    </tr>\n",
       "    <tr>\n",
       "      <th>1</th>\n",
       "      <td>#300376</td>\n",
       "      <td>MUSCULAR DYSTROPHY, BECKER TYPE; BMD</td>\n",
       "      <td>NaN</td>\n",
       "    </tr>\n",
       "    <tr>\n",
       "      <th>2</th>\n",
       "      <td>#300438</td>\n",
       "      <td>HSD10 MITOCHONDRIAL DISEASE; HSD10MD</td>\n",
       "      <td>NaN</td>\n",
       "    </tr>\n",
       "    <tr>\n",
       "      <th>3</th>\n",
       "      <td>#300539</td>\n",
       "      <td>NEPHROGENIC SYNDROME OF INAPPROPRIATE ANTIDIUR...</td>\n",
       "      <td>NaN</td>\n",
       "    </tr>\n",
       "    <tr>\n",
       "      <th>4</th>\n",
       "      <td>#300590</td>\n",
       "      <td>CORNELIA DE LANGE SYNDROME 2; CDLS2</td>\n",
       "      <td>NaN</td>\n",
       "    </tr>\n",
       "  </tbody>\n",
       "</table>\n",
       "</div>"
      ],
      "text/plain": [
       "  MIM Number                                              Title  \\\n",
       "0    #300373   OSTEOPATHIA STRIATA WITH CRANIAL SCLEROSIS; OSCS   \n",
       "1    #300376               MUSCULAR DYSTROPHY, BECKER TYPE; BMD   \n",
       "2    #300438               HSD10 MITOCHONDRIAL DISEASE; HSD10MD   \n",
       "3    #300539  NEPHROGENIC SYNDROME OF INAPPROPRIATE ANTIDIUR...   \n",
       "4    #300590                CORNELIA DE LANGE SYNDROME 2; CDLS2   \n",
       "\n",
       "   Entrez Gene ID  \n",
       "0             NaN  \n",
       "1             NaN  \n",
       "2             NaN  \n",
       "3             NaN  \n",
       "4             NaN  "
      ]
     },
     "execution_count": 13,
     "metadata": {},
     "output_type": "execute_result"
    }
   ],
   "source": [
    "cardio.head()"
   ]
  },
  {
   "cell_type": "code",
   "execution_count": 14,
   "metadata": {},
   "outputs": [
    {
     "data": {
      "text/html": [
       "<div>\n",
       "<style scoped>\n",
       "    .dataframe tbody tr th:only-of-type {\n",
       "        vertical-align: middle;\n",
       "    }\n",
       "\n",
       "    .dataframe tbody tr th {\n",
       "        vertical-align: top;\n",
       "    }\n",
       "\n",
       "    .dataframe thead th {\n",
       "        text-align: right;\n",
       "    }\n",
       "</style>\n",
       "<table border=\"1\" class=\"dataframe\">\n",
       "  <thead>\n",
       "    <tr style=\"text-align: right;\">\n",
       "      <th></th>\n",
       "      <th>MIM Number</th>\n",
       "      <th>Title</th>\n",
       "      <th>Entrez Gene ID</th>\n",
       "    </tr>\n",
       "  </thead>\n",
       "  <tbody>\n",
       "    <tr>\n",
       "      <th>0</th>\n",
       "      <td>#300373</td>\n",
       "      <td>OSTEOPATHIA STRIATA WITH CRANIAL SCLEROSIS; OSCS</td>\n",
       "      <td>NaN</td>\n",
       "    </tr>\n",
       "    <tr>\n",
       "      <th>1</th>\n",
       "      <td>#300400</td>\n",
       "      <td>SEVERE COMBINED IMMUNODEFICIENCY, X-LINKED; SC...</td>\n",
       "      <td>NaN</td>\n",
       "    </tr>\n",
       "    <tr>\n",
       "      <th>2</th>\n",
       "      <td>#300455</td>\n",
       "      <td>RETINITIS PIGMENTOSA, X-LINKED, AND SINORESPIR...</td>\n",
       "      <td>NaN</td>\n",
       "    </tr>\n",
       "    <tr>\n",
       "      <th>3</th>\n",
       "      <td>#300635</td>\n",
       "      <td>LYMPHOPROLIFERATIVE SYNDROME, X-LINKED, 2; XLP2</td>\n",
       "      <td>NaN</td>\n",
       "    </tr>\n",
       "    <tr>\n",
       "      <th>4</th>\n",
       "      <td>#300672</td>\n",
       "      <td>DEVELOPMENTAL AND EPILEPTIC ENCEPHALOPATHY 2; ...</td>\n",
       "      <td>NaN</td>\n",
       "    </tr>\n",
       "  </tbody>\n",
       "</table>\n",
       "</div>"
      ],
      "text/plain": [
       "  MIM Number                                              Title  \\\n",
       "0    #300373   OSTEOPATHIA STRIATA WITH CRANIAL SCLEROSIS; OSCS   \n",
       "1    #300400  SEVERE COMBINED IMMUNODEFICIENCY, X-LINKED; SC...   \n",
       "2    #300455  RETINITIS PIGMENTOSA, X-LINKED, AND SINORESPIR...   \n",
       "3    #300635    LYMPHOPROLIFERATIVE SYNDROME, X-LINKED, 2; XLP2   \n",
       "4    #300672  DEVELOPMENTAL AND EPILEPTIC ENCEPHALOPATHY 2; ...   \n",
       "\n",
       "   Entrez Gene ID  \n",
       "0             NaN  \n",
       "1             NaN  \n",
       "2             NaN  \n",
       "3             NaN  \n",
       "4             NaN  "
      ]
     },
     "execution_count": 14,
     "metadata": {},
     "output_type": "execute_result"
    }
   ],
   "source": [
    "resp.head()"
   ]
  },
  {
   "cell_type": "code",
   "execution_count": 15,
   "metadata": {},
   "outputs": [
    {
     "data": {
      "text/html": [
       "<div>\n",
       "<style scoped>\n",
       "    .dataframe tbody tr th:only-of-type {\n",
       "        vertical-align: middle;\n",
       "    }\n",
       "\n",
       "    .dataframe tbody tr th {\n",
       "        vertical-align: top;\n",
       "    }\n",
       "\n",
       "    .dataframe thead th {\n",
       "        text-align: right;\n",
       "    }\n",
       "</style>\n",
       "<table border=\"1\" class=\"dataframe\">\n",
       "  <thead>\n",
       "    <tr style=\"text-align: right;\">\n",
       "      <th></th>\n",
       "      <th>MIM Number</th>\n",
       "      <th>Title</th>\n",
       "      <th>Entrez Gene ID</th>\n",
       "    </tr>\n",
       "  </thead>\n",
       "  <tbody>\n",
       "    <tr>\n",
       "      <th>0</th>\n",
       "      <td>#300400</td>\n",
       "      <td>SEVERE COMBINED IMMUNODEFICIENCY, X-LINKED; SC...</td>\n",
       "      <td>NaN</td>\n",
       "    </tr>\n",
       "    <tr>\n",
       "      <th>1</th>\n",
       "      <td>#300635</td>\n",
       "      <td>LYMPHOPROLIFERATIVE SYNDROME, X-LINKED, 2; XLP2</td>\n",
       "      <td>NaN</td>\n",
       "    </tr>\n",
       "    <tr>\n",
       "      <th>2</th>\n",
       "      <td>#300636</td>\n",
       "      <td>IMMUNODEFICIENCY 33; IMD33</td>\n",
       "      <td>NaN</td>\n",
       "    </tr>\n",
       "    <tr>\n",
       "      <th>3</th>\n",
       "      <td>#300645</td>\n",
       "      <td>IMMUNODEFICIENCY 34; IMD34</td>\n",
       "      <td>NaN</td>\n",
       "    </tr>\n",
       "    <tr>\n",
       "      <th>4</th>\n",
       "      <td>#300755</td>\n",
       "      <td>AGAMMAGLOBULINEMIA, X-LINKED; XLA</td>\n",
       "      <td>NaN</td>\n",
       "    </tr>\n",
       "  </tbody>\n",
       "</table>\n",
       "</div>"
      ],
      "text/plain": [
       "  MIM Number                                              Title  \\\n",
       "0    #300400  SEVERE COMBINED IMMUNODEFICIENCY, X-LINKED; SC...   \n",
       "1    #300635    LYMPHOPROLIFERATIVE SYNDROME, X-LINKED, 2; XLP2   \n",
       "2    #300636                         IMMUNODEFICIENCY 33; IMD33   \n",
       "3    #300645                         IMMUNODEFICIENCY 34; IMD34   \n",
       "4    #300755                  AGAMMAGLOBULINEMIA, X-LINKED; XLA   \n",
       "\n",
       "   Entrez Gene ID  \n",
       "0             NaN  \n",
       "1             NaN  \n",
       "2             NaN  \n",
       "3             NaN  \n",
       "4             NaN  "
      ]
     },
     "execution_count": 15,
     "metadata": {},
     "output_type": "execute_result"
    }
   ],
   "source": [
    "immuno.head()"
   ]
  },
  {
   "cell_type": "code",
   "execution_count": 16,
   "metadata": {},
   "outputs": [
    {
     "data": {
      "text/html": [
       "<div>\n",
       "<style scoped>\n",
       "    .dataframe tbody tr th:only-of-type {\n",
       "        vertical-align: middle;\n",
       "    }\n",
       "\n",
       "    .dataframe tbody tr th {\n",
       "        vertical-align: top;\n",
       "    }\n",
       "\n",
       "    .dataframe thead th {\n",
       "        text-align: right;\n",
       "    }\n",
       "</style>\n",
       "<table border=\"1\" class=\"dataframe\">\n",
       "  <thead>\n",
       "    <tr style=\"text-align: right;\">\n",
       "      <th></th>\n",
       "      <th>MIM Number</th>\n",
       "      <th>Title</th>\n",
       "      <th>Entrez Gene ID</th>\n",
       "    </tr>\n",
       "  </thead>\n",
       "  <tbody>\n",
       "    <tr>\n",
       "      <th>0</th>\n",
       "      <td>#300373</td>\n",
       "      <td>OSTEOPATHIA STRIATA WITH CRANIAL SCLEROSIS; OSCS</td>\n",
       "      <td>NaN</td>\n",
       "    </tr>\n",
       "    <tr>\n",
       "      <th>1</th>\n",
       "      <td>#300376</td>\n",
       "      <td>MUSCULAR DYSTROPHY, BECKER TYPE; BMD</td>\n",
       "      <td>NaN</td>\n",
       "    </tr>\n",
       "    <tr>\n",
       "      <th>2</th>\n",
       "      <td>#300387</td>\n",
       "      <td>INTELLECTUAL DEVELOPMENTAL DISORDER, X-LINKED ...</td>\n",
       "      <td>NaN</td>\n",
       "    </tr>\n",
       "    <tr>\n",
       "      <th>3</th>\n",
       "      <td>#300400</td>\n",
       "      <td>SEVERE COMBINED IMMUNODEFICIENCY, X-LINKED; SC...</td>\n",
       "      <td>NaN</td>\n",
       "    </tr>\n",
       "    <tr>\n",
       "      <th>4</th>\n",
       "      <td>#300419</td>\n",
       "      <td>INTELLECTUAL DEVELOPMENTAL DISORDER, X-LINKED ...</td>\n",
       "      <td>NaN</td>\n",
       "    </tr>\n",
       "  </tbody>\n",
       "</table>\n",
       "</div>"
      ],
      "text/plain": [
       "  MIM Number                                              Title  \\\n",
       "0    #300373   OSTEOPATHIA STRIATA WITH CRANIAL SCLEROSIS; OSCS   \n",
       "1    #300376               MUSCULAR DYSTROPHY, BECKER TYPE; BMD   \n",
       "2    #300387  INTELLECTUAL DEVELOPMENTAL DISORDER, X-LINKED ...   \n",
       "3    #300400  SEVERE COMBINED IMMUNODEFICIENCY, X-LINKED; SC...   \n",
       "4    #300419  INTELLECTUAL DEVELOPMENTAL DISORDER, X-LINKED ...   \n",
       "\n",
       "   Entrez Gene ID  \n",
       "0             NaN  \n",
       "1             NaN  \n",
       "2             NaN  \n",
       "3             NaN  \n",
       "4             NaN  "
      ]
     },
     "execution_count": 16,
     "metadata": {},
     "output_type": "execute_result"
    }
   ],
   "source": [
    "neuro.head()"
   ]
  },
  {
   "cell_type": "code",
   "execution_count": 17,
   "metadata": {},
   "outputs": [],
   "source": [
    "def getOMIM(data : list[str]) -> list[str]:\n",
    "    '''\n",
    "    Gets an array with format #XXXXXX and returns the array in format OMIM:XXXXXX\n",
    "    '''\n",
    "    for i in range(len(data)):\n",
    "        data[i] = data[i].replace('#','OMIM:')\n",
    "    return data"
   ]
  },
  {
   "cell_type": "code",
   "execution_count": 18,
   "metadata": {},
   "outputs": [],
   "source": [
    "lNeuro = getOMIM(list(neuro['MIM Number']))\n",
    "lImmuno = getOMIM(list(immuno['MIM Number']))\n",
    "lCardio = getOMIM(list(cardio['MIM Number']))\n",
    "lResp = getOMIM(list(resp['MIM Number']))"
   ]
  },
  {
   "cell_type": "markdown",
   "metadata": {},
   "source": [
    "<p>We remove disease not present in our database mapping disease and HPO terms<p>"
   ]
  },
  {
   "cell_type": "code",
   "execution_count": 21,
   "metadata": {},
   "outputs": [],
   "source": [
    "for i in lNeuro:\n",
    "    if i not in list(phen_to_genes['disease_id']):\n",
    "        lNeuro.remove(i)\n",
    "for i in lImmuno:\n",
    "    if i not in list(phen_to_genes['disease_id']):\n",
    "        lImmuno.remove(i)\n",
    "\n",
    "for i in lCardio:\n",
    "    if i not in list(phen_to_genes['disease_id']):\n",
    "        lCardio.remove(i)\n",
    "\n",
    "for i in lResp:\n",
    "    if i not in list(phen_to_genes['disease_id']):\n",
    "        lResp.remove(i)"
   ]
  },
  {
   "cell_type": "code",
   "execution_count": 22,
   "metadata": {},
   "outputs": [
    {
     "name": "stdout",
     "output_type": "stream",
     "text": [
      "185 189 191 190\n"
     ]
    }
   ],
   "source": [
    "print(len(lNeuro),len(lImmuno),len(lCardio),len(lResp))"
   ]
  },
  {
   "cell_type": "markdown",
   "metadata": {},
   "source": [
    "<p>How much overlap is there between disease in each group?</p>"
   ]
  },
  {
   "cell_type": "code",
   "execution_count": 23,
   "metadata": {},
   "outputs": [
    {
     "name": "stdout",
     "output_type": "stream",
     "text": [
      "22\n",
      "49\n",
      "38\n",
      "15\n",
      "34\n",
      "63\n"
     ]
    }
   ],
   "source": [
    "print(len(set.intersection(set(lNeuro),set(lImmuno))))\n",
    "print(len(set.intersection(set(lNeuro),set(lCardio))))\n",
    "print(len(set.intersection(set(lNeuro),set(lResp))))\n",
    "print(len(set.intersection(set(lImmuno),set(lCardio))))\n",
    "print(len(set.intersection(set(lImmuno),set(lResp))))\n",
    "print(len(set.intersection(set(lCardio),set(lResp))))"
   ]
  },
  {
   "cell_type": "code",
   "execution_count": 24,
   "metadata": {},
   "outputs": [],
   "source": [
    "def getHPOFromOMIM(l : List[str], data=phen_to_genes) -> dict:\n",
    "    '''\n",
    "    Gets list of disease and the phen_to_genes database and returns a \n",
    "    dictionary mapping each disease to their HPO terms\n",
    "    '''\n",
    "    d = dict((el,[]) for el in l)\n",
    "    \n",
    "    for i in range(len(data['hpo_id'])):\n",
    "        if data['disease_id'][i] in l:\n",
    "            d[data['disease_id'][i]].append(data['hpo_id'][i])\n",
    "    \n",
    "    return d"
   ]
  },
  {
   "cell_type": "code",
   "execution_count": 25,
   "metadata": {},
   "outputs": [],
   "source": [
    "dNeuro = getHPOFromOMIM(lNeuro)\n",
    "dImmuno = getHPOFromOMIM(lImmuno)\n",
    "dCardio = getHPOFromOMIM(lCardio)\n",
    "dResp = getHPOFromOMIM(lResp)"
   ]
  },
  {
   "cell_type": "code",
   "execution_count": 26,
   "metadata": {},
   "outputs": [],
   "source": [
    "def flatten(l : List[List]) -> List:\n",
    "    '''\n",
    "    Transforms a 2D array into a list\n",
    "    '''\n",
    "    return list(itertools.chain.from_iterable(l))"
   ]
  },
  {
   "cell_type": "code",
   "execution_count": 27,
   "metadata": {},
   "outputs": [],
   "source": [
    "HPONeuro = Counter(flatten(list(dNeuro.values())))\n",
    "HPOImmuno = Counter(flatten(list(dImmuno.values())))\n",
    "HPOCardio = Counter(flatten(list(dCardio.values())))\n",
    "HPOResp = Counter(flatten(list(dResp.values())))"
   ]
  },
  {
   "cell_type": "code",
   "execution_count": 28,
   "metadata": {},
   "outputs": [],
   "source": [
    "totalNum = HPONeuro + HPOImmuno + HPOCardio + HPOResp"
   ]
  },
  {
   "cell_type": "code",
   "execution_count": 29,
   "metadata": {},
   "outputs": [],
   "source": [
    "def sigmoid(x, a=-10, b=10):\n",
    "    '''\n",
    "    Gets a number x between between 0 and 1 and returns sigmoid(x),\n",
    "    where sigmoid is centered and resized around [0,1]\n",
    "    '''\n",
    "    x1 = (x * (b - a)) + a\n",
    "    return 1 / (1 + math.exp(-x1))"
   ]
  },
  {
   "cell_type": "code",
   "execution_count": 30,
   "metadata": {},
   "outputs": [
    {
     "data": {
      "text/plain": [
       "[<matplotlib.lines.Line2D at 0x27426ada9d0>]"
      ]
     },
     "execution_count": 30,
     "metadata": {},
     "output_type": "execute_result"
    },
    {
     "data": {
      "image/png": "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",
      "text/plain": [
       "<Figure size 640x480 with 1 Axes>"
      ]
     },
     "metadata": {},
     "output_type": "display_data"
    }
   ],
   "source": [
    "x = np.arange(0.,1.,0.005)\n",
    "y = list(map(lambda x: sigmoid(x),x))\n",
    "plt.plot(x,y)"
   ]
  },
  {
   "cell_type": "markdown",
   "metadata": {},
   "source": [
    "<p>We assign a value to each HPO term in the following way:</p>\n",
    "<p>value = #HPOterm * sigmoid(p(HPOterm))</p>\n",
    "<p>Where #HPOterm is the numebr of times it appears in their group and p() the frequency of the term in their group</p>"
   ]
  },
  {
   "cell_type": "code",
   "execution_count": 31,
   "metadata": {},
   "outputs": [],
   "source": [
    "for i in HPONeuro.keys():\n",
    "    HPONeuro[i] = HPONeuro[i] * sigmoid(HPONeuro[i]/totalNum[i])\n",
    "\n",
    "for i in HPOImmuno.keys():\n",
    "    HPOImmuno[i] = HPOImmuno[i] * sigmoid(HPOImmuno[i]/totalNum[i])\n",
    "\n",
    "for i in HPOCardio.keys():\n",
    "    HPOCardio[i] = HPOCardio[i] * sigmoid(HPOCardio[i]/totalNum[i])\n",
    "\n",
    "for i in HPOResp.keys():\n",
    "    HPOResp[i] = HPOResp[i] * sigmoid(HPOResp[i]/totalNum[i])"
   ]
  },
  {
   "cell_type": "code",
   "execution_count": 32,
   "metadata": {},
   "outputs": [],
   "source": [
    "bestNeuro = sorted(HPONeuro, key=HPONeuro.get, reverse=True)\n",
    "bestImmuno = sorted(HPOImmuno, key=HPOImmuno.get, reverse=True)\n",
    "bestCardio = sorted(HPOCardio, key=HPOCardio.get, reverse=True)\n",
    "bestResp = sorted(HPOResp, key=HPOResp.get, reverse=True)"
   ]
  },
  {
   "cell_type": "markdown",
   "metadata": {},
   "source": [
    "<h3>Our comparison set of HPO will be selected by the first N HPO ordered by the value stated above</h3>"
   ]
  },
  {
   "cell_type": "code",
   "execution_count": 43,
   "metadata": {},
   "outputs": [],
   "source": [
    "N = 100\n",
    "t1 = bestNeuro[0:N]\n",
    "t2 = bestImmuno[0:N]\n",
    "t3 = bestCardio[0:N]\n",
    "t4 = bestResp[0:N]"
   ]
  },
  {
   "cell_type": "code",
   "execution_count": 34,
   "metadata": {},
   "outputs": [
    {
     "data": {
      "text/plain": [
       "['HP:0001417',\n",
       " 'HP:0001419',\n",
       " 'HP:0034434',\n",
       " 'HP:0001423',\n",
       " 'HP:0000718',\n",
       " 'HP:0001344',\n",
       " 'HP:0000750',\n",
       " 'HP:0002463',\n",
       " 'HP:0002167',\n",
       " 'HP:0001257']"
      ]
     },
     "execution_count": 34,
     "metadata": {},
     "output_type": "execute_result"
    }
   ],
   "source": [
    "t1[0:10]"
   ]
  },
  {
   "cell_type": "code",
   "execution_count": 44,
   "metadata": {},
   "outputs": [
    {
     "name": "stdout",
     "output_type": "stream",
     "text": [
      "0\n",
      "0\n",
      "0\n",
      "0\n",
      "0\n",
      "1\n"
     ]
    }
   ],
   "source": [
    "print(len(set.intersection(set(t1),set(t2))))\n",
    "print(len(set.intersection(set(t1),set(t3))))\n",
    "print(len(set.intersection(set(t1),set(t4))))\n",
    "print(len(set.intersection(set(t2),set(t3))))\n",
    "print(len(set.intersection(set(t2),set(t4))))\n",
    "print(len(set.intersection(set(t3),set(t4))))"
   ]
  },
  {
   "cell_type": "markdown",
   "metadata": {},
   "source": [
    "<h3>Tests</h3>"
   ]
  },
  {
   "cell_type": "code",
   "execution_count": 36,
   "metadata": {},
   "outputs": [],
   "source": [
    "tN = random.sample(flatten(list(dNeuro.values())), 40)"
   ]
  },
  {
   "cell_type": "code",
   "execution_count": 37,
   "metadata": {},
   "outputs": [
    {
     "name": "stdout",
     "output_type": "stream",
     "text": [
      "9.661300400928175\n",
      "9.450639332421474\n"
     ]
    }
   ],
   "source": [
    "response = requests.get('https://monarchinitiative.org/v3/api/semsim/compare/'+ prepareRequest([tN, t1]) + '?metric=ancestor_information_content')\n",
    "print(response.json()['average_score'])\n",
    "response = requests.get('https://monarchinitiative.org/v3/api/semsim/compare/'+ prepareRequest([tN, t4]) + '?metric=ancestor_information_content')\n",
    "print(response.json()['average_score'])"
   ]
  },
  {
   "cell_type": "markdown",
   "metadata": {},
   "source": [
    "<p>We select 40 random HPO terms from the Neuro group and compare it to the most significant HPO from groups Neuro and Immuno</p>"
   ]
  },
  {
   "cell_type": "code",
   "execution_count": 35,
   "metadata": {},
   "outputs": [],
   "source": [
    "N = 100\n",
    "rNeuro = []\n",
    "rImmuno = []\n",
    "for j in range(N):\n",
    "    tN = random.sample(flatten(list(dNeuro.values())), 40)\n",
    "\n",
    "    response = requests.get('https://monarchinitiative.org/v3/api/semsim/compare/'+ prepareRequest([tN, t1]) + '?metric=ancestor_information_content')\n",
    "    rNeuro.append(response.json()['average_score'])\n",
    "    response = requests.get('https://monarchinitiative.org/v3/api/semsim/compare/'+ prepareRequest([tN, t2]) + '?metric=ancestor_information_content')\n",
    "    rImmuno.append(response.json()['average_score'])"
   ]
  },
  {
   "cell_type": "markdown",
   "metadata": {},
   "source": [
    "<h3>Results</h3>"
   ]
  },
  {
   "cell_type": "code",
   "execution_count": 36,
   "metadata": {},
   "outputs": [
    {
     "data": {
      "image/png": "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",
      "text/plain": [
       "<Figure size 640x480 with 1 Axes>"
      ]
     },
     "metadata": {},
     "output_type": "display_data"
    }
   ],
   "source": [
    "boxplot_data = [\n",
    "    rNeuro,\n",
    "    rImmuno\n",
    "]\n",
    "labels = ['Neuro', 'Immuno']\n",
    "\n",
    "fig, ax = plt.subplots()\n",
    "plt.title('Ancestor Information Content')\n",
    "ax.set_ylabel('Average score')\n",
    "\n",
    "bplot = ax.boxplot(boxplot_data,\n",
    "                   tick_labels=labels)\n",
    "\n",
    "plt.show()"
   ]
  },
  {
   "cell_type": "code",
   "execution_count": 37,
   "metadata": {},
   "outputs": [
    {
     "name": "stdout",
     "output_type": "stream",
     "text": [
      "Accuracy: 96%\n"
     ]
    }
   ],
   "source": [
    "j = 0\n",
    "for i in range(len(rNeuro)):\n",
    "    if rNeuro[i] > rImmuno[i]:\n",
    "        j +=1\n",
    "print(f'Accuracy: {j}%')"
   ]
  },
  {
   "cell_type": "code",
   "execution_count": 38,
   "metadata": {},
   "outputs": [],
   "source": [
    "N = 100\n",
    "rNeuro = []\n",
    "rCardio = []\n",
    "for j in range(N):\n",
    "    tN = random.sample(flatten(list(dNeuro.values())), 40)\n",
    "\n",
    "    response = requests.get('https://monarchinitiative.org/v3/api/semsim/compare/'+ prepareRequest([tN, t1]) + '?metric=ancestor_information_content')\n",
    "    rNeuro.append(response.json()['average_score'])\n",
    "    response = requests.get('https://monarchinitiative.org/v3/api/semsim/compare/'+ prepareRequest([tN, t3]) + '?metric=ancestor_information_content')\n",
    "    rCardio.append(response.json()['average_score'])"
   ]
  },
  {
   "cell_type": "code",
   "execution_count": 39,
   "metadata": {},
   "outputs": [
    {
     "data": {
      "image/png": "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",
      "text/plain": [
       "<Figure size 640x480 with 1 Axes>"
      ]
     },
     "metadata": {},
     "output_type": "display_data"
    }
   ],
   "source": [
    "boxplot_data = [\n",
    "    rNeuro,\n",
    "    rCardio\n",
    "]\n",
    "labels = ['Neuro', 'Cardio']\n",
    "\n",
    "fig, ax = plt.subplots()\n",
    "plt.title('Ancestor Information Content')\n",
    "ax.set_ylabel('Average score')\n",
    "\n",
    "bplot = ax.boxplot(boxplot_data,\n",
    "                   tick_labels=labels)\n",
    "\n",
    "plt.show()"
   ]
  },
  {
   "cell_type": "code",
   "execution_count": 40,
   "metadata": {},
   "outputs": [
    {
     "name": "stdout",
     "output_type": "stream",
     "text": [
      "Accuracy: 93%\n"
     ]
    }
   ],
   "source": [
    "j = 0\n",
    "for i in range(len(rNeuro)):\n",
    "    if rNeuro[i] > rCardio[i]:\n",
    "        j +=1\n",
    "print(f'Accuracy: {j}%')"
   ]
  },
  {
   "cell_type": "markdown",
   "metadata": {},
   "source": [
    "<h3>We define setA as 40 random HPO from one of the four disease groups and compare it to the four most significant HPO sets</h3>"
   ]
  },
  {
   "cell_type": "code",
   "execution_count": 47,
   "metadata": {},
   "outputs": [],
   "source": [
    "N = 100\n",
    "matrix = [[],[],[],[]]\n",
    "mType = []\n",
    "types = [dNeuro,dImmuno,dCardio,dResp]\n",
    "random.seed(12)\n",
    "for j in range(N):\n",
    "    i = random.choice([0,1,2,3])\n",
    "    mType.append(i)\n",
    "    tN = random.sample(flatten(list(types[i].values())), 40)\n",
    "\n",
    "    response = requests.get('https://monarchinitiative.org/v3/api/semsim/compare/'+ prepareRequest([tN, t1]) + '?metric=ancestor_information_content')\n",
    "    matrix[0].append(response.json()['average_score'])\n",
    "    response = requests.get('https://monarchinitiative.org/v3/api/semsim/compare/'+ prepareRequest([tN, t2]) + '?metric=ancestor_information_content')\n",
    "    matrix[1].append(response.json()['average_score'])\n",
    "    response = requests.get('https://monarchinitiative.org/v3/api/semsim/compare/'+ prepareRequest([tN, t3]) + '?metric=ancestor_information_content')\n",
    "    matrix[2].append(response.json()['average_score'])\n",
    "    response = requests.get('https://monarchinitiative.org/v3/api/semsim/compare/'+ prepareRequest([tN, t4]) + '?metric=ancestor_information_content')\n",
    "    matrix[3].append(response.json()['average_score'])\n",
    "        "
   ]
  },
  {
   "cell_type": "markdown",
   "metadata": {},
   "source": [
    "<p>Results</p>"
   ]
  },
  {
   "cell_type": "code",
   "execution_count": 50,
   "metadata": {},
   "outputs": [
    {
     "name": "stdout",
     "output_type": "stream",
     "text": [
      "3 2\n",
      "0 3\n",
      "1 3\n",
      "3 0\n",
      "2 3\n",
      "2 3\n",
      "2 0\n",
      "0 2\n",
      "3 0\n",
      "1 3\n",
      "0 3\n",
      "2 0\n",
      "3 0\n",
      "1 3\n",
      "0 2\n",
      "3 0\n",
      "1 0\n",
      "0 3\n",
      "1 3\n",
      "0 3\n",
      "2 0\n",
      "2 3\n",
      "2 3\n",
      "Accuracy: 77%\n"
     ]
    }
   ],
   "source": [
    "j = 0\n",
    "for i in range(len(matrix[0])):\n",
    "    l = [matrix[0][i],matrix[1][i],matrix[2][i],matrix[3][i]]\n",
    "    m = max(range(len(l)), key=l.__getitem__)\n",
    "    if m == mType[i]:\n",
    "        j += 1\n",
    "\n",
    "print(f'Accuracy: {j/N*100}%')"
   ]
  },
  {
   "cell_type": "markdown",
   "metadata": {},
   "source": [
    "<p>Target set N=20 Most Significant Sets N = 100</p>"
   ]
  },
  {
   "cell_type": "code",
   "execution_count": 53,
   "metadata": {},
   "outputs": [],
   "source": [
    "N = 100\n",
    "matrix = [[],[],[],[]]\n",
    "mType = []\n",
    "types = [dNeuro,dImmuno,dCardio,dResp]\n",
    "random.seed(12)\n",
    "for j in range(N):\n",
    "    i = random.choice([0,1,2,3])\n",
    "    mType.append(i)\n",
    "    tN = random.sample(flatten(list(types[i].values())), 20)\n",
    "\n",
    "    response = requests.get('https://monarchinitiative.org/v3/api/semsim/compare/'+ prepareRequest([tN, t1]) + '?metric=ancestor_information_content')\n",
    "    matrix[0].append(response.json()['average_score'])\n",
    "    response = requests.get('https://monarchinitiative.org/v3/api/semsim/compare/'+ prepareRequest([tN, t2]) + '?metric=ancestor_information_content')\n",
    "    matrix[1].append(response.json()['average_score'])\n",
    "    response = requests.get('https://monarchinitiative.org/v3/api/semsim/compare/'+ prepareRequest([tN, t3]) + '?metric=ancestor_information_content')\n",
    "    matrix[2].append(response.json()['average_score'])\n",
    "    response = requests.get('https://monarchinitiative.org/v3/api/semsim/compare/'+ prepareRequest([tN, t4]) + '?metric=ancestor_information_content')\n",
    "    matrix[3].append(response.json()['average_score'])"
   ]
  },
  {
   "cell_type": "code",
   "execution_count": 55,
   "metadata": {},
   "outputs": [
    {
     "name": "stdout",
     "output_type": "stream",
     "text": [
      "Accuracy: 67%\n"
     ]
    }
   ],
   "source": [
    "j = 0\n",
    "for i in range(len(matrix[0])):\n",
    "    l = [matrix[0][i],matrix[1][i],matrix[2][i],matrix[3][i]]\n",
    "    m = max(range(len(l)), key=l.__getitem__)\n",
    "    if m == mType[i]:\n",
    "        j += 1\n",
    "\n",
    "print(f'Accuracy: {j/N*100}%')"
   ]
  },
  {
   "cell_type": "code",
   "execution_count": 46,
   "metadata": {},
   "outputs": [],
   "source": [
    "N = 500\n",
    "t1 = bestNeuro[0:N]\n",
    "t2 = bestImmuno[0:N]\n",
    "t3 = bestCardio[0:N]\n",
    "t4 = bestResp[0:N]"
   ]
  },
  {
   "cell_type": "markdown",
   "metadata": {},
   "source": [
    "<p>Target set N=40 Most Significant Sets N = 500</p>"
   ]
  },
  {
   "cell_type": "code",
   "execution_count": 59,
   "metadata": {},
   "outputs": [],
   "source": [
    "N = 100\n",
    "matrix = [[],[],[],[]]\n",
    "mType = []\n",
    "types = [dNeuro,dImmuno,dCardio,dResp]\n",
    "random.seed(12)\n",
    "for j in range(N):\n",
    "    i = random.choice([0,1,2,3])\n",
    "    mType.append(i)\n",
    "    tN = random.sample(flatten(list(types[i].values())), 40)\n",
    "\n",
    "    response = requests.get('https://monarchinitiative.org/v3/api/semsim/compare/'+ prepareRequest([tN, t1]) + '?metric=ancestor_information_content')\n",
    "    matrix[0].append(response.json()['average_score'])\n",
    "    response = requests.get('https://monarchinitiative.org/v3/api/semsim/compare/'+ prepareRequest([tN, t2]) + '?metric=ancestor_information_content')\n",
    "    matrix[1].append(response.json()['average_score'])\n",
    "    response = requests.get('https://monarchinitiative.org/v3/api/semsim/compare/'+ prepareRequest([tN, t3]) + '?metric=ancestor_information_content')\n",
    "    matrix[2].append(response.json()['average_score'])\n",
    "    response = requests.get('https://monarchinitiative.org/v3/api/semsim/compare/'+ prepareRequest([tN, t4]) + '?metric=ancestor_information_content')\n",
    "    matrix[3].append(response.json()['average_score'])"
   ]
  },
  {
   "cell_type": "code",
   "execution_count": 60,
   "metadata": {},
   "outputs": [
    {
     "name": "stdout",
     "output_type": "stream",
     "text": [
      "3 2\n",
      "2 0\n",
      "0 3\n",
      "0 3\n",
      "3 2\n",
      "0 2\n",
      "3 0\n",
      "3 1\n",
      "0 2\n",
      "0 3\n",
      "2 0\n",
      "2 3\n",
      "Accuracy: 88%\n"
     ]
    }
   ],
   "source": [
    "j = 0\n",
    "for i in range(len(matrix[0])):\n",
    "    l = [matrix[0][i],matrix[1][i],matrix[2][i],matrix[3][i]]\n",
    "    m = max(range(len(l)), key=l.__getitem__)\n",
    "    if m == mType[i]:\n",
    "        j += 1\n",
    "\n",
    "print(f'Accuracy: {j/N*100}%')"
   ]
  },
  {
   "cell_type": "markdown",
   "metadata": {},
   "source": [
    "<p>Target set N=20 Most Significant Sets N = 500</p>"
   ]
  },
  {
   "cell_type": "code",
   "execution_count": 39,
   "metadata": {},
   "outputs": [],
   "source": [
    "N = 100\n",
    "matrix = [[],[],[],[]]\n",
    "mType = []\n",
    "types = [dNeuro,dImmuno,dCardio,dResp]\n",
    "random.seed(12)\n",
    "for j in range(N):\n",
    "    i = random.choice([0,1,2,3])\n",
    "    mType.append(i)\n",
    "    tN = random.sample(flatten(list(types[i].values())), 20)\n",
    "\n",
    "    response = requests.get('https://monarchinitiative.org/v3/api/semsim/compare/'+ prepareRequest([tN, t1]) + '?metric=ancestor_information_content')\n",
    "    matrix[0].append(response.json()['average_score'])\n",
    "    response = requests.get('https://monarchinitiative.org/v3/api/semsim/compare/'+ prepareRequest([tN, t2]) + '?metric=ancestor_information_content')\n",
    "    matrix[1].append(response.json()['average_score'])\n",
    "    response = requests.get('https://monarchinitiative.org/v3/api/semsim/compare/'+ prepareRequest([tN, t3]) + '?metric=ancestor_information_content')\n",
    "    matrix[2].append(response.json()['average_score'])\n",
    "    response = requests.get('https://monarchinitiative.org/v3/api/semsim/compare/'+ prepareRequest([tN, t4]) + '?metric=ancestor_information_content')\n",
    "    matrix[3].append(response.json()['average_score'])"
   ]
  },
  {
   "cell_type": "code",
   "execution_count": 40,
   "metadata": {},
   "outputs": [
    {
     "name": "stdout",
     "output_type": "stream",
     "text": [
      "Accuracy: 74%\n"
     ]
    }
   ],
   "source": [
    "j = 0\n",
    "for i in range(len(matrix[0])):\n",
    "    l = [matrix[0][i],matrix[1][i],matrix[2][i],matrix[3][i]]\n",
    "    m = max(range(len(l)), key=l.__getitem__)\n",
    "    if m == mType[i]:\n",
    "        j += 1\n",
    "\n",
    "print(f'Accuracy: {j/N*100}%')"
   ]
  },
  {
   "cell_type": "markdown",
   "metadata": {},
   "source": [
    "<p>Most Significant Test AIC scores for N=100 and N=300</p>"
   ]
  },
  {
   "cell_type": "code",
   "execution_count": 47,
   "metadata": {},
   "outputs": [
    {
     "name": "stdout",
     "output_type": "stream",
     "text": [
      "7.739335750654988\n",
      "8.515509742114128\n",
      "8.67213807031979\n",
      "8.047278626676299\n",
      "7.6827525885742105\n",
      "7.542304730809855\n"
     ]
    }
   ],
   "source": [
    "response = requests.get('https://monarchinitiative.org/v3/api/semsim/compare/'+ prepareRequest([t1, t2]) + '?metric=ancestor_information_content')\n",
    "print(response.json()['average_score'])\n",
    "response = requests.get('https://monarchinitiative.org/v3/api/semsim/compare/'+ prepareRequest([t1, t3]) + '?metric=ancestor_information_content')\n",
    "print(response.json()['average_score'])\n",
    "response = requests.get('https://monarchinitiative.org/v3/api/semsim/compare/'+ prepareRequest([t1, t4]) + '?metric=ancestor_information_content')\n",
    "print(response.json()['average_score'])\n",
    "response = requests.get('https://monarchinitiative.org/v3/api/semsim/compare/'+ prepareRequest([t2, t3]) + '?metric=ancestor_information_content')\n",
    "print(response.json()['average_score'])\n",
    "response = requests.get('https://monarchinitiative.org/v3/api/semsim/compare/'+ prepareRequest([t2, t4]) + '?metric=ancestor_information_content')\n",
    "print(response.json()['average_score'])\n",
    "response = requests.get('https://monarchinitiative.org/v3/api/semsim/compare/'+ prepareRequest([t3, t4]) + '?metric=ancestor_information_content')\n",
    "print(response.json()['average_score'])"
   ]
  },
  {
   "cell_type": "code",
   "execution_count": 50,
   "metadata": {},
   "outputs": [],
   "source": [
    "N = 300\n",
    "t1 = bestNeuro[0:N]\n",
    "t2 = bestImmuno[0:N]\n",
    "t3 = bestCardio[0:N]\n",
    "t4 = bestResp[0:N]"
   ]
  },
  {
   "cell_type": "code",
   "execution_count": 51,
   "metadata": {},
   "outputs": [
    {
     "name": "stdout",
     "output_type": "stream",
     "text": [
      "9.022085431690735\n",
      "10.211236121336999\n",
      "10.095640831942806\n",
      "9.294582098946172\n",
      "9.161509094060097\n",
      "10.268441585798943\n"
     ]
    }
   ],
   "source": [
    "response = requests.get('https://monarchinitiative.org/v3/api/semsim/compare/'+ prepareRequest([t1, t2]) + '?metric=ancestor_information_content')\n",
    "print(response.json()['average_score'])\n",
    "response = requests.get('https://monarchinitiative.org/v3/api/semsim/compare/'+ prepareRequest([t1, t3]) + '?metric=ancestor_information_content')\n",
    "print(response.json()['average_score'])\n",
    "response = requests.get('https://monarchinitiative.org/v3/api/semsim/compare/'+ prepareRequest([t1, t4]) + '?metric=ancestor_information_content')\n",
    "print(response.json()['average_score'])\n",
    "response = requests.get('https://monarchinitiative.org/v3/api/semsim/compare/'+ prepareRequest([t2, t3]) + '?metric=ancestor_information_content')\n",
    "print(response.json()['average_score'])\n",
    "response = requests.get('https://monarchinitiative.org/v3/api/semsim/compare/'+ prepareRequest([t2, t4]) + '?metric=ancestor_information_content')\n",
    "print(response.json()['average_score'])\n",
    "response = requests.get('https://monarchinitiative.org/v3/api/semsim/compare/'+ prepareRequest([t3, t4]) + '?metric=ancestor_information_content')\n",
    "print(response.json()['average_score'])"
   ]
  }
 ],
 "metadata": {
  "kernelspec": {
   "display_name": ".venv",
   "language": "python",
   "name": "python3"
  },
  "language_info": {
   "codemirror_mode": {
    "name": "ipython",
    "version": 3
   },
   "file_extension": ".py",
   "mimetype": "text/x-python",
   "name": "python",
   "nbconvert_exporter": "python",
   "pygments_lexer": "ipython3",
   "version": "3.11.9"
  }
 },
 "nbformat": 4,
 "nbformat_minor": 2
}
