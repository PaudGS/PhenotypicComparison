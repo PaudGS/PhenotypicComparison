{
 "cells": [
  {
   "cell_type": "code",
   "execution_count": 2,
   "metadata": {},
   "outputs": [],
   "source": [
    "import json\n",
    "import requests\n",
    "import time\n",
    "import itertools\n",
    "from typing import List\n",
    "from collections import Counter\n",
    "import random\n",
    "import math\n",
    "import matplotlib.pyplot as plt\n",
    "import numpy as np\n",
    "import pandas as pd"
   ]
  },
  {
   "cell_type": "markdown",
   "metadata": {},
   "source": [
    "<h3>Load the HPO ontology (Release 2023-07-21)</h3>"
   ]
  },
  {
   "cell_type": "code",
   "execution_count": 3,
   "metadata": {},
   "outputs": [],
   "source": [
    "f = open(\"ontologies/hp.json\")\n",
    "data = json.load(f)"
   ]
  },
  {
   "cell_type": "code",
   "execution_count": 4,
   "metadata": {},
   "outputs": [],
   "source": [
    "def getHPO(url: str) -> str:\n",
    "    '''\n",
    "    Gets the url stored in the HPO ontology in the following format\n",
    "    http://putl.obolibrary.org/obo/HP_XXXXXXXX\n",
    "    and returns the HPO code in the following format\n",
    "    HP_XXXXXXXX\n",
    "    '''\n",
    "    return url.split('/',5)[4]"
   ]
  },
  {
   "cell_type": "code",
   "execution_count": 5,
   "metadata": {},
   "outputs": [],
   "source": [
    "def traverseGraph(url: str, n: int, data=data) -> str:\n",
    "    '''\n",
    "    Given a url (HPO id in the HPO ontology) and a int n\n",
    "    move through the ontology n levels above (n > 0) or n levels\n",
    "    below (n < 0). If not enough levels, return the maximum reached\n",
    "    '''\n",
    "    if n < 0:\n",
    "        direction = 'sub'\n",
    "        current = 'obj'\n",
    "    else:\n",
    "        direction = 'obj'\n",
    "        current = 'sub'\n",
    "    n = abs(n)\n",
    "    for j in range(n):\n",
    "        cand = []\n",
    "        for i in data['graphs'][0]['edges']:\n",
    "            if(url == i[current]):\n",
    "                cand.append(i[direction])\n",
    "        url = random.choice(cand) if len(cand) > 0 else url\n",
    "    return url"
   ]
  },
  {
   "cell_type": "code",
   "execution_count": 6,
   "metadata": {},
   "outputs": [],
   "source": [
    "def prepareRequest(arr: List[str]) -> str:\n",
    "    '''\n",
    "    Given an array (arr) with format [setA,setB], where setA and setB are lists of HPO\n",
    "    return a string in the following format\n",
    "    HPOA1,HPOA2,...,HPOAN/HPOB1,HPOB2,...,HPOBN\n",
    "    where HPOA and HPOB belong to setA and setB respectively\n",
    "    '''\n",
    "    s = ''\n",
    "    j = 0\n",
    "    for i in arr[0]:\n",
    "        s += i\n",
    "        if(j<len(arr[0])-1):\n",
    "            s += ','\n",
    "        j+=1\n",
    "    s += '/'\n",
    "    j = 0\n",
    "    for i in arr[1]:\n",
    "        s += i\n",
    "        if(j<len(arr[1])-1):\n",
    "            s += ','\n",
    "        j+=1\n",
    "    return s"
   ]
  },
  {
   "cell_type": "markdown",
   "metadata": {},
   "source": [
    "<h3>Testing the Monarch Initiative API with simple tests</h3>"
   ]
  },
  {
   "cell_type": "code",
   "execution_count": 7,
   "metadata": {},
   "outputs": [],
   "source": [
    "randomHPO = random.sample(range(len(data['graphs'][0]['nodes'])),5)"
   ]
  },
  {
   "cell_type": "code",
   "execution_count": 8,
   "metadata": {},
   "outputs": [
    {
     "data": {
      "text/plain": [
       "['HP:0012318', 'HP:0002071', 'HP:0033854', 'HP:0033610', 'HP:0007332']"
      ]
     },
     "execution_count": 8,
     "metadata": {},
     "output_type": "execute_result"
    }
   ],
   "source": [
    "setA_1 = []\n",
    "for i in randomHPO:\n",
    "    setA_1.append(getHPO(data['graphs'][0]['nodes'][i]['id']))\n",
    "setA_1 = list(map(lambda x: x.replace('_',':'), setA_1))\n",
    "setA_1"
   ]
  },
  {
   "cell_type": "code",
   "execution_count": 9,
   "metadata": {},
   "outputs": [],
   "source": [
    "randomHPO1= random.sample(range(len(data['graphs'][0]['nodes'])),5)"
   ]
  },
  {
   "cell_type": "code",
   "execution_count": 10,
   "metadata": {},
   "outputs": [],
   "source": [
    "setB_1 = []\n",
    "for i in randomHPO1:\n",
    "    setB_1.append(getHPO(data['graphs'][0]['nodes'][i]['id']))\n",
    "setB_1 = list(map(lambda x: x.replace('_',':'), setB_1))"
   ]
  },
  {
   "cell_type": "markdown",
   "metadata": {},
   "source": [
    "<p>Test 1: Two random sets of equal length (setA_1,setB_1)</p>"
   ]
  },
  {
   "cell_type": "code",
   "execution_count": 11,
   "metadata": {},
   "outputs": [
    {
     "name": "stdout",
     "output_type": "stream",
     "text": [
      "['HP:0012318', 'HP:0002071', 'HP:0033854', 'HP:0033610', 'HP:0007332'] ['HP:0012504', 'HP:0008186', 'HP:0040035', 'HP:0034594', 'HP:0011587']\n"
     ]
    }
   ],
   "source": [
    "print(setA_1,setB_1)"
   ]
  },
  {
   "cell_type": "code",
   "execution_count": 12,
   "metadata": {},
   "outputs": [],
   "source": [
    "# Factor of noise in Test 3\n",
    "random_noise = [-3,-2,-1,1,2,3]"
   ]
  },
  {
   "cell_type": "code",
   "execution_count": 13,
   "metadata": {},
   "outputs": [],
   "source": [
    "setB_2 = []\n",
    "for i in randomHPO:\n",
    "    setB_2.append(getHPO(traverseGraph(data['graphs'][0]['nodes'][i]['id'],random.choice(random_noise))))\n",
    "setB_2 = list(map(lambda x: x.replace('_',':'), setB_2))"
   ]
  },
  {
   "cell_type": "markdown",
   "metadata": {},
   "source": [
    "<p>Test 3: One random set (setA_1) and setB_2 consisting of HPO n levels above or below in the ontology</p>\n",
    "<p>In this case n between -3 and 3 both included and 0 excluded</p>"
   ]
  },
  {
   "cell_type": "code",
   "execution_count": 14,
   "metadata": {},
   "outputs": [
    {
     "name": "stdout",
     "output_type": "stream",
     "text": [
      "['HP:0012318', 'HP:0002071', 'HP:0033854', 'HP:0033610', 'HP:0007332'] ['HP:0012318', 'HP:0007308', 'HP:0033968', 'HP:0033608', 'HP:0032854']\n"
     ]
    }
   ],
   "source": [
    "print(setA_1,setB_2)"
   ]
  },
  {
   "cell_type": "code",
   "execution_count": 15,
   "metadata": {},
   "outputs": [],
   "source": [
    "# Factor of generalization of terms (n terms above in the ontology)\n",
    "generalizer = [2,3,4]"
   ]
  },
  {
   "cell_type": "code",
   "execution_count": 16,
   "metadata": {},
   "outputs": [],
   "source": [
    "setB_3 = []\n",
    "for i in randomHPO:\n",
    "    setB_3.append(getHPO(traverseGraph(data['graphs'][0]['nodes'][i]['id'],random.choice(generalizer))))\n",
    "setB_3 = list(map(lambda x: x.replace('_',':'), setB_3))"
   ]
  },
  {
   "cell_type": "markdown",
   "metadata": {},
   "source": [
    "<p>Test 5: One random set (setA_1) and setB_3 consisting of HPO n levels above in the ontology</p>\n",
    "<p>In this case n between 2 and 4 both included</p>"
   ]
  },
  {
   "cell_type": "code",
   "execution_count": 17,
   "metadata": {},
   "outputs": [
    {
     "name": "stdout",
     "output_type": "stream",
     "text": [
      "['HP:0012318', 'HP:0002071', 'HP:0033854', 'HP:0033610', 'HP:0007332'] ['HP:0012531', 'HP:0000707', 'HP:0033835', 'HP:0002086', 'HP:0020219']\n"
     ]
    }
   ],
   "source": [
    "print(setA_1,setB_3)"
   ]
  },
  {
   "cell_type": "markdown",
   "metadata": {},
   "source": [
    "<p>6 tests are defined, where test2, test4 and test6 are control tests on test1, test3 and test5 respectively</p> "
   ]
  },
  {
   "cell_type": "code",
   "execution_count": 18,
   "metadata": {},
   "outputs": [],
   "source": [
    "test1 = [setA_1,setA_1]\n",
    "test2 = [setA_1,setB_1]\n",
    "test3 = [setA_1,setB_2]\n",
    "test4 = [setB_1,setB_2]\n",
    "test5 = [setA_1, setB_3]\n",
    "test6 = [setB_1, setB_3]"
   ]
  },
  {
   "cell_type": "markdown",
   "metadata": {},
   "source": [
    "<p>The json response has the following format</p>"
   ]
  },
  {
   "cell_type": "code",
   "execution_count": 19,
   "metadata": {},
   "outputs": [
    {
     "data": {
      "text/plain": [
       "{'subject_termset': {'HP:0007332': {'id': 'HP:0007332',\n",
       "   'label': 'Focal hemifacial clonic seizure'},\n",
       "  'HP:0033610': {'id': 'HP:0033610', 'label': 'Subsolid pulmonary nodule'},\n",
       "  'HP:0012318': {'id': 'HP:0012318', 'label': 'Occipital neuralgia'},\n",
       "  'HP:0033854': {'id': 'HP:0033854',\n",
       "   'label': 'Abnormal interlobular vein morphology'},\n",
       "  'HP:0002071': {'id': 'HP:0002071',\n",
       "   'label': 'Abnormality of extrapyramidal motor function'}},\n",
       " 'object_termset': {'HP:0007332': {'id': 'HP:0007332',\n",
       "   'label': 'Focal hemifacial clonic seizure'},\n",
       "  'HP:0033610': {'id': 'HP:0033610', 'label': 'Subsolid pulmonary nodule'},\n",
       "  'HP:0012318': {'id': 'HP:0012318', 'label': 'Occipital neuralgia'},\n",
       "  'HP:0033854': {'id': 'HP:0033854',\n",
       "   'label': 'Abnormal interlobular vein morphology'},\n",
       "  'HP:0002071': {'id': 'HP:0002071',\n",
       "   'label': 'Abnormality of extrapyramidal motor function'}},\n",
       " 'subject_best_matches': {'HP:0002071': {'match_source': 'HP:0002071',\n",
       "   'match_source_label': 'Abnormality of extrapyramidal motor function',\n",
       "   'match_target': 'HP:0002071',\n",
       "   'match_target_label': 'Abnormality of extrapyramidal motor function',\n",
       "   'score': 14.87018167374507,\n",
       "   'match_subsumer': None,\n",
       "   'match_subsumer_label': None,\n",
       "   'similarity': {'subject_id': 'HP:0002071',\n",
       "    'subject_label': None,\n",
       "    'subject_source': None,\n",
       "    'object_id': 'HP:0002071',\n",
       "    'object_label': None,\n",
       "    'object_source': None,\n",
       "    'ancestor_id': 'HP:0002071',\n",
       "    'ancestor_label': 'Abnormality of extrapyramidal motor function',\n",
       "    'ancestor_source': None,\n",
       "    'object_information_content': None,\n",
       "    'subject_information_content': None,\n",
       "    'ancestor_information_content': 14.87018167374507,\n",
       "    'jaccard_similarity': 1.0,\n",
       "    'cosine_similarity': None,\n",
       "    'dice_similarity': None,\n",
       "    'phenodigm_score': 3.856187453138795},\n",
       "   'score_metric': 'ancestor_information_content'},\n",
       "  'HP:0007332': {'match_source': 'HP:0007332',\n",
       "   'match_source_label': 'Focal hemifacial clonic seizure',\n",
       "   'match_target': 'HP:0007332',\n",
       "   'match_target_label': 'Focal hemifacial clonic seizure',\n",
       "   'score': 16.607147267911277,\n",
       "   'match_subsumer': None,\n",
       "   'match_subsumer_label': None,\n",
       "   'similarity': {'subject_id': 'HP:0007332',\n",
       "    'subject_label': None,\n",
       "    'subject_source': None,\n",
       "    'object_id': 'HP:0007332',\n",
       "    'object_label': None,\n",
       "    'object_source': None,\n",
       "    'ancestor_id': 'HP:0007332',\n",
       "    'ancestor_label': 'Focal hemifacial clonic seizure',\n",
       "    'ancestor_source': None,\n",
       "    'object_information_content': None,\n",
       "    'subject_information_content': None,\n",
       "    'ancestor_information_content': 16.607147267911277,\n",
       "    'jaccard_similarity': 1.0,\n",
       "    'cosine_similarity': None,\n",
       "    'dice_similarity': None,\n",
       "    'phenodigm_score': 4.075186777058357},\n",
       "   'score_metric': 'ancestor_information_content'},\n",
       "  'HP:0012318': {'match_source': 'HP:0012318',\n",
       "   'match_source_label': 'Occipital neuralgia',\n",
       "   'match_target': 'HP:0012318',\n",
       "   'match_target_label': 'Occipital neuralgia',\n",
       "   'score': 18.19210976863243,\n",
       "   'match_subsumer': None,\n",
       "   'match_subsumer_label': None,\n",
       "   'similarity': {'subject_id': 'HP:0012318',\n",
       "    'subject_label': None,\n",
       "    'subject_source': None,\n",
       "    'object_id': 'HP:0012318',\n",
       "    'object_label': None,\n",
       "    'object_source': None,\n",
       "    'ancestor_id': 'HP:0012318',\n",
       "    'ancestor_label': 'Occipital neuralgia',\n",
       "    'ancestor_source': None,\n",
       "    'object_information_content': None,\n",
       "    'subject_information_content': None,\n",
       "    'ancestor_information_content': 18.19210976863243,\n",
       "    'jaccard_similarity': 1.0,\n",
       "    'cosine_similarity': None,\n",
       "    'dice_similarity': None,\n",
       "    'phenodigm_score': 4.26522095191239},\n",
       "   'score_metric': 'ancestor_information_content'},\n",
       "  'HP:0033610': {'match_source': 'HP:0033610',\n",
       "   'match_source_label': 'Subsolid pulmonary nodule',\n",
       "   'match_target': 'HP:0033610',\n",
       "   'match_target_label': 'Subsolid pulmonary nodule',\n",
       "   'score': 16.607147267911277,\n",
       "   'match_subsumer': None,\n",
       "   'match_subsumer_label': None,\n",
       "   'similarity': {'subject_id': 'HP:0033610',\n",
       "    'subject_label': None,\n",
       "    'subject_source': None,\n",
       "    'object_id': 'HP:0033610',\n",
       "    'object_label': None,\n",
       "    'object_source': None,\n",
       "    'ancestor_id': 'HP:0033610',\n",
       "    'ancestor_label': 'Subsolid pulmonary nodule',\n",
       "    'ancestor_source': None,\n",
       "    'object_information_content': None,\n",
       "    'subject_information_content': None,\n",
       "    'ancestor_information_content': 16.607147267911277,\n",
       "    'jaccard_similarity': 1.0,\n",
       "    'cosine_similarity': None,\n",
       "    'dice_similarity': None,\n",
       "    'phenodigm_score': 4.075186777058357},\n",
       "   'score_metric': 'ancestor_information_content'},\n",
       "  'HP:0033854': {'match_source': 'HP:0033854',\n",
       "   'match_source_label': 'Abnormal interlobular vein morphology',\n",
       "   'match_target': 'HP:0033854',\n",
       "   'match_target_label': 'Abnormal interlobular vein morphology',\n",
       "   'score': 14.104646927382092,\n",
       "   'match_subsumer': None,\n",
       "   'match_subsumer_label': None,\n",
       "   'similarity': {'subject_id': 'HP:0033854',\n",
       "    'subject_label': None,\n",
       "    'subject_source': None,\n",
       "    'object_id': 'HP:0033854',\n",
       "    'object_label': None,\n",
       "    'object_source': None,\n",
       "    'ancestor_id': 'HP:0033854',\n",
       "    'ancestor_label': 'Abnormal interlobular vein morphology',\n",
       "    'ancestor_source': None,\n",
       "    'object_information_content': None,\n",
       "    'subject_information_content': None,\n",
       "    'ancestor_information_content': 14.104646927382092,\n",
       "    'jaccard_similarity': 1.0,\n",
       "    'cosine_similarity': None,\n",
       "    'dice_similarity': None,\n",
       "    'phenodigm_score': 3.755615385976324},\n",
       "   'score_metric': 'ancestor_information_content'}},\n",
       " 'object_best_matches': {'HP:0002071': {'match_source': 'HP:0002071',\n",
       "   'match_source_label': 'Abnormality of extrapyramidal motor function',\n",
       "   'match_target': 'HP:0002071',\n",
       "   'match_target_label': 'Abnormality of extrapyramidal motor function',\n",
       "   'score': 14.87018167374507,\n",
       "   'match_subsumer': None,\n",
       "   'match_subsumer_label': None,\n",
       "   'similarity': {'subject_id': 'HP:0002071',\n",
       "    'subject_label': None,\n",
       "    'subject_source': None,\n",
       "    'object_id': 'HP:0002071',\n",
       "    'object_label': None,\n",
       "    'object_source': None,\n",
       "    'ancestor_id': 'HP:0002071',\n",
       "    'ancestor_label': 'Abnormality of extrapyramidal motor function',\n",
       "    'ancestor_source': None,\n",
       "    'object_information_content': None,\n",
       "    'subject_information_content': None,\n",
       "    'ancestor_information_content': 14.87018167374507,\n",
       "    'jaccard_similarity': 1.0,\n",
       "    'cosine_similarity': None,\n",
       "    'dice_similarity': None,\n",
       "    'phenodigm_score': 3.856187453138795},\n",
       "   'score_metric': 'ancestor_information_content'},\n",
       "  'HP:0007332': {'match_source': 'HP:0007332',\n",
       "   'match_source_label': 'Focal hemifacial clonic seizure',\n",
       "   'match_target': 'HP:0007332',\n",
       "   'match_target_label': 'Focal hemifacial clonic seizure',\n",
       "   'score': 16.607147267911277,\n",
       "   'match_subsumer': None,\n",
       "   'match_subsumer_label': None,\n",
       "   'similarity': {'subject_id': 'HP:0007332',\n",
       "    'subject_label': None,\n",
       "    'subject_source': None,\n",
       "    'object_id': 'HP:0007332',\n",
       "    'object_label': None,\n",
       "    'object_source': None,\n",
       "    'ancestor_id': 'HP:0007332',\n",
       "    'ancestor_label': 'Focal hemifacial clonic seizure',\n",
       "    'ancestor_source': None,\n",
       "    'object_information_content': None,\n",
       "    'subject_information_content': None,\n",
       "    'ancestor_information_content': 16.607147267911277,\n",
       "    'jaccard_similarity': 1.0,\n",
       "    'cosine_similarity': None,\n",
       "    'dice_similarity': None,\n",
       "    'phenodigm_score': 4.075186777058357},\n",
       "   'score_metric': 'ancestor_information_content'},\n",
       "  'HP:0012318': {'match_source': 'HP:0012318',\n",
       "   'match_source_label': 'Occipital neuralgia',\n",
       "   'match_target': 'HP:0012318',\n",
       "   'match_target_label': 'Occipital neuralgia',\n",
       "   'score': 18.19210976863243,\n",
       "   'match_subsumer': None,\n",
       "   'match_subsumer_label': None,\n",
       "   'similarity': {'subject_id': 'HP:0012318',\n",
       "    'subject_label': None,\n",
       "    'subject_source': None,\n",
       "    'object_id': 'HP:0012318',\n",
       "    'object_label': None,\n",
       "    'object_source': None,\n",
       "    'ancestor_id': 'HP:0012318',\n",
       "    'ancestor_label': 'Occipital neuralgia',\n",
       "    'ancestor_source': None,\n",
       "    'object_information_content': None,\n",
       "    'subject_information_content': None,\n",
       "    'ancestor_information_content': 18.19210976863243,\n",
       "    'jaccard_similarity': 1.0,\n",
       "    'cosine_similarity': None,\n",
       "    'dice_similarity': None,\n",
       "    'phenodigm_score': 4.26522095191239},\n",
       "   'score_metric': 'ancestor_information_content'},\n",
       "  'HP:0033610': {'match_source': 'HP:0033610',\n",
       "   'match_source_label': 'Subsolid pulmonary nodule',\n",
       "   'match_target': 'HP:0033610',\n",
       "   'match_target_label': 'Subsolid pulmonary nodule',\n",
       "   'score': 16.607147267911277,\n",
       "   'match_subsumer': None,\n",
       "   'match_subsumer_label': None,\n",
       "   'similarity': {'subject_id': 'HP:0033610',\n",
       "    'subject_label': None,\n",
       "    'subject_source': None,\n",
       "    'object_id': 'HP:0033610',\n",
       "    'object_label': None,\n",
       "    'object_source': None,\n",
       "    'ancestor_id': 'HP:0033610',\n",
       "    'ancestor_label': 'Subsolid pulmonary nodule',\n",
       "    'ancestor_source': None,\n",
       "    'object_information_content': None,\n",
       "    'subject_information_content': None,\n",
       "    'ancestor_information_content': 16.607147267911277,\n",
       "    'jaccard_similarity': 1.0,\n",
       "    'cosine_similarity': None,\n",
       "    'dice_similarity': None,\n",
       "    'phenodigm_score': 4.075186777058357},\n",
       "   'score_metric': 'ancestor_information_content'},\n",
       "  'HP:0033854': {'match_source': 'HP:0033854',\n",
       "   'match_source_label': 'Abnormal interlobular vein morphology',\n",
       "   'match_target': 'HP:0033854',\n",
       "   'match_target_label': 'Abnormal interlobular vein morphology',\n",
       "   'score': 14.104646927382092,\n",
       "   'match_subsumer': None,\n",
       "   'match_subsumer_label': None,\n",
       "   'similarity': {'subject_id': 'HP:0033854',\n",
       "    'subject_label': None,\n",
       "    'subject_source': None,\n",
       "    'object_id': 'HP:0033854',\n",
       "    'object_label': None,\n",
       "    'object_source': None,\n",
       "    'ancestor_id': 'HP:0033854',\n",
       "    'ancestor_label': 'Abnormal interlobular vein morphology',\n",
       "    'ancestor_source': None,\n",
       "    'object_information_content': None,\n",
       "    'subject_information_content': None,\n",
       "    'ancestor_information_content': 14.104646927382092,\n",
       "    'jaccard_similarity': 1.0,\n",
       "    'cosine_similarity': None,\n",
       "    'dice_similarity': None,\n",
       "    'phenodigm_score': 3.755615385976324},\n",
       "   'score_metric': 'ancestor_information_content'}},\n",
       " 'average_score': 16.07624658111643,\n",
       " 'best_score': 18.19210976863243,\n",
       " 'metric': 'AncestorInformationContent'}"
      ]
     },
     "execution_count": 19,
     "metadata": {},
     "output_type": "execute_result"
    }
   ],
   "source": [
    "response = requests.get('https://monarchinitiative.org/v3/api/semsim/compare/' + prepareRequest(test1))\n",
    "response.json()"
   ]
  },
  {
   "cell_type": "code",
   "execution_count": 20,
   "metadata": {},
   "outputs": [],
   "source": [
    "array_test = [test1,test2,test3,test4,test5,test6]"
   ]
  },
  {
   "cell_type": "code",
   "execution_count": 21,
   "metadata": {},
   "outputs": [
    {
     "name": "stdout",
     "output_type": "stream",
     "text": [
      "Test 1: Average score: 16.07624658111643\n",
      "Test 2: Average score: 5.138030027158525\n",
      "Test 3: Average score: 15.79323908126066\n",
      "Test 4: Average score: 5.138030027158525\n",
      "Test 5: Average score: 10.138328416318162\n",
      "Test 6: Average score: 4.88578547162113\n"
     ]
    }
   ],
   "source": [
    "for i in range(len(array_test)):\n",
    "    response = requests.get('https://monarchinitiative.org/v3/api/semsim/compare/'+ prepareRequest(array_test[i]))\n",
    "    average_score = response.json()['average_score']\n",
    "    print(f'Test {i+1}: Average score: {average_score}')"
   ]
  },
  {
   "cell_type": "markdown",
   "metadata": {},
   "source": [
    "<h4>Testing the 3 different algorithms available on Monarch Initiative with the 6 tests explained above (N = 50)</h4>"
   ]
  },
  {
   "cell_type": "code",
   "execution_count": 22,
   "metadata": {},
   "outputs": [],
   "source": [
    "N = 50\n",
    "matrix_AIC = np.zeros([6,N])\n",
    "matrix_JAC = np.zeros([6,N])\n",
    "matrix_PHE = np.zeros([6,N])\n",
    "\n",
    "random.seed(12)\n",
    "\n",
    "for j in range(N):\n",
    "    randomHPO = random.sample(range(5,len(data['graphs'][0]['nodes'])-23),10)\n",
    "\n",
    "    setA_1 = []\n",
    "    for i in randomHPO:\n",
    "        setA_1.append(getHPO(data['graphs'][0]['nodes'][i]['id']))\n",
    "    setA_1 = list(map(lambda x: x.replace('_',':'), setA_1))\n",
    "\n",
    "    randomHPO1 = random.sample(range(5,len(data['graphs'][0]['nodes'])-23),10)\n",
    "\n",
    "    setB_1 = []\n",
    "    for i in randomHPO1:\n",
    "        setB_1.append(getHPO(data['graphs'][0]['nodes'][i]['id']))\n",
    "    setB_1 = list(map(lambda x: x.replace('_',':'), setB_1))\n",
    "\n",
    "    random_noise = [-3,-2,-1,1,2,3]\n",
    "    setB_2 = []\n",
    "    for i in randomHPO:\n",
    "        setB_2.append(getHPO(traverseGraph(data['graphs'][0]['nodes'][i]['id'],random.choice(random_noise))))\n",
    "    setB_2 = list(map(lambda x: x.replace('_',':'), setB_2))\n",
    "\n",
    "    generalizer = [1,2,3,4]\n",
    "    setB_3 = []\n",
    "    for i in randomHPO:\n",
    "        setB_3.append(getHPO(traverseGraph(data['graphs'][0]['nodes'][i]['id'],random.choice(generalizer))))\n",
    "    setB_3 = list(map(lambda x: x.replace('_',':'), setB_3))\n",
    "\n",
    "    test1 = [setA_1,setA_1]\n",
    "    test2 = [setA_1,setB_1]\n",
    "    test3 = [setA_1,setB_2]\n",
    "    test4 = [setB_1,setB_2]\n",
    "    test5 = [setA_1, setB_3]\n",
    "    test6 = [setB_1, setB_3]\n",
    "\n",
    "    array_test = [test1,test2,test3,test4,test5,test6]\n",
    "\n",
    "    for i in range(len(array_test)):\n",
    "        response = requests.get('https://monarchinitiative.org/v3/api/semsim/compare/'+ prepareRequest(array_test[i]) + '?metric=ancestor_information_content')\n",
    "        matrix_AIC[i][j] = response.json()['average_score']\n",
    "\n",
    "        response = requests.get('https://monarchinitiative.org/v3/api/semsim/compare/'+ prepareRequest(array_test[i]) + '?metric=jaccard_similarity')\n",
    "        matrix_JAC[i][j] = response.json()['average_score']\n",
    "\n",
    "        response = requests.get('https://monarchinitiative.org/v3/api/semsim/compare/'+ prepareRequest(array_test[i]) + '?metric=phenodigm_score')\n",
    "        matrix_PHE[i][j] = response.json()['average_score']"
   ]
  },
  {
   "cell_type": "markdown",
   "metadata": {},
   "source": [
    "<h1>Results</h1>"
   ]
  },
  {
   "cell_type": "code",
   "execution_count": 23,
   "metadata": {},
   "outputs": [
    {
     "name": "stdout",
     "output_type": "stream",
     "text": [
      "Test 1:  17.197377637920184\n",
      "Test 2:  7.444363574601536\n",
      "Test 3:  14.782482672025472\n",
      "Test 4:  7.319625631222254\n",
      "Test 5:  11.360872995034986\n",
      "Test 6:  6.9204669838639505\n"
     ]
    }
   ],
   "source": [
    "j = 1\n",
    "for i in matrix_AIC:\n",
    "    print(f'Test {j}:  {np.array(i).mean()}')\n",
    "    j+=1"
   ]
  },
  {
   "cell_type": "code",
   "execution_count": 24,
   "metadata": {},
   "outputs": [
    {
     "data": {
      "image/png": "[encoded data removed]",
      "text/plain": [
       "<Figure size 640x480 with 1 Axes>"
      ]
     },
     "metadata": {},
     "output_type": "display_data"
    }
   ],
   "source": [
    "boxplot_data = [\n",
    "    matrix_AIC[0],\n",
    "    matrix_AIC[1],\n",
    "    matrix_AIC[2],\n",
    "    matrix_AIC[3],\n",
    "    matrix_AIC[4],\n",
    "    matrix_AIC[5]\n",
    "]\n",
    "labels = ['Test 1', 'Test 2', 'Test 3', 'Test 4', 'Test 5', 'Test 6']\n",
    "\n",
    "fig, ax = plt.subplots()\n",
    "plt.title('Ancestor Information Content')\n",
    "ax.set_ylabel('Average Score')\n",
    "\n",
    "bplot = ax.boxplot(boxplot_data,\n",
    "                   tick_labels=labels)\n",
    "\n",
    "plt.show()"
   ]
  },
  {
   "cell_type": "code",
   "execution_count": 25,
   "metadata": {},
   "outputs": [
    {
     "name": "stdout",
     "output_type": "stream",
     "text": [
      "Test 1:  1.0\n",
      "Test 2:  0.3875498225241882\n",
      "Test 3:  0.8688185475912572\n",
      "Test 4:  0.4000312238150127\n",
      "Test 5:  0.726676708552509\n",
      "Test 6:  0.43197905729631586\n"
     ]
    }
   ],
   "source": [
    "j = 1\n",
    "for i in matrix_JAC:\n",
    "    print(f'Test {j}:  {np.array(i).mean()}')\n",
    "    j+=1"
   ]
  },
  {
   "cell_type": "code",
   "execution_count": 26,
   "metadata": {},
   "outputs": [
    {
     "data": {
      "image/png": "[encoded data removed]",
      "text/plain": [
       "<Figure size 640x480 with 1 Axes>"
      ]
     },
     "metadata": {},
     "output_type": "display_data"
    }
   ],
   "source": [
    "boxplot_data = [\n",
    "    matrix_JAC[0],\n",
    "    matrix_JAC[1],\n",
    "    matrix_JAC[2],\n",
    "    matrix_JAC[3],\n",
    "    matrix_JAC[4],\n",
    "    matrix_JAC[5]\n",
    "]\n",
    "labels = ['Test 1', 'Test 2', 'Test 3', 'Test 4', 'Test 5', 'Test 6']\n",
    "\n",
    "fig, ax = plt.subplots()\n",
    "plt.title('Jaccard Similarity')\n",
    "ax.set_ylabel('Average Score')\n",
    "\n",
    "bplot = ax.boxplot(boxplot_data,\n",
    "                   tick_labels=labels)\n",
    "\n",
    "plt.show()"
   ]
  },
  {
   "cell_type": "code",
   "execution_count": 27,
   "metadata": {},
   "outputs": [
    {
     "name": "stdout",
     "output_type": "stream",
     "text": [
      "Test 1:  4.13873983060814\n",
      "Test 2:  1.6336883918409055\n",
      "Test 3:  3.558149857876737\n",
      "Test 4:  1.6400738808419357\n",
      "Test 5:  2.827947302674293\n",
      "Test 6:  1.6613541857734702\n"
     ]
    }
   ],
   "source": [
    "j = 1\n",
    "for i in matrix_PHE:\n",
    "    print(f'Test {j}:  {np.array(i).mean()}')\n",
    "    j+=1"
   ]
  },
  {
   "cell_type": "code",
   "execution_count": 28,
   "metadata": {},
   "outputs": [
    {
     "data": {
      "image/png": "[encoded data removed]",
      "text/plain": [
       "<Figure size 640x480 with 1 Axes>"
      ]
     },
     "metadata": {},
     "output_type": "display_data"
    }
   ],
   "source": [
    "boxplot_data = [\n",
    "    matrix_PHE[0],\n",
    "    matrix_PHE[1],\n",
    "    matrix_PHE[2],\n",
    "    matrix_PHE[3],\n",
    "    matrix_PHE[4],\n",
    "    matrix_PHE[5]\n",
    "]\n",
    "labels = ['Test 1', 'Test 2', 'Test 3', 'Test 4', 'Test 5', 'Test 6']\n",
    "\n",
    "fig, ax = plt.subplots()\n",
    "plt.title('Phenodigm Score')\n",
    "ax.set_ylabel('Average Score')\n",
    "\n",
    "bplot = ax.boxplot(boxplot_data,\n",
    "                   tick_labels=labels)\n",
    "\n",
    "plt.show()"
   ]
  },
  {
   "cell_type": "markdown",
   "metadata": {},
   "source": [
    "<h2>Further tests on behaviour on the AIC algortihm of the Monarch Initiative</h2>\n",
    "<p>We define a fix setB with 10 random HPO<p>"
   ]
  },
  {
   "cell_type": "code",
   "execution_count": 29,
   "metadata": {},
   "outputs": [
    {
     "data": {
      "text/plain": [
       "['HP:0040248',\n",
       " 'HP:0012157',\n",
       " 'HP:0500132',\n",
       " 'HP:0031088',\n",
       " 'HP:0006955',\n",
       " 'HP:0032182',\n",
       " 'HP:0000458',\n",
       " 'HP:0031946',\n",
       " 'HP:0045036',\n",
       " 'HP:0012323']"
      ]
     },
     "execution_count": 29,
     "metadata": {},
     "output_type": "execute_result"
    }
   ],
   "source": [
    "random.seed(12)\n",
    "randomHPO = random.sample(range(len(data['graphs'][0]['nodes'])),10)\n",
    "\n",
    "setB = []\n",
    "for i in randomHPO:\n",
    "    setB.append(getHPO(data['graphs'][0]['nodes'][i]['id']))\n",
    "setB = list(map(lambda x: x.replace('_',':'), setB))\n",
    "setB"
   ]
  },
  {
   "cell_type": "markdown",
   "metadata": {},
   "source": [
    "<p>Test 1 has a SetA with 5 generalized HPO of SetB</p>"
   ]
  },
  {
   "cell_type": "code",
   "execution_count": 30,
   "metadata": {},
   "outputs": [
    {
     "data": {
      "text/plain": [
       "['HP:0000008', 'HP:0007360', 'HP:0011893', 'HP:0010892', 'HP:0003110']"
      ]
     },
     "execution_count": 30,
     "metadata": {},
     "output_type": "execute_result"
    }
   ],
   "source": [
    "generalizer = [2,3,4]\n",
    "test1 = []\n",
    "for i in randomHPO:\n",
    "    test1.append(getHPO(traverseGraph(data['graphs'][0]['nodes'][i]['id'],random.choice(generalizer))))\n",
    "test1 = list(map(lambda x: x.replace('_',':'), test1))\n",
    "test1 = random.sample(test1, 5)\n",
    "test1"
   ]
  },
  {
   "cell_type": "markdown",
   "metadata": {},
   "source": [
    "<p>Test 2 has a SetA with 10 generalized HPO of SetB</p>"
   ]
  },
  {
   "cell_type": "code",
   "execution_count": 31,
   "metadata": {},
   "outputs": [
    {
     "data": {
      "text/plain": [
       "['HP:0001871',\n",
       " 'HP:0002977',\n",
       " 'HP:0033107',\n",
       " 'HP:0000812',\n",
       " 'HP:0012639',\n",
       " 'HP:0004332',\n",
       " 'HP:0000234',\n",
       " 'HP:0033354',\n",
       " 'HP:0011277',\n",
       " 'HP:0011442']"
      ]
     },
     "execution_count": 31,
     "metadata": {},
     "output_type": "execute_result"
    }
   ],
   "source": [
    "test2 = []\n",
    "for i in randomHPO:\n",
    "    test2.append(getHPO(traverseGraph(data['graphs'][0]['nodes'][i]['id'],random.choice(generalizer))))\n",
    "test2 = list(map(lambda x: x.replace('_',':'), test2))\n",
    "test2"
   ]
  },
  {
   "cell_type": "markdown",
   "metadata": {},
   "source": [
    "Test 3 has a SetA with 10 generalized HPO of SetB and an additional 5 random HPO as noise"
   ]
  },
  {
   "cell_type": "code",
   "execution_count": 32,
   "metadata": {},
   "outputs": [
    {
     "data": {
      "text/plain": [
       "['HP:0001871',\n",
       " 'HP:0007132',\n",
       " 'HP:0500132',\n",
       " 'HP:0031088',\n",
       " 'HP:0007360',\n",
       " 'HP:0011839',\n",
       " 'HP:0000366',\n",
       " 'HP:0031946',\n",
       " 'HP:0001939',\n",
       " 'HP:0004305',\n",
       " 'HP:0008326',\n",
       " 'HP:0034920',\n",
       " 'HP:0031581',\n",
       " 'HP:0009182',\n",
       " 'HP:0009435']"
      ]
     },
     "execution_count": 32,
     "metadata": {},
     "output_type": "execute_result"
    }
   ],
   "source": [
    "test3 = []\n",
    "ar_t3 = random.sample(range(len(data['graphs'][0]['nodes'])),5)\n",
    "for i in randomHPO:\n",
    "    test3.append(getHPO(traverseGraph(data['graphs'][0]['nodes'][i]['id'],random.choice(random_noise))))\n",
    "for j in ar_t3:\n",
    "    test3.append(getHPO(data['graphs'][0]['nodes'][j]['id']))\n",
    "\n",
    "test3 = list(map(lambda x: x.replace('_',':'), test3))\n",
    "test3"
   ]
  },
  {
   "cell_type": "markdown",
   "metadata": {},
   "source": [
    "<p>Test 4 has a SetA build searching for terms N levels above and below the terms on SetB.<p>\n",
    "<p>In this case N = 3 and max length = 30<p> "
   ]
  },
  {
   "cell_type": "code",
   "execution_count": 33,
   "metadata": {},
   "outputs": [
    {
     "data": {
      "text/plain": [
       "25"
      ]
     },
     "execution_count": 33,
     "metadata": {},
     "output_type": "execute_result"
    }
   ],
   "source": [
    "test4 = []\n",
    "N = 30\n",
    "for j in range(N):\n",
    "    i = random.choice(randomHPO)\n",
    "    test4.append(getHPO(traverseGraph(data['graphs'][0]['nodes'][i]['id'],random.choice(random_noise))))\n",
    "\n",
    "test4 = list(map(lambda x: x.replace('_',':'), test4))\n",
    "test4 = list(set(test4))\n",
    "len(test4)"
   ]
  },
  {
   "cell_type": "markdown",
   "metadata": {},
   "source": [
    "<h4>Testing the 4 tests explained above (N = 50)</h4>"
   ]
  },
  {
   "cell_type": "code",
   "execution_count": 34,
   "metadata": {},
   "outputs": [],
   "source": [
    "N = 50\n",
    "matrix = np.zeros([4,N])\n",
    "\n",
    "random.seed(12)\n",
    "\n",
    "for k in range(N):\n",
    "    randomHPO = random.sample(range(5,len(data['graphs'][0]['nodes'])-23),10)\n",
    "\n",
    "    setB = []\n",
    "    for i in randomHPO:\n",
    "        setB.append(getHPO(data['graphs'][0]['nodes'][i]['id']))\n",
    "    setB = list(map(lambda x: x.replace('_',':'), setB))\n",
    "\n",
    "    test1 = []\n",
    "    for i in randomHPO:\n",
    "        test1.append(getHPO(traverseGraph(data['graphs'][0]['nodes'][i]['id'],random.choice(generalizer))))\n",
    "    test1 = list(map(lambda x: x.replace('_',':'), test1))\n",
    "    test1 = random.sample(test1, 5)\n",
    "\n",
    "    test2 = []\n",
    "    for i in randomHPO:\n",
    "        test2.append(getHPO(traverseGraph(data['graphs'][0]['nodes'][i]['id'],random.choice(generalizer))))\n",
    "    test2 = list(map(lambda x: x.replace('_',':'), test2))\n",
    "\n",
    "    test3 = []\n",
    "    ar_t3 = random.sample(range(5,len(data['graphs'][0]['nodes'])-23),5)\n",
    "    for i in randomHPO:\n",
    "        test3.append(getHPO(traverseGraph(data['graphs'][0]['nodes'][i]['id'],random.choice(generalizer))))\n",
    "    for j in ar_t3:\n",
    "        test3.append(getHPO(data['graphs'][0]['nodes'][j]['id']))\n",
    "\n",
    "    test3 = list(map(lambda x: x.replace('_',':'), test3))\n",
    "\n",
    "    test4 = []\n",
    "    N = 30\n",
    "    for j in range(N):\n",
    "        i = random.choice(randomHPO)\n",
    "        test4.append(getHPO(traverseGraph(data['graphs'][0]['nodes'][i]['id'],random.choice(generalizer))))\n",
    "\n",
    "    test4 = list(map(lambda x: x.replace('_',':'), test4))\n",
    "    test4 = list(set(test4))\n",
    "\n",
    "    test1 = [test1,setB]\n",
    "    test2 = [test2,setB]\n",
    "    test3 = [test3,setB]\n",
    "    test4 = [test4,setB]\n",
    "\n",
    "    array_test = [test1,test2,test3,test4]\n",
    "\n",
    "    for i in range(len(array_test)):\n",
    "        response = requests.get('https://monarchinitiative.org/v3/api/semsim/compare/'+ prepareRequest(array_test[i]) + '?metric=ancestor_information_content')\n",
    "        matrix[i][k] = response.json()['average_score']\n"
   ]
  },
  {
   "cell_type": "markdown",
   "metadata": {},
   "source": [
    "<h1>Results</h1>"
   ]
  },
  {
   "cell_type": "code",
   "execution_count": 35,
   "metadata": {},
   "outputs": [
    {
     "data": {
      "image/png": "[encoded data removed]",
      "text/plain": [
       "<Figure size 640x480 with 1 Axes>"
      ]
     },
     "metadata": {},
     "output_type": "display_data"
    }
   ],
   "source": [
    "boxplot_data = [\n",
    "    matrix[0],\n",
    "    matrix[1],\n",
    "    matrix[2],\n",
    "    matrix[3]\n",
    "]\n",
    "labels = ['Test 1', 'Test 2', 'Test 3', 'Test 4']\n",
    "\n",
    "fig, ax = plt.subplots()\n",
    "plt.title('Ancestor Information Content')\n",
    "ax.set_ylabel('Average Score')\n",
    "\n",
    "bplot = ax.boxplot(boxplot_data,\n",
    "                   tick_labels=labels)\n",
    "\n",
    "plt.show()"
   ]
  },
  {
   "cell_type": "markdown",
   "metadata": {},
   "source": [
    "<h2>Studying the behaviour of the algorithm with variable setA and setB length</h2>"
   ]
  },
  {
   "cell_type": "code",
   "execution_count": 36,
   "metadata": {},
   "outputs": [],
   "source": [
    "N = 300\n",
    "random.seed(12)\n",
    "l = []\n",
    "l1 = []\n",
    "duration = []\n",
    "for j in range(N):\n",
    "    numHPO = random.randint(5,100)\n",
    "    randomHPO = random.sample(range(5,len(data['graphs'][0]['nodes'])-23),numHPO)\n",
    "\n",
    "    setA = []\n",
    "    for i in randomHPO:\n",
    "        setA.append(getHPO(data['graphs'][0]['nodes'][i]['id']))\n",
    "    setA = list(map(lambda x: x.replace('_',':'), setA))\n",
    "\n",
    "    randomHPO1 = random.sample(range(5,len(data['graphs'][0]['nodes'])-23),10)\n",
    "\n",
    "    setB_1 = []\n",
    "    for i in randomHPO1:\n",
    "        setB_1.append(getHPO(data['graphs'][0]['nodes'][i]['id']))\n",
    "    setB_1 = list(map(lambda x: x.replace('_',':'), setB_1))\n",
    "\n",
    "    setB_2 = []\n",
    "    for i in randomHPO:\n",
    "        setB_2.append(getHPO(traverseGraph(data['graphs'][0]['nodes'][i]['id'],random.choice(generalizer))))\n",
    "    setB_2 =  list(map(lambda x: x.replace('_',':'), setB_2))\n",
    "\n",
    "    array_test = [[setA,setB_1],[setA,setB_2]]\n",
    "    start = time.time()\n",
    "    response = requests.get('https://monarchinitiative.org/v3/api/semsim/compare/'+ prepareRequest(array_test[0]) + '?metric=ancestor_information_content')\n",
    "    response1 = requests.get('https://monarchinitiative.org/v3/api/semsim/compare/'+ prepareRequest(array_test[1]) + '?metric=ancestor_information_content')\n",
    "    end = time.time()\n",
    "    l.append([numHPO,response.json()['average_score']])\n",
    "    l1.append([numHPO,response1.json()['average_score']])\n",
    "    duration.append([numHPO,end-start])"
   ]
  },
  {
   "cell_type": "markdown",
   "metadata": {},
   "source": [
    "<h1>Results</h1>"
   ]
  },
  {
   "cell_type": "code",
   "execution_count": 37,
   "metadata": {},
   "outputs": [
    {
     "data": {
      "image/png": "[encoded data removed]",
      "text/plain": [
       "<Figure size 640x480 with 1 Axes>"
      ]
     },
     "metadata": {},
     "output_type": "display_data"
    }
   ],
   "source": [
    "plt.scatter([row[0] for row in duration],[row[1]/2 for row in duration])\n",
    "plt.xlabel('Num HPO terms')\n",
    "plt.ylabel('Time (sec)')\n",
    "plt.title('API time test')\n",
    "\n",
    "plt.show()"
   ]
  },
  {
   "cell_type": "code",
   "execution_count": 38,
   "metadata": {},
   "outputs": [
    {
     "data": {
      "image/png": "[encoded data removed]",
      "text/plain": [
       "<Figure size 640x480 with 1 Axes>"
      ]
     },
     "metadata": {},
     "output_type": "display_data"
    }
   ],
   "source": [
    "plt.scatter([row[0] for row in l],[row[1] for row in l])\n",
    "plt.xlabel('Num HPO terms')\n",
    "plt.ylabel('Average score')\n",
    "plt.title('Random sets')\n",
    "\n",
    "plt.show()"
   ]
  },
  {
   "cell_type": "code",
   "execution_count": 39,
   "metadata": {},
   "outputs": [
    {
     "data": {
      "image/png": "[encoded data removed]",
      "text/plain": [
       "<Figure size 640x480 with 1 Axes>"
      ]
     },
     "metadata": {},
     "output_type": "display_data"
    }
   ],
   "source": [
    "plt.scatter([row[0] for row in l1],[row[1] for row in l1])\n",
    "plt.xlabel('Num HPO terms')\n",
    "plt.ylabel('Average score')\n",
    "plt.title('SetB generalized from setA')\n",
    "\n",
    "plt.show()"
   ]
  },
  {
   "cell_type": "markdown",
   "metadata": {},
   "source": [
    "<h1>Firsts tests on phenotype classification</h1>"
   ]
  },
  {
   "cell_type": "code",
   "execution_count": 40,
   "metadata": {},
   "outputs": [],
   "source": [
    "g1 = []\n",
    "g2 = []\n",
    "g3 = []"
   ]
  },
  {
   "cell_type": "markdown",
   "metadata": {},
   "source": [
    "<p>We define 3 groups,g1 ,g2 and g3, following normal distribution centered around 0.25, 0.5 and 0.75 respectively. (Sigma = 0.5)</p>"
   ]
  },
  {
   "cell_type": "code",
   "execution_count": 41,
   "metadata": {},
   "outputs": [],
   "source": [
    "while(len(g1) < 100000):\n",
    "    val = random.gauss(0.25,0.5)\n",
    "    if 0 < val < 1:\n",
    "        g1.append(val)\n",
    "\n",
    "while(len(g2) < 100000):\n",
    "    val = random.gauss(0.5,0.5)\n",
    "    if 0 < val < 1:\n",
    "        g2.append(val)\n",
    "\n",
    "while(len(g3) < 100000):\n",
    "    val = random.gauss(0.75,0.5)\n",
    "    if 0 < val < 1:\n",
    "        g3.append(val)"
   ]
  },
  {
   "cell_type": "markdown",
   "metadata": {},
   "source": [
    "<p>Mapping the three distinct groups populated with 100000 instances to their respective HPO term</p>"
   ]
  },
  {
   "cell_type": "code",
   "execution_count": 42,
   "metadata": {},
   "outputs": [],
   "source": [
    "g1 = list(map(lambda x: data['graphs'][0]['nodes'][round(x*len(data['graphs'][0]['nodes'])-23)+5]['id'],g1))\n",
    "g2 = list(map(lambda x: data['graphs'][0]['nodes'][round(x*len(data['graphs'][0]['nodes'])-23)+5]['id'],g2))\n",
    "g3 = list(map(lambda x: data['graphs'][0]['nodes'][round(x*len(data['graphs'][0]['nodes'])-23)+5]['id'],g3))"
   ]
  },
  {
   "cell_type": "markdown",
   "metadata": {},
   "source": [
    "<h3>Extracting most significant HPO of each group as method of comparison</h3>\n",
    "<p>In this case we will select the 100 most occuring HPO in a group and all HPO whose frequency between groups is above 85%</p>"
   ]
  },
  {
   "cell_type": "code",
   "execution_count": 43,
   "metadata": {},
   "outputs": [],
   "source": [
    "cg1 = Counter(g1)\n",
    "cg2 = Counter(g2)\n",
    "cg3 = Counter(g3)"
   ]
  },
  {
   "cell_type": "code",
   "execution_count": 44,
   "metadata": {},
   "outputs": [],
   "source": [
    "totalCount = cg1 + cg2 + cg3"
   ]
  },
  {
   "cell_type": "code",
   "execution_count": 45,
   "metadata": {},
   "outputs": [],
   "source": [
    "bestG1 = list(cg1.keys())[0:100]\n",
    "bestG2 = list(cg2.keys())[0:100]\n",
    "bestG3 = list(cg3.keys())[0:100]"
   ]
  },
  {
   "cell_type": "code",
   "execution_count": 46,
   "metadata": {},
   "outputs": [],
   "source": [
    "for i in cg1.keys():\n",
    "    div = cg1[i]/totalCount[i]\n",
    "    if div > 0.85:\n",
    "        bestG1.append(i)\n",
    "\n",
    "for i in cg2.keys():\n",
    "    div = cg2[i]/totalCount[i]\n",
    "    if div > 0.85:\n",
    "        bestG2.append(i)\n",
    "\n",
    "for i in cg3.keys():\n",
    "    div = cg3[i]/totalCount[i]\n",
    "    if div > 0.85:\n",
    "        bestG3.append(i)"
   ]
  },
  {
   "cell_type": "markdown",
   "metadata": {},
   "source": [
    "<p>Testing random sample of g1 and size 40 with all 3 distict groups<p>"
   ]
  },
  {
   "cell_type": "code",
   "execution_count": 47,
   "metadata": {},
   "outputs": [],
   "source": [
    "testA = random.sample(g1, 40)\n",
    "testB1 = list(set(bestG1))\n",
    "testB2 = list(set(bestG2))\n",
    "testB3 = list(set(bestG3))"
   ]
  },
  {
   "cell_type": "code",
   "execution_count": 48,
   "metadata": {},
   "outputs": [],
   "source": [
    "testA = list(map(lambda x: getHPO(x), testA))\n",
    "testA = list(map(lambda x: x.replace('_',':'), testA))\n",
    "\n",
    "testB1 = list(map(lambda x: getHPO(x), testB1))\n",
    "testB1 = list(map(lambda x: x.replace('_',':'), testB1))\n",
    "\n",
    "testB2 = list(map(lambda x: getHPO(x), testB2))\n",
    "testB2 = list(map(lambda x: x.replace('_',':'), testB2))\n",
    "\n",
    "testB3 = list(map(lambda x: getHPO(x), testB3))\n",
    "testB3 = list(map(lambda x: x.replace('_',':'), testB3))"
   ]
  },
  {
   "cell_type": "code",
   "execution_count": 49,
   "metadata": {},
   "outputs": [
    {
     "name": "stdout",
     "output_type": "stream",
     "text": [
      "10.105234287815602\n",
      "9.914486667315908\n",
      "9.834562725356824\n"
     ]
    }
   ],
   "source": [
    "response = requests.get('https://monarchinitiative.org/v3/api/semsim/compare/'+ prepareRequest([testA, testB1]) + '?metric=ancestor_information_content')\n",
    "print(response.json()['average_score'])\n",
    "response = requests.get('https://monarchinitiative.org/v3/api/semsim/compare/'+ prepareRequest([testA, testB2]) + '?metric=ancestor_information_content')\n",
    "print(response.json()['average_score'])\n",
    "response = requests.get('https://monarchinitiative.org/v3/api/semsim/compare/'+ prepareRequest([testA, testB3]) + '?metric=ancestor_information_content')\n",
    "print(response.json()['average_score'])\n"
   ]
  },
  {
   "cell_type": "markdown",
   "metadata": {},
   "source": [
    "<p>Small visualization of database mapping HPO terms to associated genes and disease<p>"
   ]
  },
  {
   "cell_type": "code",
   "execution_count": 50,
   "metadata": {},
   "outputs": [],
   "source": [
    "phen_to_genes = pd.read_csv('ontologies/phenotype_to_genes.txt', sep='\\t')"
   ]
  },
  {
   "cell_type": "code",
   "execution_count": 51,
   "metadata": {},
   "outputs": [
    {
     "data": {
      "text/html": [
       "<div>\n",
       "<style scoped>\n",
       "    .dataframe tbody tr th:only-of-type {\n",
       "        vertical-align: middle;\n",
       "    }\n",
       "\n",
       "    .dataframe tbody tr th {\n",
       "        vertical-align: top;\n",
       "    }\n",
       "\n",
       "    .dataframe thead th {\n",
       "        text-align: right;\n",
       "    }\n",
       "</style>\n",
       "<table border=\"1\" class=\"dataframe\">\n",
       "  <thead>\n",
       "    <tr style=\"text-align: right;\">\n",
       "      <th></th>\n",
       "      <th>hpo_id</th>\n",
       "      <th>hpo_name</th>\n",
       "      <th>ncbi_gene_id</th>\n",
       "      <th>gene_symbol</th>\n",
       "      <th>disease_id</th>\n",
       "    </tr>\n",
       "  </thead>\n",
       "  <tbody>\n",
       "    <tr>\n",
       "      <th>0</th>\n",
       "      <td>HP:0004808</td>\n",
       "      <td>Acute myeloid leukemia</td>\n",
       "      <td>2672</td>\n",
       "      <td>GFI1</td>\n",
       "      <td>OMIM:607847</td>\n",
       "    </tr>\n",
       "    <tr>\n",
       "      <th>1</th>\n",
       "      <td>HP:0004808</td>\n",
       "      <td>Acute myeloid leukemia</td>\n",
       "      <td>2672</td>\n",
       "      <td>GFI1</td>\n",
       "      <td>ORPHA:486</td>\n",
       "    </tr>\n",
       "    <tr>\n",
       "      <th>2</th>\n",
       "      <td>HP:0004808</td>\n",
       "      <td>Acute myeloid leukemia</td>\n",
       "      <td>675</td>\n",
       "      <td>BRCA2</td>\n",
       "      <td>OMIM:605724</td>\n",
       "    </tr>\n",
       "    <tr>\n",
       "      <th>3</th>\n",
       "      <td>HP:0004808</td>\n",
       "      <td>Acute myeloid leukemia</td>\n",
       "      <td>675</td>\n",
       "      <td>BRCA2</td>\n",
       "      <td>OMIM:613029</td>\n",
       "    </tr>\n",
       "    <tr>\n",
       "      <th>4</th>\n",
       "      <td>HP:0004808</td>\n",
       "      <td>Acute myeloid leukemia</td>\n",
       "      <td>128</td>\n",
       "      <td>ADH5</td>\n",
       "      <td>OMIM:619151</td>\n",
       "    </tr>\n",
       "  </tbody>\n",
       "</table>\n",
       "</div>"
      ],
      "text/plain": [
       "       hpo_id                hpo_name  ncbi_gene_id gene_symbol   disease_id\n",
       "0  HP:0004808  Acute myeloid leukemia          2672        GFI1  OMIM:607847\n",
       "1  HP:0004808  Acute myeloid leukemia          2672        GFI1    ORPHA:486\n",
       "2  HP:0004808  Acute myeloid leukemia           675       BRCA2  OMIM:605724\n",
       "3  HP:0004808  Acute myeloid leukemia           675       BRCA2  OMIM:613029\n",
       "4  HP:0004808  Acute myeloid leukemia           128        ADH5  OMIM:619151"
      ]
     },
     "execution_count": 51,
     "metadata": {},
     "output_type": "execute_result"
    }
   ],
   "source": [
    "phen_to_genes.head()"
   ]
  },
  {
   "cell_type": "code",
   "execution_count": 52,
   "metadata": {},
   "outputs": [],
   "source": [
    "def genes_info(setA: List[str], setB: List[str], data=phen_to_genes) -> dict:\n",
    "    '''\n",
    "    Gets two HPO sets (setA and setB) and the phen_to_genes data and returns\n",
    "    all genes associated with both HPO terms of both sets and the number of times it\n",
    "    is found in each set.\n",
    "    '''\n",
    "    gSetA = []\n",
    "    gSetB = []\n",
    "    for i in range(len(data['hpo_id'])):\n",
    "        if(data['hpo_id'][i] in setA):\n",
    "            gSetA.append(data['gene_symbol'][i])\n",
    "        if(data['hpo_id'][i] in setB):\n",
    "            gSetB.append(data['gene_symbol'][i])\n",
    "    \n",
    "    d = dict((el,0) for el in set.intersection(set(gSetA),set(gSetB)))\n",
    "\n",
    "    for i in gSetA:\n",
    "        if i in d.keys():\n",
    "            d[i]+=1\n",
    "    \n",
    "    for i in gSetB:\n",
    "        if i in d.keys():\n",
    "            d[i]+=1\n",
    "\n",
    "    return d"
   ]
  },
  {
   "cell_type": "code",
   "execution_count": 53,
   "metadata": {},
   "outputs": [
    {
     "data": {
      "text/plain": [
       "{}"
      ]
     },
     "execution_count": 53,
     "metadata": {},
     "output_type": "execute_result"
    }
   ],
   "source": [
    "genes_info(test2, setB, phen_to_genes)"
   ]
  },
  {
   "cell_type": "markdown",
   "metadata": {},
   "source": [
    "<h1>Testing the classification method with more realistic data</h1>\n",
    "<p>The 4 groups (Cardiovascular, Respiratory, Immunology, Neurologic) are populated with data from OMIM. 200 disease of each class and their respective associated<p>\n",
    "<p>HPO terms are loaded onto their respective group.<p>"
   ]
  },
  {
   "cell_type": "code",
   "execution_count": 54,
   "metadata": {},
   "outputs": [],
   "source": [
    "cardio = pd.read_csv('disease/Cardiovascular.tsv', sep='\\t')\n",
    "resp = pd.read_csv('disease/Respiratory.tsv', sep='\\t')\n",
    "immuno = pd.read_csv('disease/Immunology.tsv', sep='\\t')\n",
    "neuro = pd.read_csv('disease/Neurologic.tsv', sep='\\t')"
   ]
  },
  {
   "cell_type": "code",
   "execution_count": 55,
   "metadata": {},
   "outputs": [
    {
     "data": {
      "text/html": [
       "<div>\n",
       "<style scoped>\n",
       "    .dataframe tbody tr th:only-of-type {\n",
       "        vertical-align: middle;\n",
       "    }\n",
       "\n",
       "    .dataframe tbody tr th {\n",
       "        vertical-align: top;\n",
       "    }\n",
       "\n",
       "    .dataframe thead th {\n",
       "        text-align: right;\n",
       "    }\n",
       "</style>\n",
       "<table border=\"1\" class=\"dataframe\">\n",
       "  <thead>\n",
       "    <tr style=\"text-align: right;\">\n",
       "      <th></th>\n",
       "      <th>MIM Number</th>\n",
       "      <th>Title</th>\n",
       "      <th>Entrez Gene ID</th>\n",
       "    </tr>\n",
       "  </thead>\n",
       "  <tbody>\n",
       "    <tr>\n",
       "      <th>0</th>\n",
       "      <td>#300373</td>\n",
       "      <td>OSTEOPATHIA STRIATA WITH CRANIAL SCLEROSIS; OSCS</td>\n",
       "      <td>NaN</td>\n",
       "    </tr>\n",
       "    <tr>\n",
       "      <th>1</th>\n",
       "      <td>#300376</td>\n",
       "      <td>MUSCULAR DYSTROPHY, BECKER TYPE; BMD</td>\n",
       "      <td>NaN</td>\n",
       "    </tr>\n",
       "    <tr>\n",
       "      <th>2</th>\n",
       "      <td>#300438</td>\n",
       "      <td>HSD10 MITOCHONDRIAL DISEASE; HSD10MD</td>\n",
       "      <td>NaN</td>\n",
       "    </tr>\n",
       "    <tr>\n",
       "      <th>3</th>\n",
       "      <td>#300539</td>\n",
       "      <td>NEPHROGENIC SYNDROME OF INAPPROPRIATE ANTIDIUR...</td>\n",
       "      <td>NaN</td>\n",
       "    </tr>\n",
       "    <tr>\n",
       "      <th>4</th>\n",
       "      <td>#300590</td>\n",
       "      <td>CORNELIA DE LANGE SYNDROME 2; CDLS2</td>\n",
       "      <td>NaN</td>\n",
       "    </tr>\n",
       "  </tbody>\n",
       "</table>\n",
       "</div>"
      ],
      "text/plain": [
       "  MIM Number                                              Title  \\\n",
       "0    #300373   OSTEOPATHIA STRIATA WITH CRANIAL SCLEROSIS; OSCS   \n",
       "1    #300376               MUSCULAR DYSTROPHY, BECKER TYPE; BMD   \n",
       "2    #300438               HSD10 MITOCHONDRIAL DISEASE; HSD10MD   \n",
       "3    #300539  NEPHROGENIC SYNDROME OF INAPPROPRIATE ANTIDIUR...   \n",
       "4    #300590                CORNELIA DE LANGE SYNDROME 2; CDLS2   \n",
       "\n",
       "   Entrez Gene ID  \n",
       "0             NaN  \n",
       "1             NaN  \n",
       "2             NaN  \n",
       "3             NaN  \n",
       "4             NaN  "
      ]
     },
     "execution_count": 55,
     "metadata": {},
     "output_type": "execute_result"
    }
   ],
   "source": [
    "cardio.head()"
   ]
  },
  {
   "cell_type": "code",
   "execution_count": 56,
   "metadata": {},
   "outputs": [
    {
     "data": {
      "text/html": [
       "<div>\n",
       "<style scoped>\n",
       "    .dataframe tbody tr th:only-of-type {\n",
       "        vertical-align: middle;\n",
       "    }\n",
       "\n",
       "    .dataframe tbody tr th {\n",
       "        vertical-align: top;\n",
       "    }\n",
       "\n",
       "    .dataframe thead th {\n",
       "        text-align: right;\n",
       "    }\n",
       "</style>\n",
       "<table border=\"1\" class=\"dataframe\">\n",
       "  <thead>\n",
       "    <tr style=\"text-align: right;\">\n",
       "      <th></th>\n",
       "      <th>MIM Number</th>\n",
       "      <th>Title</th>\n",
       "      <th>Entrez Gene ID</th>\n",
       "    </tr>\n",
       "  </thead>\n",
       "  <tbody>\n",
       "    <tr>\n",
       "      <th>0</th>\n",
       "      <td>#300373</td>\n",
       "      <td>OSTEOPATHIA STRIATA WITH CRANIAL SCLEROSIS; OSCS</td>\n",
       "      <td>NaN</td>\n",
       "    </tr>\n",
       "    <tr>\n",
       "      <th>1</th>\n",
       "      <td>#300400</td>\n",
       "      <td>SEVERE COMBINED IMMUNODEFICIENCY, X-LINKED; SC...</td>\n",
       "      <td>NaN</td>\n",
       "    </tr>\n",
       "    <tr>\n",
       "      <th>2</th>\n",
       "      <td>#300455</td>\n",
       "      <td>RETINITIS PIGMENTOSA, X-LINKED, AND SINORESPIR...</td>\n",
       "      <td>NaN</td>\n",
       "    </tr>\n",
       "    <tr>\n",
       "      <th>3</th>\n",
       "      <td>#300635</td>\n",
       "      <td>LYMPHOPROLIFERATIVE SYNDROME, X-LINKED, 2; XLP2</td>\n",
       "      <td>NaN</td>\n",
       "    </tr>\n",
       "    <tr>\n",
       "      <th>4</th>\n",
       "      <td>#300672</td>\n",
       "      <td>DEVELOPMENTAL AND EPILEPTIC ENCEPHALOPATHY 2; ...</td>\n",
       "      <td>NaN</td>\n",
       "    </tr>\n",
       "  </tbody>\n",
       "</table>\n",
       "</div>"
      ],
      "text/plain": [
       "  MIM Number                                              Title  \\\n",
       "0    #300373   OSTEOPATHIA STRIATA WITH CRANIAL SCLEROSIS; OSCS   \n",
       "1    #300400  SEVERE COMBINED IMMUNODEFICIENCY, X-LINKED; SC...   \n",
       "2    #300455  RETINITIS PIGMENTOSA, X-LINKED, AND SINORESPIR...   \n",
       "3    #300635    LYMPHOPROLIFERATIVE SYNDROME, X-LINKED, 2; XLP2   \n",
       "4    #300672  DEVELOPMENTAL AND EPILEPTIC ENCEPHALOPATHY 2; ...   \n",
       "\n",
       "   Entrez Gene ID  \n",
       "0             NaN  \n",
       "1             NaN  \n",
       "2             NaN  \n",
       "3             NaN  \n",
       "4             NaN  "
      ]
     },
     "execution_count": 56,
     "metadata": {},
     "output_type": "execute_result"
    }
   ],
   "source": [
    "resp.head()"
   ]
  },
  {
   "cell_type": "code",
   "execution_count": 57,
   "metadata": {},
   "outputs": [
    {
     "data": {
      "text/html": [
       "<div>\n",
       "<style scoped>\n",
       "    .dataframe tbody tr th:only-of-type {\n",
       "        vertical-align: middle;\n",
       "    }\n",
       "\n",
       "    .dataframe tbody tr th {\n",
       "        vertical-align: top;\n",
       "    }\n",
       "\n",
       "    .dataframe thead th {\n",
       "        text-align: right;\n",
       "    }\n",
       "</style>\n",
       "<table border=\"1\" class=\"dataframe\">\n",
       "  <thead>\n",
       "    <tr style=\"text-align: right;\">\n",
       "      <th></th>\n",
       "      <th>MIM Number</th>\n",
       "      <th>Title</th>\n",
       "      <th>Entrez Gene ID</th>\n",
       "    </tr>\n",
       "  </thead>\n",
       "  <tbody>\n",
       "    <tr>\n",
       "      <th>0</th>\n",
       "      <td>#300400</td>\n",
       "      <td>SEVERE COMBINED IMMUNODEFICIENCY, X-LINKED; SC...</td>\n",
       "      <td>NaN</td>\n",
       "    </tr>\n",
       "    <tr>\n",
       "      <th>1</th>\n",
       "      <td>#300635</td>\n",
       "      <td>LYMPHOPROLIFERATIVE SYNDROME, X-LINKED, 2; XLP2</td>\n",
       "      <td>NaN</td>\n",
       "    </tr>\n",
       "    <tr>\n",
       "      <th>2</th>\n",
       "      <td>#300636</td>\n",
       "      <td>IMMUNODEFICIENCY 33; IMD33</td>\n",
       "      <td>NaN</td>\n",
       "    </tr>\n",
       "    <tr>\n",
       "      <th>3</th>\n",
       "      <td>#300645</td>\n",
       "      <td>IMMUNODEFICIENCY 34; IMD34</td>\n",
       "      <td>NaN</td>\n",
       "    </tr>\n",
       "    <tr>\n",
       "      <th>4</th>\n",
       "      <td>#300755</td>\n",
       "      <td>AGAMMAGLOBULINEMIA, X-LINKED; XLA</td>\n",
       "      <td>NaN</td>\n",
       "    </tr>\n",
       "  </tbody>\n",
       "</table>\n",
       "</div>"
      ],
      "text/plain": [
       "  MIM Number                                              Title  \\\n",
       "0    #300400  SEVERE COMBINED IMMUNODEFICIENCY, X-LINKED; SC...   \n",
       "1    #300635    LYMPHOPROLIFERATIVE SYNDROME, X-LINKED, 2; XLP2   \n",
       "2    #300636                         IMMUNODEFICIENCY 33; IMD33   \n",
       "3    #300645                         IMMUNODEFICIENCY 34; IMD34   \n",
       "4    #300755                  AGAMMAGLOBULINEMIA, X-LINKED; XLA   \n",
       "\n",
       "   Entrez Gene ID  \n",
       "0             NaN  \n",
       "1             NaN  \n",
       "2             NaN  \n",
       "3             NaN  \n",
       "4             NaN  "
      ]
     },
     "execution_count": 57,
     "metadata": {},
     "output_type": "execute_result"
    }
   ],
   "source": [
    "immuno.head()"
   ]
  },
  {
   "cell_type": "code",
   "execution_count": 58,
   "metadata": {},
   "outputs": [
    {
     "data": {
      "text/html": [
       "<div>\n",
       "<style scoped>\n",
       "    .dataframe tbody tr th:only-of-type {\n",
       "        vertical-align: middle;\n",
       "    }\n",
       "\n",
       "    .dataframe tbody tr th {\n",
       "        vertical-align: top;\n",
       "    }\n",
       "\n",
       "    .dataframe thead th {\n",
       "        text-align: right;\n",
       "    }\n",
       "</style>\n",
       "<table border=\"1\" class=\"dataframe\">\n",
       "  <thead>\n",
       "    <tr style=\"text-align: right;\">\n",
       "      <th></th>\n",
       "      <th>MIM Number</th>\n",
       "      <th>Title</th>\n",
       "      <th>Entrez Gene ID</th>\n",
       "    </tr>\n",
       "  </thead>\n",
       "  <tbody>\n",
       "    <tr>\n",
       "      <th>0</th>\n",
       "      <td>#300373</td>\n",
       "      <td>OSTEOPATHIA STRIATA WITH CRANIAL SCLEROSIS; OSCS</td>\n",
       "      <td>NaN</td>\n",
       "    </tr>\n",
       "    <tr>\n",
       "      <th>1</th>\n",
       "      <td>#300376</td>\n",
       "      <td>MUSCULAR DYSTROPHY, BECKER TYPE; BMD</td>\n",
       "      <td>NaN</td>\n",
       "    </tr>\n",
       "    <tr>\n",
       "      <th>2</th>\n",
       "      <td>#300387</td>\n",
       "      <td>INTELLECTUAL DEVELOPMENTAL DISORDER, X-LINKED ...</td>\n",
       "      <td>NaN</td>\n",
       "    </tr>\n",
       "    <tr>\n",
       "      <th>3</th>\n",
       "      <td>#300400</td>\n",
       "      <td>SEVERE COMBINED IMMUNODEFICIENCY, X-LINKED; SC...</td>\n",
       "      <td>NaN</td>\n",
       "    </tr>\n",
       "    <tr>\n",
       "      <th>4</th>\n",
       "      <td>#300419</td>\n",
       "      <td>INTELLECTUAL DEVELOPMENTAL DISORDER, X-LINKED ...</td>\n",
       "      <td>NaN</td>\n",
       "    </tr>\n",
       "  </tbody>\n",
       "</table>\n",
       "</div>"
      ],
      "text/plain": [
       "  MIM Number                                              Title  \\\n",
       "0    #300373   OSTEOPATHIA STRIATA WITH CRANIAL SCLEROSIS; OSCS   \n",
       "1    #300376               MUSCULAR DYSTROPHY, BECKER TYPE; BMD   \n",
       "2    #300387  INTELLECTUAL DEVELOPMENTAL DISORDER, X-LINKED ...   \n",
       "3    #300400  SEVERE COMBINED IMMUNODEFICIENCY, X-LINKED; SC...   \n",
       "4    #300419  INTELLECTUAL DEVELOPMENTAL DISORDER, X-LINKED ...   \n",
       "\n",
       "   Entrez Gene ID  \n",
       "0             NaN  \n",
       "1             NaN  \n",
       "2             NaN  \n",
       "3             NaN  \n",
       "4             NaN  "
      ]
     },
     "execution_count": 58,
     "metadata": {},
     "output_type": "execute_result"
    }
   ],
   "source": [
    "neuro.head()"
   ]
  },
  {
   "cell_type": "code",
   "execution_count": 59,
   "metadata": {},
   "outputs": [],
   "source": [
    "def getOMIM(data : list[str]) -> list[str]:\n",
    "    '''\n",
    "    Gets an array with format #XXXXXX and returns the array in format OMIM:XXXXXX\n",
    "    '''\n",
    "    for i in range(len(data)):\n",
    "        data[i] = data[i].replace('#','OMIM:')\n",
    "    return data"
   ]
  },
  {
   "cell_type": "code",
   "execution_count": 60,
   "metadata": {},
   "outputs": [],
   "source": [
    "lNeuro = getOMIM(list(neuro['MIM Number']))\n",
    "lImmuno = getOMIM(list(immuno['MIM Number']))\n",
    "lCardio = getOMIM(list(cardio['MIM Number']))\n",
    "lResp = getOMIM(list(resp['MIM Number']))"
   ]
  },
  {
   "cell_type": "markdown",
   "metadata": {},
   "source": [
    "<p>We remove disease not present in our database mapping disease and HPO terms<p>"
   ]
  },
  {
   "cell_type": "code",
   "execution_count": 61,
   "metadata": {},
   "outputs": [],
   "source": [
    "for i in lNeuro:\n",
    "    if i not in list(phen_to_genes['disease_id']):\n",
    "        lNeuro.remove(i)\n",
    "for i in lImmuno:\n",
    "    if i not in list(phen_to_genes['disease_id']):\n",
    "        lImmuno.remove(i)\n",
    "\n",
    "for i in lCardio:\n",
    "    if i not in list(phen_to_genes['disease_id']):\n",
    "        lCardio.remove(i)\n",
    "\n",
    "for i in lResp:\n",
    "    if i not in list(phen_to_genes['disease_id']):\n",
    "        lResp.remove(i)"
   ]
  },
  {
   "cell_type": "code",
   "execution_count": 62,
   "metadata": {},
   "outputs": [
    {
     "name": "stdout",
     "output_type": "stream",
     "text": [
      "185 189 191 190\n"
     ]
    }
   ],
   "source": [
    "print(len(lNeuro),len(lImmuno),len(lCardio),len(lResp))"
   ]
  },
  {
   "cell_type": "markdown",
   "metadata": {},
   "source": [
    "<p>How much overlap is there between disease in each group?</p>"
   ]
  },
  {
   "cell_type": "code",
   "execution_count": 63,
   "metadata": {},
   "outputs": [
    {
     "name": "stdout",
     "output_type": "stream",
     "text": [
      "22\n",
      "49\n",
      "38\n",
      "15\n",
      "34\n",
      "63\n"
     ]
    }
   ],
   "source": [
    "print(len(set.intersection(set(lNeuro),set(lImmuno))))\n",
    "print(len(set.intersection(set(lNeuro),set(lCardio))))\n",
    "print(len(set.intersection(set(lNeuro),set(lResp))))\n",
    "print(len(set.intersection(set(lImmuno),set(lCardio))))\n",
    "print(len(set.intersection(set(lImmuno),set(lResp))))\n",
    "print(len(set.intersection(set(lCardio),set(lResp))))"
   ]
  },
  {
   "cell_type": "code",
   "execution_count": 64,
   "metadata": {},
   "outputs": [],
   "source": [
    "def getHPOFromOMIM(l : List[str], data=phen_to_genes) -> dict:\n",
    "    '''\n",
    "    Gets list of disease and the phen_to_genes database and returns a \n",
    "    dictionary mapping each disease to their HPO terms\n",
    "    '''\n",
    "    d = dict((el,[]) for el in l)\n",
    "    \n",
    "    for i in range(len(data['hpo_id'])):\n",
    "        if data['disease_id'][i] in l:\n",
    "            d[data['disease_id'][i]].append(data['hpo_id'][i])\n",
    "    \n",
    "    return d"
   ]
  },
  {
   "cell_type": "code",
   "execution_count": 65,
   "metadata": {},
   "outputs": [],
   "source": [
    "dNeuro = getHPOFromOMIM(lNeuro)\n",
    "dImmuno = getHPOFromOMIM(lImmuno)\n",
    "dCardio = getHPOFromOMIM(lCardio)\n",
    "dResp = getHPOFromOMIM(lResp)"
   ]
  },
  {
   "cell_type": "code",
   "execution_count": 66,
   "metadata": {},
   "outputs": [],
   "source": [
    "def flatten(l : List[List]) -> List:\n",
    "    '''\n",
    "    Transforms a 2D array into a list\n",
    "    '''\n",
    "    return list(itertools.chain.from_iterable(l))"
   ]
  },
  {
   "cell_type": "code",
   "execution_count": 67,
   "metadata": {},
   "outputs": [],
   "source": [
    "HPONeuro = Counter(flatten(list(dNeuro.values())))\n",
    "HPOImmuno = Counter(flatten(list(dImmuno.values())))\n",
    "HPOCardio = Counter(flatten(list(dCardio.values())))\n",
    "HPOResp = Counter(flatten(list(dResp.values())))"
   ]
  },
  {
   "cell_type": "code",
   "execution_count": 68,
   "metadata": {},
   "outputs": [],
   "source": [
    "totalNum = HPONeuro + HPOImmuno + HPOCardio + HPOResp"
   ]
  },
  {
   "cell_type": "code",
   "execution_count": 69,
   "metadata": {},
   "outputs": [],
   "source": [
    "def sigmoid(x, a=-10, b=10):\n",
    "    '''\n",
    "    Gets a number x between between 0 and 1 and returns sigmoid(x),\n",
    "    where sigmoid is centered and resized around [0,1]\n",
    "    '''\n",
    "    x1 = (x * (b - a)) + a\n",
    "    return 1 / (1 + math.exp(-x1))"
   ]
  },
  {
   "cell_type": "code",
   "execution_count": 70,
   "metadata": {},
   "outputs": [
    {
     "data": {
      "text/plain": [
       "[<matplotlib.lines.Line2D at 0x12266ce80>]"
      ]
     },
     "execution_count": 70,
     "metadata": {},
     "output_type": "execute_result"
    },
    {
     "data": {
      "image/png": "[encoded data removed]",
      "text/plain": [
       "<Figure size 640x480 with 1 Axes>"
      ]
     },
     "metadata": {},
     "output_type": "display_data"
    }
   ],
   "source": [
    "x = np.arange(0.,1.,0.005)\n",
    "y = list(map(lambda x: sigmoid(x),x))\n",
    "plt.plot(x,y)"
   ]
  },
  {
   "cell_type": "markdown",
   "metadata": {},
   "source": [
    "<p>We assign a value to each HPO term in the following way:</p>\n",
    "<p>value = #HPOterm * sigmoid(p(HPOterm))</p>\n",
    "<p>Where #HPOterm is the numebr of times it appears in their group and p() the frequency of the term in their group</p>"
   ]
  },
  {
   "cell_type": "code",
   "execution_count": 71,
   "metadata": {},
   "outputs": [],
   "source": [
    "for i in HPONeuro.keys():\n",
    "    HPONeuro[i] = HPONeuro[i] * sigmoid(HPONeuro[i]/totalNum[i])\n",
    "\n",
    "for i in HPOImmuno.keys():\n",
    "    HPOImmuno[i] = HPOImmuno[i] * sigmoid(HPOImmuno[i]/totalNum[i])\n",
    "\n",
    "for i in HPOCardio.keys():\n",
    "    HPOCardio[i] = HPOCardio[i] * sigmoid(HPOCardio[i]/totalNum[i])\n",
    "\n",
    "for i in HPOResp.keys():\n",
    "    HPOResp[i] = HPOResp[i] * sigmoid(HPOResp[i]/totalNum[i])"
   ]
  },
  {
   "cell_type": "code",
   "execution_count": 72,
   "metadata": {},
   "outputs": [],
   "source": [
    "bestNeuro = sorted(HPONeuro, key=HPONeuro.get, reverse=True)\n",
    "bestImmuno = sorted(HPOImmuno, key=HPOImmuno.get, reverse=True)\n",
    "bestCardio = sorted(HPOCardio, key=HPOCardio.get, reverse=True)\n",
    "bestResp = sorted(HPOResp, key=HPOResp.get, reverse=True)"
   ]
  },
  {
   "cell_type": "markdown",
   "metadata": {},
   "source": [
    "<h3>Our comparison set of HPO will be selected by the first N HPO ordered by the value stated above</h3>"
   ]
  },
  {
   "cell_type": "code",
   "execution_count": 73,
   "metadata": {},
   "outputs": [],
   "source": [
    "N = 100\n",
    "t1 = bestNeuro[0:N]\n",
    "t2 = bestImmuno[0:N]\n",
    "t3 = bestCardio[0:N]\n",
    "t4 = bestResp[0:N]"
   ]
  },
  {
   "cell_type": "code",
   "execution_count": 74,
   "metadata": {},
   "outputs": [
    {
     "data": {
      "text/plain": [
       "['HP:0001417',\n",
       " 'HP:0001419',\n",
       " 'HP:0034434',\n",
       " 'HP:0001423',\n",
       " 'HP:0000718',\n",
       " 'HP:0001344',\n",
       " 'HP:0000750',\n",
       " 'HP:0002463',\n",
       " 'HP:0002167',\n",
       " 'HP:0001257']"
      ]
     },
     "execution_count": 74,
     "metadata": {},
     "output_type": "execute_result"
    }
   ],
   "source": [
    "t1[0:10]"
   ]
  },
  {
   "cell_type": "code",
   "execution_count": 75,
   "metadata": {},
   "outputs": [
    {
     "name": "stdout",
     "output_type": "stream",
     "text": [
      "0\n",
      "0\n",
      "0\n",
      "0\n",
      "0\n",
      "1\n"
     ]
    }
   ],
   "source": [
    "print(len(set.intersection(set(t1),set(t2))))\n",
    "print(len(set.intersection(set(t1),set(t3))))\n",
    "print(len(set.intersection(set(t1),set(t4))))\n",
    "print(len(set.intersection(set(t2),set(t3))))\n",
    "print(len(set.intersection(set(t2),set(t4))))\n",
    "print(len(set.intersection(set(t3),set(t4))))"
   ]
  },
  {
   "cell_type": "markdown",
   "metadata": {},
   "source": [
    "<h3>Tests</h3>"
   ]
  },
  {
   "cell_type": "code",
   "execution_count": 76,
   "metadata": {},
   "outputs": [],
   "source": [
    "tN = random.sample(flatten(list(dNeuro.values())), 40)"
   ]
  },
  {
   "cell_type": "code",
   "execution_count": 77,
   "metadata": {},
   "outputs": [
    {
     "name": "stdout",
     "output_type": "stream",
     "text": [
      "9.320887483799792\n",
      "9.103580434071882\n"
     ]
    }
   ],
   "source": [
    "response = requests.get('https://monarchinitiative.org/v3/api/semsim/compare/'+ prepareRequest([tN, t1]) + '?metric=ancestor_information_content')\n",
    "print(response.json()['average_score'])\n",
    "response = requests.get('https://monarchinitiative.org/v3/api/semsim/compare/'+ prepareRequest([tN, t4]) + '?metric=ancestor_information_content')\n",
    "print(response.json()['average_score'])"
   ]
  },
  {
   "cell_type": "markdown",
   "metadata": {},
   "source": [
    "<p>We select 40 random HPO terms from the Neuro group and compare it to the most significant HPO from groups Neuro and Immuno</p>"
   ]
  },
  {
   "cell_type": "code",
   "execution_count": 78,
   "metadata": {},
   "outputs": [],
   "source": [
    "N = 100\n",
    "rNeuro = []\n",
    "rImmuno = []\n",
    "for j in range(N):\n",
    "    tN = random.sample(flatten(list(dNeuro.values())), 40)\n",
    "\n",
    "    response = requests.get('https://monarchinitiative.org/v3/api/semsim/compare/'+ prepareRequest([tN, t1]) + '?metric=ancestor_information_content')\n",
    "    rNeuro.append(response.json()['average_score'])\n",
    "    response = requests.get('https://monarchinitiative.org/v3/api/semsim/compare/'+ prepareRequest([tN, t2]) + '?metric=ancestor_information_content')\n",
    "    rImmuno.append(response.json()['average_score'])"
   ]
  },
  {
   "cell_type": "markdown",
   "metadata": {},
   "source": [
    "<h3>Results</h3>"
   ]
  },
  {
   "cell_type": "code",
   "execution_count": 79,
   "metadata": {},
   "outputs": [
    {
     "data": {
      "image/png": "[encoded data removed]",
      "text/plain": [
       "<Figure size 640x480 with 1 Axes>"
      ]
     },
     "metadata": {},
     "output_type": "display_data"
    }
   ],
   "source": [
    "boxplot_data = [\n",
    "    rNeuro,\n",
    "    rImmuno\n",
    "]\n",
    "labels = ['Neuro', 'Immuno']\n",
    "\n",
    "fig, ax = plt.subplots()\n",
    "plt.title('Ancestor Information Content')\n",
    "ax.set_ylabel('Average score')\n",
    "\n",
    "bplot = ax.boxplot(boxplot_data,\n",
    "                   tick_labels=labels)\n",
    "\n",
    "plt.show()"
   ]
  },
  {
   "cell_type": "code",
   "execution_count": 80,
   "metadata": {},
   "outputs": [
    {
     "name": "stdout",
     "output_type": "stream",
     "text": [
      "Accuracy: 99%\n"
     ]
    }
   ],
   "source": [
    "j = 0\n",
    "for i in range(len(rNeuro)):\n",
    "    if rNeuro[i] > rImmuno[i]:\n",
    "        j +=1\n",
    "print(f'Accuracy: {j}%')"
   ]
  },
  {
   "cell_type": "code",
   "execution_count": 81,
   "metadata": {},
   "outputs": [],
   "source": [
    "N = 100\n",
    "rNeuro = []\n",
    "rCardio = []\n",
    "for j in range(N):\n",
    "    tN = random.sample(flatten(list(dNeuro.values())), 40)\n",
    "\n",
    "    response = requests.get('https://monarchinitiative.org/v3/api/semsim/compare/'+ prepareRequest([tN, t1]) + '?metric=ancestor_information_content')\n",
    "    rNeuro.append(response.json()['average_score'])\n",
    "    response = requests.get('https://monarchinitiative.org/v3/api/semsim/compare/'+ prepareRequest([tN, t3]) + '?metric=ancestor_information_content')\n",
    "    rCardio.append(response.json()['average_score'])"
   ]
  },
  {
   "cell_type": "code",
   "execution_count": 82,
   "metadata": {},
   "outputs": [
    {
     "data": {
      "image/png": "[encoded data removed]",
      "text/plain": [
       "<Figure size 640x480 with 1 Axes>"
      ]
     },
     "metadata": {},
     "output_type": "display_data"
    }
   ],
   "source": [
    "boxplot_data = [\n",
    "    rNeuro,\n",
    "    rCardio\n",
    "]\n",
    "labels = ['Neuro', 'Cardio']\n",
    "\n",
    "fig, ax = plt.subplots()\n",
    "plt.title('Ancestor Information Content')\n",
    "ax.set_ylabel('Average score')\n",
    "\n",
    "bplot = ax.boxplot(boxplot_data,\n",
    "                   tick_labels=labels)\n",
    "\n",
    "plt.show()"
   ]
  },
  {
   "cell_type": "code",
   "execution_count": 83,
   "metadata": {},
   "outputs": [
    {
     "name": "stdout",
     "output_type": "stream",
     "text": [
      "Accuracy: 93%\n"
     ]
    }
   ],
   "source": [
    "j = 0\n",
    "for i in range(len(rNeuro)):\n",
    "    if rNeuro[i] > rCardio[i]:\n",
    "        j +=1\n",
    "print(f'Accuracy: {j}%')"
   ]
  },
  {
   "cell_type": "markdown",
   "metadata": {},
   "source": [
    "<h3>We define setA as 40 random HPO from one of the four disease groups and compare it to the four most significant HPO sets</h3>"
   ]
  },
  {
   "cell_type": "code",
   "execution_count": 85,
   "metadata": {},
   "outputs": [],
   "source": [
    "N = 100\n",
    "matrix = [[],[],[],[]]\n",
    "mType = []\n",
    "types = [dNeuro,dImmuno,dCardio,dResp]\n",
    "random.seed(12)\n",
    "for j in range(N):\n",
    "    i = random.choice([0,1,2,3])\n",
    "    mType.append(i)\n",
    "    tN = random.sample(flatten(list(types[i].values())), 40)\n",
    "\n",
    "    response = requests.get('https://monarchinitiative.org/v3/api/semsim/compare/'+ prepareRequest([tN, t1]) + '?metric=ancestor_information_content')\n",
    "    matrix[0].append(response.json()['average_score'])\n",
    "    response = requests.get('https://monarchinitiative.org/v3/api/semsim/compare/'+ prepareRequest([tN, t2]) + '?metric=ancestor_information_content')\n",
    "    matrix[1].append(response.json()['average_score'])\n",
    "    response = requests.get('https://monarchinitiative.org/v3/api/semsim/compare/'+ prepareRequest([tN, t3]) + '?metric=ancestor_information_content')\n",
    "    matrix[2].append(response.json()['average_score'])\n",
    "    response = requests.get('https://monarchinitiative.org/v3/api/semsim/compare/'+ prepareRequest([tN, t4]) + '?metric=ancestor_information_content')\n",
    "    matrix[3].append(response.json()['average_score'])\n",
    "        "
   ]
  },
  {
   "cell_type": "markdown",
   "metadata": {},
   "source": [
    "<p>Results</p>"
   ]
  },
  {
   "cell_type": "code",
   "execution_count": 86,
   "metadata": {},
   "outputs": [
    {
     "name": "stdout",
     "output_type": "stream",
     "text": [
      "Accuracy: 77.0%\n"
     ]
    }
   ],
   "source": [
    "j = 0\n",
    "for i in range(len(matrix[0])):\n",
    "    l = [matrix[0][i],matrix[1][i],matrix[2][i],matrix[3][i]]\n",
    "    m = max(range(len(l)), key=l.__getitem__)\n",
    "    if m == mType[i]:\n",
    "        j += 1\n",
    "\n",
    "print(f'Accuracy: {j/N*100}%')"
   ]
  },
  {
   "cell_type": "markdown",
   "metadata": {},
   "source": [
    "<p>Target set N=20 Most Significant Sets N = 100</p>"
   ]
  },
  {
   "cell_type": "code",
   "execution_count": 87,
   "metadata": {},
   "outputs": [],
   "source": [
    "N = 100\n",
    "matrix = [[],[],[],[]]\n",
    "mType = []\n",
    "types = [dNeuro,dImmuno,dCardio,dResp]\n",
    "random.seed(12)\n",
    "for j in range(N):\n",
    "    i = random.choice([0,1,2,3])\n",
    "    mType.append(i)\n",
    "    tN = random.sample(flatten(list(types[i].values())), 20)\n",
    "\n",
    "    response = requests.get('https://monarchinitiative.org/v3/api/semsim/compare/'+ prepareRequest([tN, t1]) + '?metric=ancestor_information_content')\n",
    "    matrix[0].append(response.json()['average_score'])\n",
    "    response = requests.get('https://monarchinitiative.org/v3/api/semsim/compare/'+ prepareRequest([tN, t2]) + '?metric=ancestor_information_content')\n",
    "    matrix[1].append(response.json()['average_score'])\n",
    "    response = requests.get('https://monarchinitiative.org/v3/api/semsim/compare/'+ prepareRequest([tN, t3]) + '?metric=ancestor_information_content')\n",
    "    matrix[2].append(response.json()['average_score'])\n",
    "    response = requests.get('https://monarchinitiative.org/v3/api/semsim/compare/'+ prepareRequest([tN, t4]) + '?metric=ancestor_information_content')\n",
    "    matrix[3].append(response.json()['average_score'])"
   ]
  },
  {
   "cell_type": "code",
   "execution_count": 88,
   "metadata": {},
   "outputs": [
    {
     "name": "stdout",
     "output_type": "stream",
     "text": [
      "Accuracy: 67.0%\n"
     ]
    }
   ],
   "source": [
    "j = 0\n",
    "for i in range(len(matrix[0])):\n",
    "    l = [matrix[0][i],matrix[1][i],matrix[2][i],matrix[3][i]]\n",
    "    m = max(range(len(l)), key=l.__getitem__)\n",
    "    if m == mType[i]:\n",
    "        j += 1\n",
    "\n",
    "print(f'Accuracy: {j/N*100}%')"
   ]
  },
  {
   "cell_type": "code",
   "execution_count": 89,
   "metadata": {},
   "outputs": [],
   "source": [
    "N = 500\n",
    "t1 = bestNeuro[0:N]\n",
    "t2 = bestImmuno[0:N]\n",
    "t3 = bestCardio[0:N]\n",
    "t4 = bestResp[0:N]"
   ]
  },
  {
   "cell_type": "markdown",
   "metadata": {},
   "source": [
    "<p>Target set N=40 Most Significant Sets N = 500</p>"
   ]
  },
  {
   "cell_type": "code",
   "execution_count": null,
   "metadata": {},
   "outputs": [],
   "source": [
    "N = 100\n",
    "matrix = [[],[],[],[]]\n",
    "mType = []\n",
    "types = [dNeuro,dImmuno,dCardio,dResp]\n",
    "random.seed(12)\n",
    "for j in range(N):\n",
    "    i = random.choice([0,1,2,3])\n",
    "    mType.append(i)\n",
    "    tN = random.sample(flatten(list(types[i].values())), 40)\n",
    "\n",
    "    response = requests.get('https://monarchinitiative.org/v3/api/semsim/compare/'+ prepareRequest([tN, t1]) + '?metric=ancestor_information_content')\n",
    "    matrix[0].append(response.json()['average_score'])\n",
    "    response = requests.get('https://monarchinitiative.org/v3/api/semsim/compare/'+ prepareRequest([tN, t2]) + '?metric=ancestor_information_content')\n",
    "    matrix[1].append(response.json()['average_score'])\n",
    "    response = requests.get('https://monarchinitiative.org/v3/api/semsim/compare/'+ prepareRequest([tN, t3]) + '?metric=ancestor_information_content')\n",
    "    matrix[2].append(response.json()['average_score'])\n",
    "    response = requests.get('https://monarchinitiative.org/v3/api/semsim/compare/'+ prepareRequest([tN, t4]) + '?metric=ancestor_information_content')\n",
    "    matrix[3].append(response.json()['average_score'])"
   ]
  },
  {
   "cell_type": "code",
   "execution_count": null,
   "metadata": {},
   "outputs": [],
   "source": [
    "j = 0\n",
    "for i in range(len(matrix[0])):\n",
    "    l = [matrix[0][i],matrix[1][i],matrix[2][i],matrix[3][i]]\n",
    "    m = max(range(len(l)), key=l.__getitem__)\n",
    "    if m == mType[i]:\n",
    "        j += 1\n",
    "\n",
    "print(f'Accuracy: {j/N*100}%')"
   ]
  },
  {
   "cell_type": "markdown",
   "metadata": {},
   "source": [
    "<p>Target set N=20 Most Significant Sets N = 500</p>"
   ]
  },
  {
   "cell_type": "code",
   "execution_count": null,
   "metadata": {},
   "outputs": [],
   "source": [
    "N = 100\n",
    "matrix = [[],[],[],[]]\n",
    "mType = []\n",
    "types = [dNeuro,dImmuno,dCardio,dResp]\n",
    "random.seed(12)\n",
    "for j in range(N):\n",
    "    i = random.choice([0,1,2,3])\n",
    "    mType.append(i)\n",
    "    tN = random.sample(flatten(list(types[i].values())), 20)\n",
    "\n",
    "    response = requests.get('https://monarchinitiative.org/v3/api/semsim/compare/'+ prepareRequest([tN, t1]) + '?metric=ancestor_information_content')\n",
    "    matrix[0].append(response.json()['average_score'])\n",
    "    response = requests.get('https://monarchinitiative.org/v3/api/semsim/compare/'+ prepareRequest([tN, t2]) + '?metric=ancestor_information_content')\n",
    "    matrix[1].append(response.json()['average_score'])\n",
    "    response = requests.get('https://monarchinitiative.org/v3/api/semsim/compare/'+ prepareRequest([tN, t3]) + '?metric=ancestor_information_content')\n",
    "    matrix[2].append(response.json()['average_score'])\n",
    "    response = requests.get('https://monarchinitiative.org/v3/api/semsim/compare/'+ prepareRequest([tN, t4]) + '?metric=ancestor_information_content')\n",
    "    matrix[3].append(response.json()['average_score'])"
   ]
  },
  {
   "cell_type": "code",
   "execution_count": null,
   "metadata": {},
   "outputs": [],
   "source": [
    "j = 0\n",
    "for i in range(len(matrix[0])):\n",
    "    l = [matrix[0][i],matrix[1][i],matrix[2][i],matrix[3][i]]\n",
    "    m = max(range(len(l)), key=l.__getitem__)\n",
    "    if m == mType[i]:\n",
    "        j += 1\n",
    "\n",
    "print(f'Accuracy: {j/N*100}%')"
   ]
  },
  {
   "cell_type": "markdown",
   "metadata": {},
   "source": [
    "<p>Most Significant Test AIC scores for N=100 and N=300</p>"
   ]
  },
  {
   "cell_type": "code",
   "execution_count": null,
   "metadata": {},
   "outputs": [],
   "source": [
    "response = requests.get('https://monarchinitiative.org/v3/api/semsim/compare/'+ prepareRequest([t1, t2]) + '?metric=ancestor_information_content')\n",
    "print(response.json()['average_score'])\n",
    "response = requests.get('https://monarchinitiative.org/v3/api/semsim/compare/'+ prepareRequest([t1, t3]) + '?metric=ancestor_information_content')\n",
    "print(response.json()['average_score'])\n",
    "response = requests.get('https://monarchinitiative.org/v3/api/semsim/compare/'+ prepareRequest([t1, t4]) + '?metric=ancestor_information_content')\n",
    "print(response.json()['average_score'])\n",
    "response = requests.get('https://monarchinitiative.org/v3/api/semsim/compare/'+ prepareRequest([t2, t3]) + '?metric=ancestor_information_content')\n",
    "print(response.json()['average_score'])\n",
    "response = requests.get('https://monarchinitiative.org/v3/api/semsim/compare/'+ prepareRequest([t2, t4]) + '?metric=ancestor_information_content')\n",
    "print(response.json()['average_score'])\n",
    "response = requests.get('https://monarchinitiative.org/v3/api/semsim/compare/'+ prepareRequest([t3, t4]) + '?metric=ancestor_information_content')\n",
    "print(response.json()['average_score'])"
   ]
  },
  {
   "cell_type": "code",
   "execution_count": null,
   "metadata": {},
   "outputs": [],
   "source": [
    "N = 300\n",
    "t1 = bestNeuro[0:N]\n",
    "t2 = bestImmuno[0:N]\n",
    "t3 = bestCardio[0:N]\n",
    "t4 = bestResp[0:N]"
   ]
  },
  {
   "cell_type": "code",
   "execution_count": null,
   "metadata": {},
   "outputs": [],
   "source": [
    "response = requests.get('https://monarchinitiative.org/v3/api/semsim/compare/'+ prepareRequest([t1, t2]) + '?metric=ancestor_information_content')\n",
    "print(response.json()['average_score'])\n",
    "response = requests.get('https://monarchinitiative.org/v3/api/semsim/compare/'+ prepareRequest([t1, t3]) + '?metric=ancestor_information_content')\n",
    "print(response.json()['average_score'])\n",
    "response = requests.get('https://monarchinitiative.org/v3/api/semsim/compare/'+ prepareRequest([t1, t4]) + '?metric=ancestor_information_content')\n",
    "print(response.json()['average_score'])\n",
    "response = requests.get('https://monarchinitiative.org/v3/api/semsim/compare/'+ prepareRequest([t2, t3]) + '?metric=ancestor_information_content')\n",
    "print(response.json()['average_score'])\n",
    "response = requests.get('https://monarchinitiative.org/v3/api/semsim/compare/'+ prepareRequest([t2, t4]) + '?metric=ancestor_information_content')\n",
    "print(response.json()['average_score'])\n",
    "response = requests.get('https://monarchinitiative.org/v3/api/semsim/compare/'+ prepareRequest([t3, t4]) + '?metric=ancestor_information_content')\n",
    "print(response.json()['average_score'])"
   ]
  }
 ],
 "metadata": {
  "kernelspec": {
   "display_name": "Python 3 (ipykernel)",
   "language": "python",
   "name": "python3"
  },
  "language_info": {
   "codemirror_mode": {
    "name": "ipython",
    "version": 3
   },
   "file_extension": ".py",
   "mimetype": "text/x-python",
   "name": "python",
   "nbconvert_exporter": "python",
   "pygments_lexer": "ipython3",
   "version": "3.10.5"
  }
 },
 "nbformat": 4,
 "nbformat_minor": 4
}
